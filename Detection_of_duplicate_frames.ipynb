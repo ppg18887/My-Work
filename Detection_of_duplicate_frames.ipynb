{
  "nbformat": 4,
  "nbformat_minor": 0,
  "metadata": {
    "colab": {
      "provenance": []
    },
    "kernelspec": {
      "name": "python3",
      "display_name": "Python 3"
    },
    "language_info": {
      "name": "python"
    }
  },
  "cells": [
    {
      "cell_type": "code",
      "execution_count": 1,
      "metadata": {
        "id": "63cXFQUYLOz9",
        "colab": {
          "base_uri": "https://localhost:8080/"
        },
        "outputId": "4840d125-10ed-418f-c236-72b12d54160b"
      },
      "outputs": [
        {
          "output_type": "stream",
          "name": "stdout",
          "text": [
            "Creating..../data/frame0.jpg\n",
            "Creating..../data/frame1.jpg\n",
            "Creating..../data/frame2.jpg\n",
            "Creating..../data/frame3.jpg\n",
            "Creating..../data/frame4.jpg\n",
            "Creating..../data/frame5.jpg\n",
            "Creating..../data/frame6.jpg\n",
            "Creating..../data/frame7.jpg\n",
            "Creating..../data/frame8.jpg\n",
            "Creating..../data/frame9.jpg\n",
            "Creating..../data/frame10.jpg\n",
            "Creating..../data/frame11.jpg\n",
            "Creating..../data/frame12.jpg\n",
            "Creating..../data/frame13.jpg\n",
            "Creating..../data/frame14.jpg\n",
            "Creating..../data/frame15.jpg\n",
            "Creating..../data/frame16.jpg\n",
            "Creating..../data/frame17.jpg\n",
            "Creating..../data/frame18.jpg\n",
            "Creating..../data/frame19.jpg\n",
            "Creating..../data/frame20.jpg\n",
            "Creating..../data/frame21.jpg\n",
            "Creating..../data/frame22.jpg\n",
            "Creating..../data/frame23.jpg\n",
            "Creating..../data/frame24.jpg\n",
            "Creating..../data/frame25.jpg\n",
            "Creating..../data/frame26.jpg\n",
            "Creating..../data/frame27.jpg\n",
            "Creating..../data/frame28.jpg\n",
            "Creating..../data/frame29.jpg\n",
            "Creating..../data/frame30.jpg\n",
            "Creating..../data/frame31.jpg\n",
            "Creating..../data/frame32.jpg\n",
            "Creating..../data/frame33.jpg\n",
            "Creating..../data/frame34.jpg\n",
            "Creating..../data/frame35.jpg\n",
            "Creating..../data/frame36.jpg\n",
            "Creating..../data/frame37.jpg\n",
            "Creating..../data/frame38.jpg\n",
            "Creating..../data/frame39.jpg\n",
            "Creating..../data/frame40.jpg\n",
            "Creating..../data/frame41.jpg\n",
            "Creating..../data/frame42.jpg\n",
            "Creating..../data/frame43.jpg\n",
            "Creating..../data/frame44.jpg\n",
            "Creating..../data/frame45.jpg\n",
            "Creating..../data/frame46.jpg\n",
            "Creating..../data/frame47.jpg\n",
            "Creating..../data/frame48.jpg\n",
            "Creating..../data/frame49.jpg\n",
            "Creating..../data/frame50.jpg\n",
            "Creating..../data/frame51.jpg\n",
            "Creating..../data/frame52.jpg\n",
            "Creating..../data/frame53.jpg\n",
            "Creating..../data/frame54.jpg\n",
            "Creating..../data/frame55.jpg\n",
            "Creating..../data/frame56.jpg\n",
            "Creating..../data/frame57.jpg\n",
            "Creating..../data/frame58.jpg\n",
            "Creating..../data/frame59.jpg\n",
            "Creating..../data/frame60.jpg\n",
            "Creating..../data/frame61.jpg\n",
            "Creating..../data/frame62.jpg\n",
            "Creating..../data/frame63.jpg\n",
            "Creating..../data/frame64.jpg\n",
            "Creating..../data/frame65.jpg\n",
            "Creating..../data/frame66.jpg\n",
            "Creating..../data/frame67.jpg\n",
            "Creating..../data/frame68.jpg\n",
            "Creating..../data/frame69.jpg\n",
            "Creating..../data/frame70.jpg\n",
            "Creating..../data/frame71.jpg\n",
            "Creating..../data/frame72.jpg\n",
            "Creating..../data/frame73.jpg\n",
            "Creating..../data/frame74.jpg\n",
            "Creating..../data/frame75.jpg\n",
            "Creating..../data/frame76.jpg\n",
            "Creating..../data/frame77.jpg\n",
            "Creating..../data/frame78.jpg\n",
            "Creating..../data/frame79.jpg\n",
            "Creating..../data/frame80.jpg\n",
            "Creating..../data/frame81.jpg\n",
            "Creating..../data/frame82.jpg\n",
            "Creating..../data/frame83.jpg\n",
            "Creating..../data/frame84.jpg\n",
            "Creating..../data/frame85.jpg\n",
            "Creating..../data/frame86.jpg\n",
            "Creating..../data/frame87.jpg\n",
            "Creating..../data/frame88.jpg\n",
            "Creating..../data/frame89.jpg\n",
            "Creating..../data/frame90.jpg\n",
            "Creating..../data/frame91.jpg\n",
            "Creating..../data/frame92.jpg\n",
            "Creating..../data/frame93.jpg\n",
            "Creating..../data/frame94.jpg\n",
            "Creating..../data/frame95.jpg\n",
            "Creating..../data/frame96.jpg\n",
            "Creating..../data/frame97.jpg\n",
            "Creating..../data/frame98.jpg\n",
            "Creating..../data/frame99.jpg\n",
            "Creating..../data/frame100.jpg\n",
            "Creating..../data/frame101.jpg\n",
            "Creating..../data/frame102.jpg\n",
            "Creating..../data/frame103.jpg\n",
            "Creating..../data/frame104.jpg\n",
            "Creating..../data/frame105.jpg\n",
            "Creating..../data/frame106.jpg\n",
            "Creating..../data/frame107.jpg\n",
            "Creating..../data/frame108.jpg\n",
            "Creating..../data/frame109.jpg\n",
            "Creating..../data/frame110.jpg\n",
            "Creating..../data/frame111.jpg\n",
            "Creating..../data/frame112.jpg\n",
            "Creating..../data/frame113.jpg\n",
            "Creating..../data/frame114.jpg\n",
            "Creating..../data/frame115.jpg\n",
            "Creating..../data/frame116.jpg\n",
            "Creating..../data/frame117.jpg\n",
            "Creating..../data/frame118.jpg\n",
            "Creating..../data/frame119.jpg\n",
            "Creating..../data/frame120.jpg\n",
            "Creating..../data/frame121.jpg\n",
            "Creating..../data/frame122.jpg\n",
            "Creating..../data/frame123.jpg\n",
            "Creating..../data/frame124.jpg\n",
            "Creating..../data/frame125.jpg\n",
            "Creating..../data/frame126.jpg\n",
            "Creating..../data/frame127.jpg\n",
            "Creating..../data/frame128.jpg\n",
            "Creating..../data/frame129.jpg\n",
            "Creating..../data/frame130.jpg\n",
            "Creating..../data/frame131.jpg\n"
          ]
        }
      ],
      "source": [
        "# Importing all necessary libraries\n",
        "import cv2\n",
        "import os\n",
        "\n",
        "# Read the video from specified path\n",
        "cam = cv2.VideoCapture(\"/content/vid3.avi\")\n",
        "\n",
        "try:\n",
        "\t\n",
        "\t# creating a folder named data\n",
        "\tif not os.path.exists('data'):\n",
        "\t\tos.makedirs('data')\n",
        "\n",
        "# if not created then raise error\n",
        "except OSError:\n",
        "\tprint ('Error: Creating directory of data')\n",
        "\n",
        "# frame\n",
        "currentframe = 0\n",
        "\n",
        "while(True):\n",
        "\t\n",
        "\t# reading from frame\n",
        "\tret,frame = cam.read()\n",
        "\n",
        "\tif ret:\n",
        "\t\t# if video is still left continue creating images\n",
        "\t\tname = './data/frame' + str(currentframe) + '.jpg'\n",
        "\t\tprint ('Creating...' + name)\n",
        "\n",
        "\t\t# writing the extracted images\n",
        "\t\tcv2.imwrite(name, frame)\n",
        "\n",
        "\t\t# increasing counter so that it will\n",
        "\t\t# show how many frames are created\n",
        "\t\tcurrentframe += 1\n",
        "\telse:\n",
        "\t\tbreak\n",
        "\n",
        "# Release all space and windows once done\n",
        "cam.release()\n",
        "cv2.destroyAllWindows()\n"
      ]
    },
    {
      "cell_type": "code",
      "source": [
        "!pip install moviepy\n",
        "!pip install imageio==2.4.1"
      ],
      "metadata": {
        "colab": {
          "base_uri": "https://localhost:8080/"
        },
        "id": "oWqjUAJa1x1W",
        "outputId": "acbe16ff-77bd-472d-e332-28d791b9f473"
      },
      "execution_count": 2,
      "outputs": [
        {
          "output_type": "stream",
          "name": "stdout",
          "text": [
            "Looking in indexes: https://pypi.org/simple, https://us-python.pkg.dev/colab-wheels/public/simple/\n",
            "Requirement already satisfied: moviepy in /usr/local/lib/python3.9/dist-packages (1.0.3)\n",
            "Requirement already satisfied: decorator<5.0,>=4.0.2 in /usr/local/lib/python3.9/dist-packages (from moviepy) (4.4.2)\n",
            "Requirement already satisfied: requests<3.0,>=2.8.1 in /usr/local/lib/python3.9/dist-packages (from moviepy) (2.27.1)\n",
            "Requirement already satisfied: tqdm<5.0,>=4.11.2 in /usr/local/lib/python3.9/dist-packages (from moviepy) (4.65.0)\n",
            "Requirement already satisfied: numpy>=1.17.3 in /usr/local/lib/python3.9/dist-packages (from moviepy) (1.22.4)\n",
            "Requirement already satisfied: imageio-ffmpeg>=0.2.0 in /usr/local/lib/python3.9/dist-packages (from moviepy) (0.4.8)\n",
            "Requirement already satisfied: proglog<=1.0.0 in /usr/local/lib/python3.9/dist-packages (from moviepy) (0.1.10)\n",
            "Requirement already satisfied: imageio<3.0,>=2.5 in /usr/local/lib/python3.9/dist-packages (from moviepy) (2.25.1)\n",
            "Requirement already satisfied: pillow>=8.3.2 in /usr/local/lib/python3.9/dist-packages (from imageio<3.0,>=2.5->moviepy) (8.4.0)\n",
            "Requirement already satisfied: certifi>=2017.4.17 in /usr/local/lib/python3.9/dist-packages (from requests<3.0,>=2.8.1->moviepy) (2022.12.7)\n",
            "Requirement already satisfied: charset-normalizer~=2.0.0 in /usr/local/lib/python3.9/dist-packages (from requests<3.0,>=2.8.1->moviepy) (2.0.12)\n",
            "Requirement already satisfied: idna<4,>=2.5 in /usr/local/lib/python3.9/dist-packages (from requests<3.0,>=2.8.1->moviepy) (3.4)\n",
            "Requirement already satisfied: urllib3<1.27,>=1.21.1 in /usr/local/lib/python3.9/dist-packages (from requests<3.0,>=2.8.1->moviepy) (1.26.15)\n",
            "Looking in indexes: https://pypi.org/simple, https://us-python.pkg.dev/colab-wheels/public/simple/\n",
            "Collecting imageio==2.4.1\n",
            "  Downloading imageio-2.4.1.tar.gz (3.3 MB)\n",
            "\u001b[2K     \u001b[90m━━━━━━━━━━━━━━━━━━━━━━━━━━━━━━━━━━━━━━━━\u001b[0m \u001b[32m3.3/3.3 MB\u001b[0m \u001b[31m34.0 MB/s\u001b[0m eta \u001b[36m0:00:00\u001b[0m\n",
            "\u001b[?25h  Preparing metadata (setup.py) ... \u001b[?25l\u001b[?25hdone\n",
            "Requirement already satisfied: numpy in /usr/local/lib/python3.9/dist-packages (from imageio==2.4.1) (1.22.4)\n",
            "Requirement already satisfied: pillow in /usr/local/lib/python3.9/dist-packages (from imageio==2.4.1) (8.4.0)\n",
            "Building wheels for collected packages: imageio\n",
            "  Building wheel for imageio (setup.py) ... \u001b[?25l\u001b[?25hdone\n",
            "  Created wheel for imageio: filename=imageio-2.4.1-py3-none-any.whl size=3303886 sha256=40f1d02ab3f5ead8d3451de4df42fa42368647330f9cb5f0b96d1fe63544f5c9\n",
            "  Stored in directory: /root/.cache/pip/wheels/b7/44/b7/2e7cc9c5fe4a893b9cc83a010d4410557bedf6cf3b5829f497\n",
            "Successfully built imageio\n",
            "Installing collected packages: imageio\n",
            "  Attempting uninstall: imageio\n",
            "    Found existing installation: imageio 2.25.1\n",
            "    Uninstalling imageio-2.25.1:\n",
            "      Successfully uninstalled imageio-2.25.1\n",
            "\u001b[31mERROR: pip's dependency resolver does not currently take into account all the packages that are installed. This behaviour is the source of the following dependency conflicts.\n",
            "moviepy 1.0.3 requires imageio<3.0,>=2.5; python_version >= \"3.4\", but you have imageio 2.4.1 which is incompatible.\u001b[0m\u001b[31m\n",
            "\u001b[0mSuccessfully installed imageio-2.4.1\n"
          ]
        }
      ]
    },
    {
      "cell_type": "markdown",
      "source": [
        "Stroing frames and time stamp values as key value pairs"
      ],
      "metadata": {
        "id": "xPnAuw13MroB"
      }
    },
    {
      "cell_type": "code",
      "source": [
        "import sys\n",
        "import numpy as np\n",
        "import cv2\n",
        "import moviepy.editor as mpy\n",
        "from matplotlib import pyplot as plt\n",
        "\n",
        "vid = mpy.VideoFileClip('/content/vid3.avi')\n",
        "time_stamp=[]\n",
        "names=[]\n",
        "currentframe=0\n",
        "for i, (tstamp, frame) in enumerate(vid.iter_frames(with_times=True)):\n",
        "  #print(\"Frame no: \"+str(i)+\" with time stamp \"+str(round(tstamp%60,2)))\n",
        "  name='/content/data/frame' + str(i) + '.jpg'\n",
        "  names.append(name)\n",
        "  cv2.imwrite(name,frame)\n",
        "  time_stamp.insert(i,round(tstamp%60,2))\n",
        "#print(names)\n",
        "#print(\"Timestamp of videos is \",time_stamp)\n",
        "time_frames=dict(zip(names,time_stamp))\n",
        "print(dict(zip(names,time_stamp)))\n",
        "print(\"Length\",len(time_stamp))\n",
        "#duration of a single frame\n",
        "duration=np.diff(time_stamp)\n",
        "print(\"Duration of each video frames\",duration)\n",
        "print(\"Mean of duration \",np.mean(duration))"
      ],
      "metadata": {
        "colab": {
          "base_uri": "https://localhost:8080/"
        },
        "id": "HwKoxH8m13uG",
        "outputId": "ba13c223-0c89-44b3-f1aa-aa32b33d7320"
      },
      "execution_count": 3,
      "outputs": [
        {
          "output_type": "stream",
          "name": "stdout",
          "text": [
            "{'/content/data/frame0.jpg': 0.0, '/content/data/frame1.jpg': 0.04, '/content/data/frame2.jpg': 0.08, '/content/data/frame3.jpg': 0.12, '/content/data/frame4.jpg': 0.16, '/content/data/frame5.jpg': 0.2, '/content/data/frame6.jpg': 0.24, '/content/data/frame7.jpg': 0.28, '/content/data/frame8.jpg': 0.32, '/content/data/frame9.jpg': 0.36, '/content/data/frame10.jpg': 0.4, '/content/data/frame11.jpg': 0.44, '/content/data/frame12.jpg': 0.48, '/content/data/frame13.jpg': 0.52, '/content/data/frame14.jpg': 0.56, '/content/data/frame15.jpg': 0.6, '/content/data/frame16.jpg': 0.64, '/content/data/frame17.jpg': 0.68, '/content/data/frame18.jpg': 0.72, '/content/data/frame19.jpg': 0.76, '/content/data/frame20.jpg': 0.8, '/content/data/frame21.jpg': 0.84, '/content/data/frame22.jpg': 0.88, '/content/data/frame23.jpg': 0.92, '/content/data/frame24.jpg': 0.96, '/content/data/frame25.jpg': 1.0, '/content/data/frame26.jpg': 1.04, '/content/data/frame27.jpg': 1.08, '/content/data/frame28.jpg': 1.12, '/content/data/frame29.jpg': 1.16, '/content/data/frame30.jpg': 1.2, '/content/data/frame31.jpg': 1.24, '/content/data/frame32.jpg': 1.28, '/content/data/frame33.jpg': 1.32, '/content/data/frame34.jpg': 1.36, '/content/data/frame35.jpg': 1.4, '/content/data/frame36.jpg': 1.44, '/content/data/frame37.jpg': 1.48, '/content/data/frame38.jpg': 1.52, '/content/data/frame39.jpg': 1.56, '/content/data/frame40.jpg': 1.6, '/content/data/frame41.jpg': 1.64, '/content/data/frame42.jpg': 1.68, '/content/data/frame43.jpg': 1.72, '/content/data/frame44.jpg': 1.76, '/content/data/frame45.jpg': 1.8, '/content/data/frame46.jpg': 1.84, '/content/data/frame47.jpg': 1.88, '/content/data/frame48.jpg': 1.92, '/content/data/frame49.jpg': 1.96, '/content/data/frame50.jpg': 2.0, '/content/data/frame51.jpg': 2.04, '/content/data/frame52.jpg': 2.08, '/content/data/frame53.jpg': 2.12, '/content/data/frame54.jpg': 2.16, '/content/data/frame55.jpg': 2.2, '/content/data/frame56.jpg': 2.24, '/content/data/frame57.jpg': 2.28, '/content/data/frame58.jpg': 2.32, '/content/data/frame59.jpg': 2.36, '/content/data/frame60.jpg': 2.4, '/content/data/frame61.jpg': 2.44, '/content/data/frame62.jpg': 2.48, '/content/data/frame63.jpg': 2.52, '/content/data/frame64.jpg': 2.56, '/content/data/frame65.jpg': 2.6, '/content/data/frame66.jpg': 2.64, '/content/data/frame67.jpg': 2.68, '/content/data/frame68.jpg': 2.72, '/content/data/frame69.jpg': 2.76, '/content/data/frame70.jpg': 2.8, '/content/data/frame71.jpg': 2.84, '/content/data/frame72.jpg': 2.88, '/content/data/frame73.jpg': 2.92, '/content/data/frame74.jpg': 2.96, '/content/data/frame75.jpg': 3.0, '/content/data/frame76.jpg': 3.04, '/content/data/frame77.jpg': 3.08, '/content/data/frame78.jpg': 3.12, '/content/data/frame79.jpg': 3.16, '/content/data/frame80.jpg': 3.2, '/content/data/frame81.jpg': 3.24, '/content/data/frame82.jpg': 3.28, '/content/data/frame83.jpg': 3.32, '/content/data/frame84.jpg': 3.36, '/content/data/frame85.jpg': 3.4, '/content/data/frame86.jpg': 3.44, '/content/data/frame87.jpg': 3.48, '/content/data/frame88.jpg': 3.52, '/content/data/frame89.jpg': 3.56, '/content/data/frame90.jpg': 3.6, '/content/data/frame91.jpg': 3.64, '/content/data/frame92.jpg': 3.68, '/content/data/frame93.jpg': 3.72, '/content/data/frame94.jpg': 3.76, '/content/data/frame95.jpg': 3.8, '/content/data/frame96.jpg': 3.84, '/content/data/frame97.jpg': 3.88, '/content/data/frame98.jpg': 3.92, '/content/data/frame99.jpg': 3.96, '/content/data/frame100.jpg': 4.0, '/content/data/frame101.jpg': 4.04, '/content/data/frame102.jpg': 4.08, '/content/data/frame103.jpg': 4.12, '/content/data/frame104.jpg': 4.16, '/content/data/frame105.jpg': 4.2, '/content/data/frame106.jpg': 4.24, '/content/data/frame107.jpg': 4.28, '/content/data/frame108.jpg': 4.32, '/content/data/frame109.jpg': 4.36, '/content/data/frame110.jpg': 4.4, '/content/data/frame111.jpg': 4.44, '/content/data/frame112.jpg': 4.48, '/content/data/frame113.jpg': 4.52, '/content/data/frame114.jpg': 4.56, '/content/data/frame115.jpg': 4.6, '/content/data/frame116.jpg': 4.64, '/content/data/frame117.jpg': 4.68, '/content/data/frame118.jpg': 4.72, '/content/data/frame119.jpg': 4.76, '/content/data/frame120.jpg': 4.8, '/content/data/frame121.jpg': 4.84, '/content/data/frame122.jpg': 4.88, '/content/data/frame123.jpg': 4.92, '/content/data/frame124.jpg': 4.96, '/content/data/frame125.jpg': 5.0, '/content/data/frame126.jpg': 5.04, '/content/data/frame127.jpg': 5.08, '/content/data/frame128.jpg': 5.12, '/content/data/frame129.jpg': 5.16, '/content/data/frame130.jpg': 5.2, '/content/data/frame131.jpg': 5.24}\n",
            "Length 132\n",
            "Duration of each video frames [0.04 0.04 0.04 0.04 0.04 0.04 0.04 0.04 0.04 0.04 0.04 0.04 0.04 0.04\n",
            " 0.04 0.04 0.04 0.04 0.04 0.04 0.04 0.04 0.04 0.04 0.04 0.04 0.04 0.04\n",
            " 0.04 0.04 0.04 0.04 0.04 0.04 0.04 0.04 0.04 0.04 0.04 0.04 0.04 0.04\n",
            " 0.04 0.04 0.04 0.04 0.04 0.04 0.04 0.04 0.04 0.04 0.04 0.04 0.04 0.04\n",
            " 0.04 0.04 0.04 0.04 0.04 0.04 0.04 0.04 0.04 0.04 0.04 0.04 0.04 0.04\n",
            " 0.04 0.04 0.04 0.04 0.04 0.04 0.04 0.04 0.04 0.04 0.04 0.04 0.04 0.04\n",
            " 0.04 0.04 0.04 0.04 0.04 0.04 0.04 0.04 0.04 0.04 0.04 0.04 0.04 0.04\n",
            " 0.04 0.04 0.04 0.04 0.04 0.04 0.04 0.04 0.04 0.04 0.04 0.04 0.04 0.04\n",
            " 0.04 0.04 0.04 0.04 0.04 0.04 0.04 0.04 0.04 0.04 0.04 0.04 0.04 0.04\n",
            " 0.04 0.04 0.04 0.04 0.04]\n",
            "Mean of duration  0.04\n"
          ]
        }
      ]
    },
    {
      "cell_type": "code",
      "source": [
        "\n",
        "time_frames.items()"
      ],
      "metadata": {
        "colab": {
          "base_uri": "https://localhost:8080/"
        },
        "id": "Cun7kWsk0jdl",
        "outputId": "d5c1a164-159f-42e6-dcee-8ce1331ffb94"
      },
      "execution_count": 4,
      "outputs": [
        {
          "output_type": "execute_result",
          "data": {
            "text/plain": [
              "dict_items([('/content/data/frame0.jpg', 0.0), ('/content/data/frame1.jpg', 0.04), ('/content/data/frame2.jpg', 0.08), ('/content/data/frame3.jpg', 0.12), ('/content/data/frame4.jpg', 0.16), ('/content/data/frame5.jpg', 0.2), ('/content/data/frame6.jpg', 0.24), ('/content/data/frame7.jpg', 0.28), ('/content/data/frame8.jpg', 0.32), ('/content/data/frame9.jpg', 0.36), ('/content/data/frame10.jpg', 0.4), ('/content/data/frame11.jpg', 0.44), ('/content/data/frame12.jpg', 0.48), ('/content/data/frame13.jpg', 0.52), ('/content/data/frame14.jpg', 0.56), ('/content/data/frame15.jpg', 0.6), ('/content/data/frame16.jpg', 0.64), ('/content/data/frame17.jpg', 0.68), ('/content/data/frame18.jpg', 0.72), ('/content/data/frame19.jpg', 0.76), ('/content/data/frame20.jpg', 0.8), ('/content/data/frame21.jpg', 0.84), ('/content/data/frame22.jpg', 0.88), ('/content/data/frame23.jpg', 0.92), ('/content/data/frame24.jpg', 0.96), ('/content/data/frame25.jpg', 1.0), ('/content/data/frame26.jpg', 1.04), ('/content/data/frame27.jpg', 1.08), ('/content/data/frame28.jpg', 1.12), ('/content/data/frame29.jpg', 1.16), ('/content/data/frame30.jpg', 1.2), ('/content/data/frame31.jpg', 1.24), ('/content/data/frame32.jpg', 1.28), ('/content/data/frame33.jpg', 1.32), ('/content/data/frame34.jpg', 1.36), ('/content/data/frame35.jpg', 1.4), ('/content/data/frame36.jpg', 1.44), ('/content/data/frame37.jpg', 1.48), ('/content/data/frame38.jpg', 1.52), ('/content/data/frame39.jpg', 1.56), ('/content/data/frame40.jpg', 1.6), ('/content/data/frame41.jpg', 1.64), ('/content/data/frame42.jpg', 1.68), ('/content/data/frame43.jpg', 1.72), ('/content/data/frame44.jpg', 1.76), ('/content/data/frame45.jpg', 1.8), ('/content/data/frame46.jpg', 1.84), ('/content/data/frame47.jpg', 1.88), ('/content/data/frame48.jpg', 1.92), ('/content/data/frame49.jpg', 1.96), ('/content/data/frame50.jpg', 2.0), ('/content/data/frame51.jpg', 2.04), ('/content/data/frame52.jpg', 2.08), ('/content/data/frame53.jpg', 2.12), ('/content/data/frame54.jpg', 2.16), ('/content/data/frame55.jpg', 2.2), ('/content/data/frame56.jpg', 2.24), ('/content/data/frame57.jpg', 2.28), ('/content/data/frame58.jpg', 2.32), ('/content/data/frame59.jpg', 2.36), ('/content/data/frame60.jpg', 2.4), ('/content/data/frame61.jpg', 2.44), ('/content/data/frame62.jpg', 2.48), ('/content/data/frame63.jpg', 2.52), ('/content/data/frame64.jpg', 2.56), ('/content/data/frame65.jpg', 2.6), ('/content/data/frame66.jpg', 2.64), ('/content/data/frame67.jpg', 2.68), ('/content/data/frame68.jpg', 2.72), ('/content/data/frame69.jpg', 2.76), ('/content/data/frame70.jpg', 2.8), ('/content/data/frame71.jpg', 2.84), ('/content/data/frame72.jpg', 2.88), ('/content/data/frame73.jpg', 2.92), ('/content/data/frame74.jpg', 2.96), ('/content/data/frame75.jpg', 3.0), ('/content/data/frame76.jpg', 3.04), ('/content/data/frame77.jpg', 3.08), ('/content/data/frame78.jpg', 3.12), ('/content/data/frame79.jpg', 3.16), ('/content/data/frame80.jpg', 3.2), ('/content/data/frame81.jpg', 3.24), ('/content/data/frame82.jpg', 3.28), ('/content/data/frame83.jpg', 3.32), ('/content/data/frame84.jpg', 3.36), ('/content/data/frame85.jpg', 3.4), ('/content/data/frame86.jpg', 3.44), ('/content/data/frame87.jpg', 3.48), ('/content/data/frame88.jpg', 3.52), ('/content/data/frame89.jpg', 3.56), ('/content/data/frame90.jpg', 3.6), ('/content/data/frame91.jpg', 3.64), ('/content/data/frame92.jpg', 3.68), ('/content/data/frame93.jpg', 3.72), ('/content/data/frame94.jpg', 3.76), ('/content/data/frame95.jpg', 3.8), ('/content/data/frame96.jpg', 3.84), ('/content/data/frame97.jpg', 3.88), ('/content/data/frame98.jpg', 3.92), ('/content/data/frame99.jpg', 3.96), ('/content/data/frame100.jpg', 4.0), ('/content/data/frame101.jpg', 4.04), ('/content/data/frame102.jpg', 4.08), ('/content/data/frame103.jpg', 4.12), ('/content/data/frame104.jpg', 4.16), ('/content/data/frame105.jpg', 4.2), ('/content/data/frame106.jpg', 4.24), ('/content/data/frame107.jpg', 4.28), ('/content/data/frame108.jpg', 4.32), ('/content/data/frame109.jpg', 4.36), ('/content/data/frame110.jpg', 4.4), ('/content/data/frame111.jpg', 4.44), ('/content/data/frame112.jpg', 4.48), ('/content/data/frame113.jpg', 4.52), ('/content/data/frame114.jpg', 4.56), ('/content/data/frame115.jpg', 4.6), ('/content/data/frame116.jpg', 4.64), ('/content/data/frame117.jpg', 4.68), ('/content/data/frame118.jpg', 4.72), ('/content/data/frame119.jpg', 4.76), ('/content/data/frame120.jpg', 4.8), ('/content/data/frame121.jpg', 4.84), ('/content/data/frame122.jpg', 4.88), ('/content/data/frame123.jpg', 4.92), ('/content/data/frame124.jpg', 4.96), ('/content/data/frame125.jpg', 5.0), ('/content/data/frame126.jpg', 5.04), ('/content/data/frame127.jpg', 5.08), ('/content/data/frame128.jpg', 5.12), ('/content/data/frame129.jpg', 5.16), ('/content/data/frame130.jpg', 5.2), ('/content/data/frame131.jpg', 5.24)])"
            ]
          },
          "metadata": {},
          "execution_count": 4
        }
      ]
    },
    {
      "cell_type": "code",
      "source": [
        "timestamp_quota=round(len(time_stamp)*np.mean(duration),0)\n",
        "print(timestamp_quota)\n",
        "timestamp_quota_int=timestamp_quota.astype(int)\n",
        "print(timestamp_quota_int)"
      ],
      "metadata": {
        "colab": {
          "base_uri": "https://localhost:8080/"
        },
        "id": "RNdbbxId2Meo",
        "outputId": "4ad1f4bc-6f47-40a4-d19d-652c7ad84cde"
      },
      "execution_count": 5,
      "outputs": [
        {
          "output_type": "stream",
          "name": "stdout",
          "text": [
            "5.0\n",
            "5\n"
          ]
        }
      ]
    },
    {
      "cell_type": "code",
      "source": [
        "!pip install imagehash"
      ],
      "metadata": {
        "colab": {
          "base_uri": "https://localhost:8080/"
        },
        "id": "k-rqqd7OM3cX",
        "outputId": "d695503f-f4d4-4b96-aa59-d01e57e990ed"
      },
      "execution_count": 6,
      "outputs": [
        {
          "output_type": "stream",
          "name": "stdout",
          "text": [
            "Looking in indexes: https://pypi.org/simple, https://us-python.pkg.dev/colab-wheels/public/simple/\n",
            "Requirement already satisfied: imagehash in /usr/local/lib/python3.9/dist-packages (4.3.1)\n",
            "Requirement already satisfied: scipy in /usr/local/lib/python3.9/dist-packages (from imagehash) (1.10.1)\n",
            "Requirement already satisfied: numpy in /usr/local/lib/python3.9/dist-packages (from imagehash) (1.22.4)\n",
            "Requirement already satisfied: pillow in /usr/local/lib/python3.9/dist-packages (from imagehash) (8.4.0)\n",
            "Requirement already satisfied: PyWavelets in /usr/local/lib/python3.9/dist-packages (from imagehash) (1.4.1)\n"
          ]
        }
      ]
    },
    {
      "cell_type": "markdown",
      "source": [
        "Phash value of frames based on time stamp quota"
      ],
      "metadata": {
        "id": "WVVAP7r-QPYP"
      }
    },
    {
      "cell_type": "code",
      "source": [
        "import imagehash\n",
        "import numpy\n",
        "from PIL import Image\n",
        "p_hash_array=[]\n",
        "frame=[]\n",
        "#p_hash_array = numpy.empty(timestamp_quota_int, dtype=object)\n",
        "for i in range(0,timestamp_quota_int):\n",
        "  value=imagehash.phash(Image.open('/content/data/frame'+str(i)+'.jpg'))\n",
        "  frame.insert(i,'/content/data/frame'+str(i)+'.jpg')\n",
        "  p_hash_array.insert(i,str(value))\n",
        "  phash=dict(zip(frame,p_hash_array))\n",
        "print(phash)\n"
      ],
      "metadata": {
        "colab": {
          "base_uri": "https://localhost:8080/"
        },
        "id": "briIgQRcNJvT",
        "outputId": "e39e8124-d81d-4e97-e8b4-b1c9126ca604"
      },
      "execution_count": 7,
      "outputs": [
        {
          "output_type": "stream",
          "name": "stdout",
          "text": [
            "{'/content/data/frame0.jpg': 'cdd8b3120ecce1b5', '/content/data/frame1.jpg': 'cddcb3320ecce1a4', '/content/data/frame2.jpg': 'cfd8b3121ecce1a4', '/content/data/frame3.jpg': 'cddab2b20ecce1a4', '/content/data/frame4.jpg': 'c4d4b1621ecdf1b2'}\n"
          ]
        }
      ]
    },
    {
      "cell_type": "markdown",
      "source": [
        "Counting duplicate values and printing the keys"
      ],
      "metadata": {
        "id": "uSZzW5YoQ4UB"
      }
    },
    {
      "cell_type": "code",
      "source": [
        "from collections import Counter\n",
        "# Create a Counter from the dictionary values\n",
        "counts = Counter(phash.values())\n",
        " \n",
        "# Create a new dictionary with only the keys whose value has a count greater than 1\n",
        "result = {k: v for k, v in phash.items() if counts[v] > 1}\n",
        " \n",
        "print(result.keys())"
      ],
      "metadata": {
        "colab": {
          "base_uri": "https://localhost:8080/"
        },
        "id": "RgUzsd7bQmwr",
        "outputId": "2c7ffe03-5999-4355-8467-53f24d59e846"
      },
      "execution_count": 8,
      "outputs": [
        {
          "output_type": "stream",
          "name": "stdout",
          "text": [
            "dict_keys([])\n"
          ]
        }
      ]
    },
    {
      "cell_type": "code",
      "source": [
        "len(names)"
      ],
      "metadata": {
        "colab": {
          "base_uri": "https://localhost:8080/"
        },
        "id": "bL2_4cCHeDJK",
        "outputId": "e8918fc6-4c46-44f0-c09d-b287241fd94a"
      },
      "execution_count": 8,
      "outputs": [
        {
          "output_type": "execute_result",
          "data": {
            "text/plain": [
              "132"
            ]
          },
          "metadata": {},
          "execution_count": 8
        }
      ]
    },
    {
      "cell_type": "markdown",
      "source": [
        "Modifief code for phash values with time stamp quota"
      ],
      "metadata": {
        "id": "jxgSbXNAf6-T"
      }
    },
    {
      "cell_type": "code",
      "source": [
        "print(timestamp_quota_int)"
      ],
      "metadata": {
        "colab": {
          "base_uri": "https://localhost:8080/"
        },
        "id": "DHMIxHsddjUD",
        "outputId": "23e6aaa7-cbf4-49d6-ac2e-813aa0d9cbf6"
      },
      "execution_count": 9,
      "outputs": [
        {
          "output_type": "stream",
          "name": "stdout",
          "text": [
            "5\n"
          ]
        }
      ]
    },
    {
      "cell_type": "markdown",
      "source": [
        "**a sliding window is created for frames with duplicate phash values.If no duplicate phash values are not found, the buffer is cleared or else frames are added to another buffer**"
      ],
      "metadata": {
        "id": "XeX7dEVZfami"
      }
    },
    {
      "cell_type": "code",
      "source": [
        "import imagehash\n",
        "import numpy\n",
        "from PIL import Image\n",
        "from collections import Counter\n",
        "p_hash_array_buf=[]\n",
        "frame_buf=[]\n",
        "quota=5# a constant value to be modified\n",
        "timestamp_quota=round(len(time_stamp)*np.mean(duration),0)\n",
        "print(timestamp_quota)\n",
        "timestamp_quota_int=timestamp_quota.astype(int)\n",
        "print(timestamp_quota_int)\n",
        "i=0\n",
        "final={}\n",
        "while(True):\n",
        "  for i in range (0, timestamp_quota_int):\n",
        "    value=imagehash.phash(Image.open('/content/data/frame'+str(i)+'.jpg'))\n",
        "    frame_buf.insert(i,'/content/data/frame'+str(i)+'.jpg')\n",
        "    p_hash_array_buf.insert(i,str(value))\n",
        "    phash=dict(zip(frame_buf,p_hash_array_buf))\n",
        "  counts = Counter(phash.values())\n",
        "  # Create a new dictionary with only the keys whose value has a count greater than 1\n",
        "  result = {k: v for k, v in phash.items() if counts[v] > 1}\n",
        " # print(phash)\n",
        " # print(len(result.keys()))\n",
        "  if(len(result.keys())<1):\n",
        "    print(\"Clearing buffer\")\n",
        "    result.clear()\n",
        "  else:\n",
        "    final=final|result\n",
        "    print(result.keys())\n",
        "  i=timestamp_quota_int\n",
        "  timestamp_quota_int=timestamp_quota_int+quota\n",
        "  if(i==132):#constant value to be changed\n",
        "    break\n",
        "\n"
      ],
      "metadata": {
        "colab": {
          "base_uri": "https://localhost:8080/",
          "height": 863
        },
        "id": "0pHu-kcvWxdA",
        "outputId": "e83d6e26-4320-4a82-901e-8d6de45eaa26"
      },
      "execution_count": 10,
      "outputs": [
        {
          "output_type": "stream",
          "name": "stdout",
          "text": [
            "5.0\n",
            "5\n",
            "Clearing buffer\n",
            "Clearing buffer\n",
            "dict_keys(['/content/data/frame12.jpg', '/content/data/frame13.jpg'])\n",
            "dict_keys(['/content/data/frame12.jpg', '/content/data/frame13.jpg'])\n",
            "dict_keys(['/content/data/frame12.jpg', '/content/data/frame13.jpg'])\n",
            "dict_keys(['/content/data/frame12.jpg', '/content/data/frame13.jpg'])\n",
            "dict_keys(['/content/data/frame12.jpg', '/content/data/frame13.jpg', '/content/data/frame32.jpg', '/content/data/frame33.jpg', '/content/data/frame34.jpg'])\n",
            "dict_keys(['/content/data/frame12.jpg', '/content/data/frame13.jpg', '/content/data/frame32.jpg', '/content/data/frame33.jpg', '/content/data/frame34.jpg', '/content/data/frame36.jpg'])\n",
            "dict_keys(['/content/data/frame12.jpg', '/content/data/frame13.jpg', '/content/data/frame32.jpg', '/content/data/frame33.jpg', '/content/data/frame34.jpg', '/content/data/frame36.jpg', '/content/data/frame39.jpg', '/content/data/frame40.jpg'])\n",
            "dict_keys(['/content/data/frame12.jpg', '/content/data/frame13.jpg', '/content/data/frame32.jpg', '/content/data/frame33.jpg', '/content/data/frame34.jpg', '/content/data/frame36.jpg', '/content/data/frame39.jpg', '/content/data/frame40.jpg'])\n",
            "dict_keys(['/content/data/frame12.jpg', '/content/data/frame13.jpg', '/content/data/frame32.jpg', '/content/data/frame33.jpg', '/content/data/frame34.jpg', '/content/data/frame36.jpg', '/content/data/frame39.jpg', '/content/data/frame40.jpg'])\n",
            "dict_keys(['/content/data/frame12.jpg', '/content/data/frame13.jpg', '/content/data/frame32.jpg', '/content/data/frame33.jpg', '/content/data/frame34.jpg', '/content/data/frame36.jpg', '/content/data/frame39.jpg', '/content/data/frame40.jpg', '/content/data/frame58.jpg', '/content/data/frame59.jpg'])\n",
            "dict_keys(['/content/data/frame12.jpg', '/content/data/frame13.jpg', '/content/data/frame32.jpg', '/content/data/frame33.jpg', '/content/data/frame34.jpg', '/content/data/frame36.jpg', '/content/data/frame39.jpg', '/content/data/frame40.jpg', '/content/data/frame58.jpg', '/content/data/frame59.jpg', '/content/data/frame60.jpg'])\n",
            "dict_keys(['/content/data/frame12.jpg', '/content/data/frame13.jpg', '/content/data/frame32.jpg', '/content/data/frame33.jpg', '/content/data/frame34.jpg', '/content/data/frame36.jpg', '/content/data/frame38.jpg', '/content/data/frame39.jpg', '/content/data/frame40.jpg', '/content/data/frame58.jpg', '/content/data/frame59.jpg', '/content/data/frame60.jpg', '/content/data/frame69.jpg'])\n",
            "dict_keys(['/content/data/frame12.jpg', '/content/data/frame13.jpg', '/content/data/frame32.jpg', '/content/data/frame33.jpg', '/content/data/frame34.jpg', '/content/data/frame36.jpg', '/content/data/frame38.jpg', '/content/data/frame39.jpg', '/content/data/frame40.jpg', '/content/data/frame41.jpg', '/content/data/frame42.jpg', '/content/data/frame43.jpg', '/content/data/frame58.jpg', '/content/data/frame59.jpg', '/content/data/frame60.jpg', '/content/data/frame69.jpg', '/content/data/frame70.jpg', '/content/data/frame71.jpg', '/content/data/frame72.jpg', '/content/data/frame73.jpg', '/content/data/frame74.jpg'])\n",
            "dict_keys(['/content/data/frame12.jpg', '/content/data/frame13.jpg', '/content/data/frame32.jpg', '/content/data/frame33.jpg', '/content/data/frame34.jpg', '/content/data/frame36.jpg', '/content/data/frame38.jpg', '/content/data/frame39.jpg', '/content/data/frame40.jpg', '/content/data/frame41.jpg', '/content/data/frame42.jpg', '/content/data/frame43.jpg', '/content/data/frame44.jpg', '/content/data/frame45.jpg', '/content/data/frame46.jpg', '/content/data/frame47.jpg', '/content/data/frame48.jpg', '/content/data/frame58.jpg', '/content/data/frame59.jpg', '/content/data/frame60.jpg', '/content/data/frame69.jpg', '/content/data/frame70.jpg', '/content/data/frame71.jpg', '/content/data/frame72.jpg', '/content/data/frame73.jpg', '/content/data/frame74.jpg', '/content/data/frame75.jpg', '/content/data/frame76.jpg', '/content/data/frame77.jpg', '/content/data/frame78.jpg', '/content/data/frame79.jpg'])\n",
            "dict_keys(['/content/data/frame12.jpg', '/content/data/frame13.jpg', '/content/data/frame32.jpg', '/content/data/frame33.jpg', '/content/data/frame34.jpg', '/content/data/frame36.jpg', '/content/data/frame38.jpg', '/content/data/frame39.jpg', '/content/data/frame40.jpg', '/content/data/frame41.jpg', '/content/data/frame42.jpg', '/content/data/frame43.jpg', '/content/data/frame44.jpg', '/content/data/frame45.jpg', '/content/data/frame46.jpg', '/content/data/frame47.jpg', '/content/data/frame48.jpg', '/content/data/frame50.jpg', '/content/data/frame51.jpg', '/content/data/frame52.jpg', '/content/data/frame53.jpg', '/content/data/frame58.jpg', '/content/data/frame59.jpg', '/content/data/frame60.jpg', '/content/data/frame69.jpg', '/content/data/frame70.jpg', '/content/data/frame71.jpg', '/content/data/frame72.jpg', '/content/data/frame73.jpg', '/content/data/frame74.jpg', '/content/data/frame75.jpg', '/content/data/frame76.jpg', '/content/data/frame77.jpg', '/content/data/frame78.jpg', '/content/data/frame79.jpg', '/content/data/frame81.jpg', '/content/data/frame82.jpg', '/content/data/frame83.jpg', '/content/data/frame84.jpg'])\n",
            "dict_keys(['/content/data/frame12.jpg', '/content/data/frame13.jpg', '/content/data/frame32.jpg', '/content/data/frame33.jpg', '/content/data/frame34.jpg', '/content/data/frame36.jpg', '/content/data/frame38.jpg', '/content/data/frame39.jpg', '/content/data/frame40.jpg', '/content/data/frame41.jpg', '/content/data/frame42.jpg', '/content/data/frame43.jpg', '/content/data/frame44.jpg', '/content/data/frame45.jpg', '/content/data/frame46.jpg', '/content/data/frame47.jpg', '/content/data/frame48.jpg', '/content/data/frame50.jpg', '/content/data/frame51.jpg', '/content/data/frame52.jpg', '/content/data/frame53.jpg', '/content/data/frame54.jpg', '/content/data/frame55.jpg', '/content/data/frame56.jpg', '/content/data/frame57.jpg', '/content/data/frame58.jpg', '/content/data/frame59.jpg', '/content/data/frame60.jpg', '/content/data/frame69.jpg', '/content/data/frame70.jpg', '/content/data/frame71.jpg', '/content/data/frame72.jpg', '/content/data/frame73.jpg', '/content/data/frame74.jpg', '/content/data/frame75.jpg', '/content/data/frame76.jpg', '/content/data/frame77.jpg', '/content/data/frame78.jpg', '/content/data/frame79.jpg', '/content/data/frame81.jpg', '/content/data/frame82.jpg', '/content/data/frame83.jpg', '/content/data/frame84.jpg', '/content/data/frame85.jpg', '/content/data/frame86.jpg', '/content/data/frame87.jpg', '/content/data/frame88.jpg', '/content/data/frame89.jpg'])\n",
            "dict_keys(['/content/data/frame12.jpg', '/content/data/frame13.jpg', '/content/data/frame32.jpg', '/content/data/frame33.jpg', '/content/data/frame34.jpg', '/content/data/frame36.jpg', '/content/data/frame38.jpg', '/content/data/frame39.jpg', '/content/data/frame40.jpg', '/content/data/frame41.jpg', '/content/data/frame42.jpg', '/content/data/frame43.jpg', '/content/data/frame44.jpg', '/content/data/frame45.jpg', '/content/data/frame46.jpg', '/content/data/frame47.jpg', '/content/data/frame48.jpg', '/content/data/frame50.jpg', '/content/data/frame51.jpg', '/content/data/frame52.jpg', '/content/data/frame53.jpg', '/content/data/frame54.jpg', '/content/data/frame55.jpg', '/content/data/frame56.jpg', '/content/data/frame57.jpg', '/content/data/frame58.jpg', '/content/data/frame59.jpg', '/content/data/frame60.jpg', '/content/data/frame61.jpg', '/content/data/frame62.jpg', '/content/data/frame63.jpg', '/content/data/frame69.jpg', '/content/data/frame70.jpg', '/content/data/frame71.jpg', '/content/data/frame72.jpg', '/content/data/frame73.jpg', '/content/data/frame74.jpg', '/content/data/frame75.jpg', '/content/data/frame76.jpg', '/content/data/frame77.jpg', '/content/data/frame78.jpg', '/content/data/frame79.jpg', '/content/data/frame81.jpg', '/content/data/frame82.jpg', '/content/data/frame83.jpg', '/content/data/frame84.jpg', '/content/data/frame85.jpg', '/content/data/frame86.jpg', '/content/data/frame87.jpg', '/content/data/frame88.jpg', '/content/data/frame89.jpg', '/content/data/frame90.jpg', '/content/data/frame91.jpg', '/content/data/frame92.jpg', '/content/data/frame93.jpg', '/content/data/frame94.jpg'])\n",
            "dict_keys(['/content/data/frame12.jpg', '/content/data/frame13.jpg', '/content/data/frame32.jpg', '/content/data/frame33.jpg', '/content/data/frame34.jpg', '/content/data/frame36.jpg', '/content/data/frame38.jpg', '/content/data/frame39.jpg', '/content/data/frame40.jpg', '/content/data/frame41.jpg', '/content/data/frame42.jpg', '/content/data/frame43.jpg', '/content/data/frame44.jpg', '/content/data/frame45.jpg', '/content/data/frame46.jpg', '/content/data/frame47.jpg', '/content/data/frame48.jpg', '/content/data/frame50.jpg', '/content/data/frame51.jpg', '/content/data/frame52.jpg', '/content/data/frame53.jpg', '/content/data/frame54.jpg', '/content/data/frame55.jpg', '/content/data/frame56.jpg', '/content/data/frame57.jpg', '/content/data/frame58.jpg', '/content/data/frame59.jpg', '/content/data/frame60.jpg', '/content/data/frame61.jpg', '/content/data/frame62.jpg', '/content/data/frame63.jpg', '/content/data/frame64.jpg', '/content/data/frame65.jpg', '/content/data/frame66.jpg', '/content/data/frame67.jpg', '/content/data/frame68.jpg', '/content/data/frame69.jpg', '/content/data/frame70.jpg', '/content/data/frame71.jpg', '/content/data/frame72.jpg', '/content/data/frame73.jpg', '/content/data/frame74.jpg', '/content/data/frame75.jpg', '/content/data/frame76.jpg', '/content/data/frame77.jpg', '/content/data/frame78.jpg', '/content/data/frame79.jpg', '/content/data/frame81.jpg', '/content/data/frame82.jpg', '/content/data/frame83.jpg', '/content/data/frame84.jpg', '/content/data/frame85.jpg', '/content/data/frame86.jpg', '/content/data/frame87.jpg', '/content/data/frame88.jpg', '/content/data/frame89.jpg', '/content/data/frame90.jpg', '/content/data/frame91.jpg', '/content/data/frame92.jpg', '/content/data/frame93.jpg', '/content/data/frame94.jpg', '/content/data/frame95.jpg', '/content/data/frame96.jpg', '/content/data/frame97.jpg', '/content/data/frame98.jpg', '/content/data/frame99.jpg'])\n",
            "dict_keys(['/content/data/frame12.jpg', '/content/data/frame13.jpg', '/content/data/frame32.jpg', '/content/data/frame33.jpg', '/content/data/frame34.jpg', '/content/data/frame36.jpg', '/content/data/frame38.jpg', '/content/data/frame39.jpg', '/content/data/frame40.jpg', '/content/data/frame41.jpg', '/content/data/frame42.jpg', '/content/data/frame43.jpg', '/content/data/frame44.jpg', '/content/data/frame45.jpg', '/content/data/frame46.jpg', '/content/data/frame47.jpg', '/content/data/frame48.jpg', '/content/data/frame50.jpg', '/content/data/frame51.jpg', '/content/data/frame52.jpg', '/content/data/frame53.jpg', '/content/data/frame54.jpg', '/content/data/frame55.jpg', '/content/data/frame56.jpg', '/content/data/frame57.jpg', '/content/data/frame58.jpg', '/content/data/frame59.jpg', '/content/data/frame60.jpg', '/content/data/frame61.jpg', '/content/data/frame62.jpg', '/content/data/frame63.jpg', '/content/data/frame64.jpg', '/content/data/frame65.jpg', '/content/data/frame66.jpg', '/content/data/frame67.jpg', '/content/data/frame68.jpg', '/content/data/frame69.jpg', '/content/data/frame70.jpg', '/content/data/frame71.jpg', '/content/data/frame72.jpg', '/content/data/frame73.jpg', '/content/data/frame74.jpg', '/content/data/frame75.jpg', '/content/data/frame76.jpg', '/content/data/frame77.jpg', '/content/data/frame78.jpg', '/content/data/frame79.jpg', '/content/data/frame81.jpg', '/content/data/frame82.jpg', '/content/data/frame83.jpg', '/content/data/frame84.jpg', '/content/data/frame85.jpg', '/content/data/frame86.jpg', '/content/data/frame87.jpg', '/content/data/frame88.jpg', '/content/data/frame89.jpg', '/content/data/frame90.jpg', '/content/data/frame91.jpg', '/content/data/frame92.jpg', '/content/data/frame93.jpg', '/content/data/frame94.jpg', '/content/data/frame95.jpg', '/content/data/frame96.jpg', '/content/data/frame97.jpg', '/content/data/frame98.jpg', '/content/data/frame99.jpg', '/content/data/frame101.jpg', '/content/data/frame102.jpg', '/content/data/frame103.jpg', '/content/data/frame104.jpg'])\n",
            "dict_keys(['/content/data/frame12.jpg', '/content/data/frame13.jpg', '/content/data/frame32.jpg', '/content/data/frame33.jpg', '/content/data/frame34.jpg', '/content/data/frame36.jpg', '/content/data/frame38.jpg', '/content/data/frame39.jpg', '/content/data/frame40.jpg', '/content/data/frame41.jpg', '/content/data/frame42.jpg', '/content/data/frame43.jpg', '/content/data/frame44.jpg', '/content/data/frame45.jpg', '/content/data/frame46.jpg', '/content/data/frame47.jpg', '/content/data/frame48.jpg', '/content/data/frame50.jpg', '/content/data/frame51.jpg', '/content/data/frame52.jpg', '/content/data/frame53.jpg', '/content/data/frame54.jpg', '/content/data/frame55.jpg', '/content/data/frame56.jpg', '/content/data/frame57.jpg', '/content/data/frame58.jpg', '/content/data/frame59.jpg', '/content/data/frame60.jpg', '/content/data/frame61.jpg', '/content/data/frame62.jpg', '/content/data/frame63.jpg', '/content/data/frame64.jpg', '/content/data/frame65.jpg', '/content/data/frame66.jpg', '/content/data/frame67.jpg', '/content/data/frame68.jpg', '/content/data/frame69.jpg', '/content/data/frame70.jpg', '/content/data/frame71.jpg', '/content/data/frame72.jpg', '/content/data/frame73.jpg', '/content/data/frame74.jpg', '/content/data/frame75.jpg', '/content/data/frame76.jpg', '/content/data/frame77.jpg', '/content/data/frame78.jpg', '/content/data/frame79.jpg', '/content/data/frame81.jpg', '/content/data/frame82.jpg', '/content/data/frame83.jpg', '/content/data/frame84.jpg', '/content/data/frame85.jpg', '/content/data/frame86.jpg', '/content/data/frame87.jpg', '/content/data/frame88.jpg', '/content/data/frame89.jpg', '/content/data/frame90.jpg', '/content/data/frame91.jpg', '/content/data/frame92.jpg', '/content/data/frame93.jpg', '/content/data/frame94.jpg', '/content/data/frame95.jpg', '/content/data/frame96.jpg', '/content/data/frame97.jpg', '/content/data/frame98.jpg', '/content/data/frame99.jpg', '/content/data/frame101.jpg', '/content/data/frame102.jpg', '/content/data/frame103.jpg', '/content/data/frame104.jpg', '/content/data/frame107.jpg', '/content/data/frame108.jpg'])\n",
            "dict_keys(['/content/data/frame12.jpg', '/content/data/frame13.jpg', '/content/data/frame32.jpg', '/content/data/frame33.jpg', '/content/data/frame34.jpg', '/content/data/frame36.jpg', '/content/data/frame38.jpg', '/content/data/frame39.jpg', '/content/data/frame40.jpg', '/content/data/frame41.jpg', '/content/data/frame42.jpg', '/content/data/frame43.jpg', '/content/data/frame44.jpg', '/content/data/frame45.jpg', '/content/data/frame46.jpg', '/content/data/frame47.jpg', '/content/data/frame48.jpg', '/content/data/frame50.jpg', '/content/data/frame51.jpg', '/content/data/frame52.jpg', '/content/data/frame53.jpg', '/content/data/frame54.jpg', '/content/data/frame55.jpg', '/content/data/frame56.jpg', '/content/data/frame57.jpg', '/content/data/frame58.jpg', '/content/data/frame59.jpg', '/content/data/frame60.jpg', '/content/data/frame61.jpg', '/content/data/frame62.jpg', '/content/data/frame63.jpg', '/content/data/frame64.jpg', '/content/data/frame65.jpg', '/content/data/frame66.jpg', '/content/data/frame67.jpg', '/content/data/frame68.jpg', '/content/data/frame69.jpg', '/content/data/frame70.jpg', '/content/data/frame71.jpg', '/content/data/frame72.jpg', '/content/data/frame73.jpg', '/content/data/frame74.jpg', '/content/data/frame75.jpg', '/content/data/frame76.jpg', '/content/data/frame77.jpg', '/content/data/frame78.jpg', '/content/data/frame79.jpg', '/content/data/frame81.jpg', '/content/data/frame82.jpg', '/content/data/frame83.jpg', '/content/data/frame84.jpg', '/content/data/frame85.jpg', '/content/data/frame86.jpg', '/content/data/frame87.jpg', '/content/data/frame88.jpg', '/content/data/frame89.jpg', '/content/data/frame90.jpg', '/content/data/frame91.jpg', '/content/data/frame92.jpg', '/content/data/frame93.jpg', '/content/data/frame94.jpg', '/content/data/frame95.jpg', '/content/data/frame96.jpg', '/content/data/frame97.jpg', '/content/data/frame98.jpg', '/content/data/frame99.jpg', '/content/data/frame101.jpg', '/content/data/frame102.jpg', '/content/data/frame103.jpg', '/content/data/frame104.jpg', '/content/data/frame107.jpg', '/content/data/frame108.jpg', '/content/data/frame111.jpg', '/content/data/frame112.jpg'])\n",
            "dict_keys(['/content/data/frame12.jpg', '/content/data/frame13.jpg', '/content/data/frame32.jpg', '/content/data/frame33.jpg', '/content/data/frame34.jpg', '/content/data/frame36.jpg', '/content/data/frame38.jpg', '/content/data/frame39.jpg', '/content/data/frame40.jpg', '/content/data/frame41.jpg', '/content/data/frame42.jpg', '/content/data/frame43.jpg', '/content/data/frame44.jpg', '/content/data/frame45.jpg', '/content/data/frame46.jpg', '/content/data/frame47.jpg', '/content/data/frame48.jpg', '/content/data/frame50.jpg', '/content/data/frame51.jpg', '/content/data/frame52.jpg', '/content/data/frame53.jpg', '/content/data/frame54.jpg', '/content/data/frame55.jpg', '/content/data/frame56.jpg', '/content/data/frame57.jpg', '/content/data/frame58.jpg', '/content/data/frame59.jpg', '/content/data/frame60.jpg', '/content/data/frame61.jpg', '/content/data/frame62.jpg', '/content/data/frame63.jpg', '/content/data/frame64.jpg', '/content/data/frame65.jpg', '/content/data/frame66.jpg', '/content/data/frame67.jpg', '/content/data/frame68.jpg', '/content/data/frame69.jpg', '/content/data/frame70.jpg', '/content/data/frame71.jpg', '/content/data/frame72.jpg', '/content/data/frame73.jpg', '/content/data/frame74.jpg', '/content/data/frame75.jpg', '/content/data/frame76.jpg', '/content/data/frame77.jpg', '/content/data/frame78.jpg', '/content/data/frame79.jpg', '/content/data/frame81.jpg', '/content/data/frame82.jpg', '/content/data/frame83.jpg', '/content/data/frame84.jpg', '/content/data/frame85.jpg', '/content/data/frame86.jpg', '/content/data/frame87.jpg', '/content/data/frame88.jpg', '/content/data/frame89.jpg', '/content/data/frame90.jpg', '/content/data/frame91.jpg', '/content/data/frame92.jpg', '/content/data/frame93.jpg', '/content/data/frame94.jpg', '/content/data/frame95.jpg', '/content/data/frame96.jpg', '/content/data/frame97.jpg', '/content/data/frame98.jpg', '/content/data/frame99.jpg', '/content/data/frame101.jpg', '/content/data/frame102.jpg', '/content/data/frame103.jpg', '/content/data/frame104.jpg', '/content/data/frame107.jpg', '/content/data/frame108.jpg', '/content/data/frame111.jpg', '/content/data/frame112.jpg', '/content/data/frame114.jpg', '/content/data/frame115.jpg'])\n",
            "dict_keys(['/content/data/frame12.jpg', '/content/data/frame13.jpg', '/content/data/frame32.jpg', '/content/data/frame33.jpg', '/content/data/frame34.jpg', '/content/data/frame36.jpg', '/content/data/frame38.jpg', '/content/data/frame39.jpg', '/content/data/frame40.jpg', '/content/data/frame41.jpg', '/content/data/frame42.jpg', '/content/data/frame43.jpg', '/content/data/frame44.jpg', '/content/data/frame45.jpg', '/content/data/frame46.jpg', '/content/data/frame47.jpg', '/content/data/frame48.jpg', '/content/data/frame50.jpg', '/content/data/frame51.jpg', '/content/data/frame52.jpg', '/content/data/frame53.jpg', '/content/data/frame54.jpg', '/content/data/frame55.jpg', '/content/data/frame56.jpg', '/content/data/frame57.jpg', '/content/data/frame58.jpg', '/content/data/frame59.jpg', '/content/data/frame60.jpg', '/content/data/frame61.jpg', '/content/data/frame62.jpg', '/content/data/frame63.jpg', '/content/data/frame64.jpg', '/content/data/frame65.jpg', '/content/data/frame66.jpg', '/content/data/frame67.jpg', '/content/data/frame68.jpg', '/content/data/frame69.jpg', '/content/data/frame70.jpg', '/content/data/frame71.jpg', '/content/data/frame72.jpg', '/content/data/frame73.jpg', '/content/data/frame74.jpg', '/content/data/frame75.jpg', '/content/data/frame76.jpg', '/content/data/frame77.jpg', '/content/data/frame78.jpg', '/content/data/frame79.jpg', '/content/data/frame81.jpg', '/content/data/frame82.jpg', '/content/data/frame83.jpg', '/content/data/frame84.jpg', '/content/data/frame85.jpg', '/content/data/frame86.jpg', '/content/data/frame87.jpg', '/content/data/frame88.jpg', '/content/data/frame89.jpg', '/content/data/frame90.jpg', '/content/data/frame91.jpg', '/content/data/frame92.jpg', '/content/data/frame93.jpg', '/content/data/frame94.jpg', '/content/data/frame95.jpg', '/content/data/frame96.jpg', '/content/data/frame97.jpg', '/content/data/frame98.jpg', '/content/data/frame99.jpg', '/content/data/frame101.jpg', '/content/data/frame102.jpg', '/content/data/frame103.jpg', '/content/data/frame104.jpg', '/content/data/frame107.jpg', '/content/data/frame108.jpg', '/content/data/frame111.jpg', '/content/data/frame112.jpg', '/content/data/frame114.jpg', '/content/data/frame115.jpg'])\n",
            "dict_keys(['/content/data/frame12.jpg', '/content/data/frame13.jpg', '/content/data/frame32.jpg', '/content/data/frame33.jpg', '/content/data/frame34.jpg', '/content/data/frame36.jpg', '/content/data/frame38.jpg', '/content/data/frame39.jpg', '/content/data/frame40.jpg', '/content/data/frame41.jpg', '/content/data/frame42.jpg', '/content/data/frame43.jpg', '/content/data/frame44.jpg', '/content/data/frame45.jpg', '/content/data/frame46.jpg', '/content/data/frame47.jpg', '/content/data/frame48.jpg', '/content/data/frame50.jpg', '/content/data/frame51.jpg', '/content/data/frame52.jpg', '/content/data/frame53.jpg', '/content/data/frame54.jpg', '/content/data/frame55.jpg', '/content/data/frame56.jpg', '/content/data/frame57.jpg', '/content/data/frame58.jpg', '/content/data/frame59.jpg', '/content/data/frame60.jpg', '/content/data/frame61.jpg', '/content/data/frame62.jpg', '/content/data/frame63.jpg', '/content/data/frame64.jpg', '/content/data/frame65.jpg', '/content/data/frame66.jpg', '/content/data/frame67.jpg', '/content/data/frame68.jpg', '/content/data/frame69.jpg', '/content/data/frame70.jpg', '/content/data/frame71.jpg', '/content/data/frame72.jpg', '/content/data/frame73.jpg', '/content/data/frame74.jpg', '/content/data/frame75.jpg', '/content/data/frame76.jpg', '/content/data/frame77.jpg', '/content/data/frame78.jpg', '/content/data/frame79.jpg', '/content/data/frame81.jpg', '/content/data/frame82.jpg', '/content/data/frame83.jpg', '/content/data/frame84.jpg', '/content/data/frame85.jpg', '/content/data/frame86.jpg', '/content/data/frame87.jpg', '/content/data/frame88.jpg', '/content/data/frame89.jpg', '/content/data/frame90.jpg', '/content/data/frame91.jpg', '/content/data/frame92.jpg', '/content/data/frame93.jpg', '/content/data/frame94.jpg', '/content/data/frame95.jpg', '/content/data/frame96.jpg', '/content/data/frame97.jpg', '/content/data/frame98.jpg', '/content/data/frame99.jpg', '/content/data/frame101.jpg', '/content/data/frame102.jpg', '/content/data/frame103.jpg', '/content/data/frame104.jpg', '/content/data/frame107.jpg', '/content/data/frame108.jpg', '/content/data/frame111.jpg', '/content/data/frame112.jpg', '/content/data/frame114.jpg', '/content/data/frame115.jpg', '/content/data/frame127.jpg', '/content/data/frame128.jpg'])\n"
          ]
        },
        {
          "output_type": "error",
          "ename": "FileNotFoundError",
          "evalue": "ignored",
          "traceback": [
            "\u001b[0;31m---------------------------------------------------------------------------\u001b[0m",
            "\u001b[0;31mFileNotFoundError\u001b[0m                         Traceback (most recent call last)",
            "\u001b[0;32m<ipython-input-10-e79d895d7651>\u001b[0m in \u001b[0;36m<module>\u001b[0;34m\u001b[0m\n\u001b[1;32m     14\u001b[0m \u001b[0;32mwhile\u001b[0m\u001b[0;34m(\u001b[0m\u001b[0;32mTrue\u001b[0m\u001b[0;34m)\u001b[0m\u001b[0;34m:\u001b[0m\u001b[0;34m\u001b[0m\u001b[0;34m\u001b[0m\u001b[0m\n\u001b[1;32m     15\u001b[0m   \u001b[0;32mfor\u001b[0m \u001b[0mi\u001b[0m \u001b[0;32min\u001b[0m \u001b[0mrange\u001b[0m \u001b[0;34m(\u001b[0m\u001b[0;36m0\u001b[0m\u001b[0;34m,\u001b[0m \u001b[0mtimestamp_quota_int\u001b[0m\u001b[0;34m)\u001b[0m\u001b[0;34m:\u001b[0m\u001b[0;34m\u001b[0m\u001b[0;34m\u001b[0m\u001b[0m\n\u001b[0;32m---> 16\u001b[0;31m     \u001b[0mvalue\u001b[0m\u001b[0;34m=\u001b[0m\u001b[0mimagehash\u001b[0m\u001b[0;34m.\u001b[0m\u001b[0mphash\u001b[0m\u001b[0;34m(\u001b[0m\u001b[0mImage\u001b[0m\u001b[0;34m.\u001b[0m\u001b[0mopen\u001b[0m\u001b[0;34m(\u001b[0m\u001b[0;34m'/content/data/frame'\u001b[0m\u001b[0;34m+\u001b[0m\u001b[0mstr\u001b[0m\u001b[0;34m(\u001b[0m\u001b[0mi\u001b[0m\u001b[0;34m)\u001b[0m\u001b[0;34m+\u001b[0m\u001b[0;34m'.jpg'\u001b[0m\u001b[0;34m)\u001b[0m\u001b[0;34m)\u001b[0m\u001b[0;34m\u001b[0m\u001b[0;34m\u001b[0m\u001b[0m\n\u001b[0m\u001b[1;32m     17\u001b[0m     \u001b[0mframe_buf\u001b[0m\u001b[0;34m.\u001b[0m\u001b[0minsert\u001b[0m\u001b[0;34m(\u001b[0m\u001b[0mi\u001b[0m\u001b[0;34m,\u001b[0m\u001b[0;34m'/content/data/frame'\u001b[0m\u001b[0;34m+\u001b[0m\u001b[0mstr\u001b[0m\u001b[0;34m(\u001b[0m\u001b[0mi\u001b[0m\u001b[0;34m)\u001b[0m\u001b[0;34m+\u001b[0m\u001b[0;34m'.jpg'\u001b[0m\u001b[0;34m)\u001b[0m\u001b[0;34m\u001b[0m\u001b[0;34m\u001b[0m\u001b[0m\n\u001b[1;32m     18\u001b[0m     \u001b[0mp_hash_array_buf\u001b[0m\u001b[0;34m.\u001b[0m\u001b[0minsert\u001b[0m\u001b[0;34m(\u001b[0m\u001b[0mi\u001b[0m\u001b[0;34m,\u001b[0m\u001b[0mstr\u001b[0m\u001b[0;34m(\u001b[0m\u001b[0mvalue\u001b[0m\u001b[0;34m)\u001b[0m\u001b[0;34m)\u001b[0m\u001b[0;34m\u001b[0m\u001b[0;34m\u001b[0m\u001b[0m\n",
            "\u001b[0;32m/usr/local/lib/python3.9/dist-packages/PIL/Image.py\u001b[0m in \u001b[0;36mopen\u001b[0;34m(fp, mode, formats)\u001b[0m\n\u001b[1;32m   2973\u001b[0m \u001b[0;34m\u001b[0m\u001b[0m\n\u001b[1;32m   2974\u001b[0m     \u001b[0;32mif\u001b[0m \u001b[0mfilename\u001b[0m\u001b[0;34m:\u001b[0m\u001b[0;34m\u001b[0m\u001b[0;34m\u001b[0m\u001b[0m\n\u001b[0;32m-> 2975\u001b[0;31m         \u001b[0mfp\u001b[0m \u001b[0;34m=\u001b[0m \u001b[0mbuiltins\u001b[0m\u001b[0;34m.\u001b[0m\u001b[0mopen\u001b[0m\u001b[0;34m(\u001b[0m\u001b[0mfilename\u001b[0m\u001b[0;34m,\u001b[0m \u001b[0;34m\"rb\"\u001b[0m\u001b[0;34m)\u001b[0m\u001b[0;34m\u001b[0m\u001b[0;34m\u001b[0m\u001b[0m\n\u001b[0m\u001b[1;32m   2976\u001b[0m         \u001b[0mexclusive_fp\u001b[0m \u001b[0;34m=\u001b[0m \u001b[0;32mTrue\u001b[0m\u001b[0;34m\u001b[0m\u001b[0;34m\u001b[0m\u001b[0m\n\u001b[1;32m   2977\u001b[0m \u001b[0;34m\u001b[0m\u001b[0m\n",
            "\u001b[0;31mFileNotFoundError\u001b[0m: [Errno 2] No such file or directory: '/content/data/frame132.jpg'"
          ]
        }
      ]
    },
    {
      "cell_type": "code",
      "source": [
        "  print(final)\n",
        "  print(len(final))"
      ],
      "metadata": {
        "colab": {
          "base_uri": "https://localhost:8080/"
        },
        "id": "vjewfFuFfPFu",
        "outputId": "289a54ea-149b-47d4-c0d6-9d82d8743098"
      },
      "execution_count": 11,
      "outputs": [
        {
          "output_type": "stream",
          "name": "stdout",
          "text": [
            "{'/content/data/frame12.jpg': 'c9dab2b214de72a2', '/content/data/frame13.jpg': 'c9dab2b214de72a2', '/content/data/frame32.jpg': '8596f9620e8c73f8', '/content/data/frame33.jpg': '8596f9620e8c73f8', '/content/data/frame34.jpg': '8596f9620e8c73f8', '/content/data/frame36.jpg': '8596f9620e8c73f8', '/content/data/frame39.jpg': '8597f9620c8c37ba', '/content/data/frame40.jpg': '8597f9620c8c37ba', '/content/data/frame58.jpg': '859efbe27c80071e', '/content/data/frame59.jpg': '859efbe27c80071e', '/content/data/frame60.jpg': '859efbe27c80071e', '/content/data/frame38.jpg': '8596f9620c8c77ba', '/content/data/frame69.jpg': '8596f9620c8c77ba', '/content/data/frame41.jpg': '8597f9620d8c17ba', '/content/data/frame42.jpg': 'c595f1630c8c37ba', '/content/data/frame43.jpg': 'd5d5f1e00c8c17ba', '/content/data/frame70.jpg': '8597f9620c8c37ba', '/content/data/frame71.jpg': '8597f9620c8c37ba', '/content/data/frame72.jpg': '8597f9620d8c17ba', '/content/data/frame73.jpg': 'c595f1630c8c37ba', '/content/data/frame74.jpg': 'd5d5f1e00c8c17ba', '/content/data/frame44.jpg': '8595f9622d8c17ba', '/content/data/frame45.jpg': 'c595f9620d8c17ba', '/content/data/frame46.jpg': 'd4d5f1630c8817be', '/content/data/frame47.jpg': '85d7f9600c8c17be', '/content/data/frame48.jpg': 'ccd4b1612d8d359d', '/content/data/frame75.jpg': '8595f9622d8c17ba', '/content/data/frame76.jpg': 'c595f9620d8c17ba', '/content/data/frame77.jpg': 'd4d5f1630c8817be', '/content/data/frame78.jpg': '85d7f9600c8c17be', '/content/data/frame79.jpg': 'ccd4b1612d8d359d', '/content/data/frame50.jpg': '85d7f9620d8c079e', '/content/data/frame51.jpg': 'cdd4b1e22c0e079f', '/content/data/frame52.jpg': 'd4d5f1f20c88079f', '/content/data/frame53.jpg': '85d7fbe20c88079e', '/content/data/frame81.jpg': '85d7f9620d8c079e', '/content/data/frame82.jpg': 'cdd4b1e22c0e079f', '/content/data/frame83.jpg': 'd4d5f1f20c88079f', '/content/data/frame84.jpg': '85d7fbe20c88079e', '/content/data/frame54.jpg': '85d5f3724cc8079e', '/content/data/frame55.jpg': '859ffbf24c80071e', '/content/data/frame56.jpg': '8d96f3726c8c051f', '/content/data/frame57.jpg': 'cdd5b5f24848451f', '/content/data/frame85.jpg': '85d5f3724cc8079e', '/content/data/frame86.jpg': '859ffbf24c80071e', '/content/data/frame87.jpg': '8d96f3726c8c051f', '/content/data/frame88.jpg': 'cdd5b5f24848451f', '/content/data/frame89.jpg': '859efbe27c80071e', '/content/data/frame61.jpg': '859efae27c80471d', '/content/data/frame62.jpg': '859efae27d804719', '/content/data/frame63.jpg': '859efbe27d844518', '/content/data/frame90.jpg': '859efbe27c80071e', '/content/data/frame91.jpg': '859efbe27c80071e', '/content/data/frame92.jpg': '859efae27c80471d', '/content/data/frame93.jpg': '859efae27d804719', '/content/data/frame94.jpg': '859efbe27d844518', '/content/data/frame64.jpg': '859ffbf078846438', '/content/data/frame65.jpg': 'cd9fb3f238c06438', '/content/data/frame66.jpg': 'cdddb0f23480703f', '/content/data/frame67.jpg': 'cfcdb0f230c0741f', '/content/data/frame68.jpg': 'cfcdb0b230c0f41f', '/content/data/frame95.jpg': '859ffbf078846438', '/content/data/frame96.jpg': 'cd9fb3f238c06438', '/content/data/frame97.jpg': 'cdddb0f23480703f', '/content/data/frame98.jpg': 'cfcdb0f230c0741f', '/content/data/frame99.jpg': 'cfcdb0b230c0f41f', '/content/data/frame101.jpg': 'cfcbb0b23080f43f', '/content/data/frame102.jpg': 'cfcbb0b23080f43f', '/content/data/frame103.jpg': 'cbcbb2b23080f0bf', '/content/data/frame104.jpg': 'cbcbb2b23080f0bf', '/content/data/frame107.jpg': 'cbdab2f220c0f0bb', '/content/data/frame108.jpg': 'cbdab2f220c0f0bb', '/content/data/frame111.jpg': 'cbdbb2f020c8f2b8', '/content/data/frame112.jpg': 'cbdbb2f020c8f2b8', '/content/data/frame114.jpg': 'cbd2b76020c8f3f8', '/content/data/frame115.jpg': 'cbd2b76020c8f3f8', '/content/data/frame127.jpg': '85873f2038c8f7f8', '/content/data/frame128.jpg': '85873f2038c8f7f8'}\n",
            "78\n"
          ]
        }
      ]
    },
    {
      "cell_type": "markdown",
      "source": [
        "**Frames with difference can have same phash values. Reference https://ieeexplore.ieee.org/abstract/document/9926651. So to remove those values, mean of the ssim in the sliding window has to be determined and ones above the threshold value will be considered as duplicates. The value of threshold has to be experimented.The sliding window is a type of variable size depending upon the number of frames in time stamp with a limit**"
      ],
      "metadata": {
        "id": "cCvlxETLgA88"
      }
    },
    {
      "cell_type": "code",
      "source": [
        "time_frame=list(time_frames)#time_frames is the dictionary with frames and timestamp values\n",
        "my_list = list(final)\n",
        "print(time_frame)\n",
        "print(len(my_list))\n",
        "print (type(my_list))"
      ],
      "metadata": {
        "colab": {
          "base_uri": "https://localhost:8080/"
        },
        "id": "ii4Cx2gLnF0t",
        "outputId": "8fec205a-6c58-4b3a-84c8-fa62eb46a1c3"
      },
      "execution_count": 12,
      "outputs": [
        {
          "output_type": "stream",
          "name": "stdout",
          "text": [
            "['/content/data/frame0.jpg', '/content/data/frame1.jpg', '/content/data/frame2.jpg', '/content/data/frame3.jpg', '/content/data/frame4.jpg', '/content/data/frame5.jpg', '/content/data/frame6.jpg', '/content/data/frame7.jpg', '/content/data/frame8.jpg', '/content/data/frame9.jpg', '/content/data/frame10.jpg', '/content/data/frame11.jpg', '/content/data/frame12.jpg', '/content/data/frame13.jpg', '/content/data/frame14.jpg', '/content/data/frame15.jpg', '/content/data/frame16.jpg', '/content/data/frame17.jpg', '/content/data/frame18.jpg', '/content/data/frame19.jpg', '/content/data/frame20.jpg', '/content/data/frame21.jpg', '/content/data/frame22.jpg', '/content/data/frame23.jpg', '/content/data/frame24.jpg', '/content/data/frame25.jpg', '/content/data/frame26.jpg', '/content/data/frame27.jpg', '/content/data/frame28.jpg', '/content/data/frame29.jpg', '/content/data/frame30.jpg', '/content/data/frame31.jpg', '/content/data/frame32.jpg', '/content/data/frame33.jpg', '/content/data/frame34.jpg', '/content/data/frame35.jpg', '/content/data/frame36.jpg', '/content/data/frame37.jpg', '/content/data/frame38.jpg', '/content/data/frame39.jpg', '/content/data/frame40.jpg', '/content/data/frame41.jpg', '/content/data/frame42.jpg', '/content/data/frame43.jpg', '/content/data/frame44.jpg', '/content/data/frame45.jpg', '/content/data/frame46.jpg', '/content/data/frame47.jpg', '/content/data/frame48.jpg', '/content/data/frame49.jpg', '/content/data/frame50.jpg', '/content/data/frame51.jpg', '/content/data/frame52.jpg', '/content/data/frame53.jpg', '/content/data/frame54.jpg', '/content/data/frame55.jpg', '/content/data/frame56.jpg', '/content/data/frame57.jpg', '/content/data/frame58.jpg', '/content/data/frame59.jpg', '/content/data/frame60.jpg', '/content/data/frame61.jpg', '/content/data/frame62.jpg', '/content/data/frame63.jpg', '/content/data/frame64.jpg', '/content/data/frame65.jpg', '/content/data/frame66.jpg', '/content/data/frame67.jpg', '/content/data/frame68.jpg', '/content/data/frame69.jpg', '/content/data/frame70.jpg', '/content/data/frame71.jpg', '/content/data/frame72.jpg', '/content/data/frame73.jpg', '/content/data/frame74.jpg', '/content/data/frame75.jpg', '/content/data/frame76.jpg', '/content/data/frame77.jpg', '/content/data/frame78.jpg', '/content/data/frame79.jpg', '/content/data/frame80.jpg', '/content/data/frame81.jpg', '/content/data/frame82.jpg', '/content/data/frame83.jpg', '/content/data/frame84.jpg', '/content/data/frame85.jpg', '/content/data/frame86.jpg', '/content/data/frame87.jpg', '/content/data/frame88.jpg', '/content/data/frame89.jpg', '/content/data/frame90.jpg', '/content/data/frame91.jpg', '/content/data/frame92.jpg', '/content/data/frame93.jpg', '/content/data/frame94.jpg', '/content/data/frame95.jpg', '/content/data/frame96.jpg', '/content/data/frame97.jpg', '/content/data/frame98.jpg', '/content/data/frame99.jpg', '/content/data/frame100.jpg', '/content/data/frame101.jpg', '/content/data/frame102.jpg', '/content/data/frame103.jpg', '/content/data/frame104.jpg', '/content/data/frame105.jpg', '/content/data/frame106.jpg', '/content/data/frame107.jpg', '/content/data/frame108.jpg', '/content/data/frame109.jpg', '/content/data/frame110.jpg', '/content/data/frame111.jpg', '/content/data/frame112.jpg', '/content/data/frame113.jpg', '/content/data/frame114.jpg', '/content/data/frame115.jpg', '/content/data/frame116.jpg', '/content/data/frame117.jpg', '/content/data/frame118.jpg', '/content/data/frame119.jpg', '/content/data/frame120.jpg', '/content/data/frame121.jpg', '/content/data/frame122.jpg', '/content/data/frame123.jpg', '/content/data/frame124.jpg', '/content/data/frame125.jpg', '/content/data/frame126.jpg', '/content/data/frame127.jpg', '/content/data/frame128.jpg', '/content/data/frame129.jpg', '/content/data/frame130.jpg', '/content/data/frame131.jpg']\n",
            "78\n",
            "<class 'list'>\n"
          ]
        }
      ]
    },
    {
      "cell_type": "markdown",
      "source": [
        "**Frame numbers having duplicate phash values with **timestamp** **"
      ],
      "metadata": {
        "id": "3x2w0bhPBT1t"
      }
    },
    {
      "cell_type": "code",
      "source": [
        "frame_time=[]\n",
        "frame_name=[]\n",
        "new_timeframe={}\n",
        "result={}\n",
        "k=0\n",
        "for i in range(0,len(time_frame)):\n",
        "  for j in range(0,len(my_list)):\n",
        "    if(time_frame[i]==my_list[j]):\n",
        "      frame_name.append(my_list[j])\n",
        "print(frame_name)\n",
        "for k,v in time_frames.items():\n",
        "    for i in frame_name:\n",
        "        if i==k:\n",
        "            new_timeframe[k] = v\n",
        "print(new_timeframe)"
      ],
      "metadata": {
        "colab": {
          "base_uri": "https://localhost:8080/"
        },
        "id": "30F9HiKy2CJy",
        "outputId": "219d97a8-f53b-48f3-9294-027f58b2798a"
      },
      "execution_count": 54,
      "outputs": [
        {
          "output_type": "stream",
          "name": "stdout",
          "text": [
            "['/content/data/frame12.jpg', '/content/data/frame13.jpg', '/content/data/frame32.jpg', '/content/data/frame33.jpg', '/content/data/frame34.jpg', '/content/data/frame36.jpg', '/content/data/frame38.jpg', '/content/data/frame39.jpg', '/content/data/frame40.jpg', '/content/data/frame41.jpg', '/content/data/frame42.jpg', '/content/data/frame43.jpg', '/content/data/frame44.jpg', '/content/data/frame45.jpg', '/content/data/frame46.jpg', '/content/data/frame47.jpg', '/content/data/frame48.jpg', '/content/data/frame50.jpg', '/content/data/frame51.jpg', '/content/data/frame52.jpg', '/content/data/frame53.jpg', '/content/data/frame54.jpg', '/content/data/frame55.jpg', '/content/data/frame56.jpg', '/content/data/frame57.jpg', '/content/data/frame58.jpg', '/content/data/frame59.jpg', '/content/data/frame60.jpg', '/content/data/frame61.jpg', '/content/data/frame62.jpg', '/content/data/frame63.jpg', '/content/data/frame64.jpg', '/content/data/frame65.jpg', '/content/data/frame66.jpg', '/content/data/frame67.jpg', '/content/data/frame68.jpg', '/content/data/frame69.jpg', '/content/data/frame70.jpg', '/content/data/frame71.jpg', '/content/data/frame72.jpg', '/content/data/frame73.jpg', '/content/data/frame74.jpg', '/content/data/frame75.jpg', '/content/data/frame76.jpg', '/content/data/frame77.jpg', '/content/data/frame78.jpg', '/content/data/frame79.jpg', '/content/data/frame81.jpg', '/content/data/frame82.jpg', '/content/data/frame83.jpg', '/content/data/frame84.jpg', '/content/data/frame85.jpg', '/content/data/frame86.jpg', '/content/data/frame87.jpg', '/content/data/frame88.jpg', '/content/data/frame89.jpg', '/content/data/frame90.jpg', '/content/data/frame91.jpg', '/content/data/frame92.jpg', '/content/data/frame93.jpg', '/content/data/frame94.jpg', '/content/data/frame95.jpg', '/content/data/frame96.jpg', '/content/data/frame97.jpg', '/content/data/frame98.jpg', '/content/data/frame99.jpg', '/content/data/frame101.jpg', '/content/data/frame102.jpg', '/content/data/frame103.jpg', '/content/data/frame104.jpg', '/content/data/frame107.jpg', '/content/data/frame108.jpg', '/content/data/frame111.jpg', '/content/data/frame112.jpg', '/content/data/frame114.jpg', '/content/data/frame115.jpg', '/content/data/frame127.jpg', '/content/data/frame128.jpg']\n",
            "{'/content/data/frame12.jpg': 0.48, '/content/data/frame13.jpg': 0.52, '/content/data/frame32.jpg': 1.28, '/content/data/frame33.jpg': 1.32, '/content/data/frame34.jpg': 1.36, '/content/data/frame36.jpg': 1.44, '/content/data/frame38.jpg': 1.52, '/content/data/frame39.jpg': 1.56, '/content/data/frame40.jpg': 1.6, '/content/data/frame41.jpg': 1.64, '/content/data/frame42.jpg': 1.68, '/content/data/frame43.jpg': 1.72, '/content/data/frame44.jpg': 1.76, '/content/data/frame45.jpg': 1.8, '/content/data/frame46.jpg': 1.84, '/content/data/frame47.jpg': 1.88, '/content/data/frame48.jpg': 1.92, '/content/data/frame50.jpg': 2.0, '/content/data/frame51.jpg': 2.04, '/content/data/frame52.jpg': 2.08, '/content/data/frame53.jpg': 2.12, '/content/data/frame54.jpg': 2.16, '/content/data/frame55.jpg': 2.2, '/content/data/frame56.jpg': 2.24, '/content/data/frame57.jpg': 2.28, '/content/data/frame58.jpg': 2.32, '/content/data/frame59.jpg': 2.36, '/content/data/frame60.jpg': 2.4, '/content/data/frame61.jpg': 2.44, '/content/data/frame62.jpg': 2.48, '/content/data/frame63.jpg': 2.52, '/content/data/frame64.jpg': 2.56, '/content/data/frame65.jpg': 2.6, '/content/data/frame66.jpg': 2.64, '/content/data/frame67.jpg': 2.68, '/content/data/frame68.jpg': 2.72, '/content/data/frame69.jpg': 2.76, '/content/data/frame70.jpg': 2.8, '/content/data/frame71.jpg': 2.84, '/content/data/frame72.jpg': 2.88, '/content/data/frame73.jpg': 2.92, '/content/data/frame74.jpg': 2.96, '/content/data/frame75.jpg': 3.0, '/content/data/frame76.jpg': 3.04, '/content/data/frame77.jpg': 3.08, '/content/data/frame78.jpg': 3.12, '/content/data/frame79.jpg': 3.16, '/content/data/frame81.jpg': 3.24, '/content/data/frame82.jpg': 3.28, '/content/data/frame83.jpg': 3.32, '/content/data/frame84.jpg': 3.36, '/content/data/frame85.jpg': 3.4, '/content/data/frame86.jpg': 3.44, '/content/data/frame87.jpg': 3.48, '/content/data/frame88.jpg': 3.52, '/content/data/frame89.jpg': 3.56, '/content/data/frame90.jpg': 3.6, '/content/data/frame91.jpg': 3.64, '/content/data/frame92.jpg': 3.68, '/content/data/frame93.jpg': 3.72, '/content/data/frame94.jpg': 3.76, '/content/data/frame95.jpg': 3.8, '/content/data/frame96.jpg': 3.84, '/content/data/frame97.jpg': 3.88, '/content/data/frame98.jpg': 3.92, '/content/data/frame99.jpg': 3.96, '/content/data/frame101.jpg': 4.04, '/content/data/frame102.jpg': 4.08, '/content/data/frame103.jpg': 4.12, '/content/data/frame104.jpg': 4.16, '/content/data/frame107.jpg': 4.28, '/content/data/frame108.jpg': 4.32, '/content/data/frame111.jpg': 4.44, '/content/data/frame112.jpg': 4.48, '/content/data/frame114.jpg': 4.56, '/content/data/frame115.jpg': 4.6, '/content/data/frame127.jpg': 5.08, '/content/data/frame128.jpg': 5.12}\n"
          ]
        }
      ]
    },
    {
      "cell_type": "code",
      "source": [
        "list_of_frames=[]"
      ],
      "metadata": {
        "id": "468d8i4kwWpl"
      },
      "execution_count": 74,
      "outputs": []
    },
    {
      "cell_type": "markdown",
      "source": [
        "Code to find the mean of ssim in each timestamp quota from the frames with duplicate phash values"
      ],
      "metadata": {
        "id": "dA0tsGJUydAH"
      }
    },
    {
      "cell_type": "code",
      "source": [
        "import imagehash\n",
        "import numpy\n",
        "from PIL import Image\n",
        "from collections import Counter\n",
        "from skimage.metrics import structural_similarity as ssim\n",
        "quota=5# a constant value to be modified\n",
        "timestamp_quota=round(len(time_stamp)*np.mean(duration),0)\n",
        "#images = numpy.empty(dtype=object)\n",
        "images=[]\n",
        "ssim_list=[]\n",
        "dup_frames={}\n",
        "time=[]\n",
        "j=0\n",
        "print(timestamp_quota)\n",
        "timestamp_quota_int=timestamp_quota.astype(int)\n",
        "print(timestamp_quota_int)\n",
        "#appending images with duplicate phash values\n",
        "for i in range(len(frame_name)):\n",
        "   images.append(cv2.imread(frame_name[i]))\n",
        "#appending timestamp of frames having duplicate phash values\n",
        "for key in new_timeframe:\n",
        "  time.append(new_timeframe[key])\n"
      ],
      "metadata": {
        "colab": {
          "base_uri": "https://localhost:8080/"
        },
        "id": "nTNEQMSmlZHS",
        "outputId": "75217ef8-5817-48a1-db53-e468bf05e9ba"
      },
      "execution_count": 77,
      "outputs": [
        {
          "output_type": "stream",
          "name": "stdout",
          "text": [
            "5.0\n",
            "5\n"
          ]
        }
      ]
    },
    {
      "cell_type": "code",
      "source": [
        "print(len(images))\n",
        "print(len(time))\n",
        "print(len(frame_name))\n",
        "print(len(list_of_frames))"
      ],
      "metadata": {
        "colab": {
          "base_uri": "https://localhost:8080/"
        },
        "id": "xuPQYTp-2B00",
        "outputId": "20832ad2-cee7-4088-c8b3-f75373b4f581"
      },
      "execution_count": 143,
      "outputs": [
        {
          "output_type": "stream",
          "name": "stdout",
          "text": [
            "78\n",
            "78\n",
            "78\n",
            "0\n"
          ]
        }
      ]
    },
    {
      "cell_type": "code",
      "source": [
        "import math\n",
        "count =0\n",
        "dup_frames=[]\n",
        "dup_frames_time={}\n",
        "j=0\n",
        "index=0\n",
        "quota=5\n",
        "timestamp_quota_int=5\n",
        "no_of_loops=math.ceil(len(frame_name)/quota)\n",
        "while(True):\n",
        "  for n in range(j,timestamp_quota_int):\n",
        "    for i in range(j,timestamp_quota_int):\n",
        "      img1=images[n]\n",
        "      img2=images[i]\n",
        "      image1 = cv2.cvtColor(img1, cv2.COLOR_BGR2GRAY)\n",
        "      image2 = cv2.cvtColor(img2, cv2.COLOR_BGR2GRAY)          # trainImage\n",
        "      score, diff = ssim(image1, image2, full=True)\n",
        "      diff = (diff * 255).astype(\"uint8\")\n",
        "      if(score<0.7):\n",
        "        dup_frames.append(frame_name[i])\n",
        "        duplicates=list(set(dup_frames)) #getting only unique values from the list\n",
        "  j=timestamp_quota_int\n",
        "  timestamp_quota_int=timestamp_quota_int+quota\n",
        "  count=count+1 \n",
        "  print(count,j,timestamp_quota_int,i)\n",
        "  if(count>=no_of_loops):\n",
        "    break\n",
        "\n",
        "\n",
        "  \n",
        "     "
      ],
      "metadata": {
        "colab": {
          "base_uri": "https://localhost:8080/",
          "height": 496
        },
        "id": "39cV9Hy5nmIQ",
        "outputId": "41c053af-a415-476a-a057-cc99d96f4479"
      },
      "execution_count": 191,
      "outputs": [
        {
          "output_type": "stream",
          "name": "stdout",
          "text": [
            "1 5 10 4\n",
            "2 10 15 9\n",
            "3 15 20 14\n",
            "4 20 25 19\n",
            "5 25 30 24\n",
            "6 30 35 29\n",
            "7 35 40 34\n",
            "8 40 45 39\n",
            "9 45 50 44\n",
            "10 50 55 49\n",
            "11 55 60 54\n",
            "12 60 65 59\n",
            "13 65 70 64\n",
            "14 70 75 69\n",
            "15 75 80 74\n"
          ]
        },
        {
          "output_type": "error",
          "ename": "IndexError",
          "evalue": "ignored",
          "traceback": [
            "\u001b[0;31m---------------------------------------------------------------------------\u001b[0m",
            "\u001b[0;31mIndexError\u001b[0m                                Traceback (most recent call last)",
            "\u001b[0;32m<ipython-input-191-abaf5dde05b7>\u001b[0m in \u001b[0;36m<module>\u001b[0;34m\u001b[0m\n\u001b[1;32m     12\u001b[0m     \u001b[0;32mfor\u001b[0m \u001b[0mi\u001b[0m \u001b[0;32min\u001b[0m \u001b[0mrange\u001b[0m\u001b[0;34m(\u001b[0m\u001b[0mj\u001b[0m\u001b[0;34m,\u001b[0m\u001b[0mtimestamp_quota_int\u001b[0m\u001b[0;34m)\u001b[0m\u001b[0;34m:\u001b[0m\u001b[0;34m\u001b[0m\u001b[0;34m\u001b[0m\u001b[0m\n\u001b[1;32m     13\u001b[0m       \u001b[0mimg1\u001b[0m\u001b[0;34m=\u001b[0m\u001b[0mimages\u001b[0m\u001b[0;34m[\u001b[0m\u001b[0mn\u001b[0m\u001b[0;34m]\u001b[0m\u001b[0;34m\u001b[0m\u001b[0;34m\u001b[0m\u001b[0m\n\u001b[0;32m---> 14\u001b[0;31m       \u001b[0mimg2\u001b[0m\u001b[0;34m=\u001b[0m\u001b[0mimages\u001b[0m\u001b[0;34m[\u001b[0m\u001b[0mi\u001b[0m\u001b[0;34m]\u001b[0m\u001b[0;34m\u001b[0m\u001b[0;34m\u001b[0m\u001b[0m\n\u001b[0m\u001b[1;32m     15\u001b[0m       \u001b[0mimage1\u001b[0m \u001b[0;34m=\u001b[0m \u001b[0mcv2\u001b[0m\u001b[0;34m.\u001b[0m\u001b[0mcvtColor\u001b[0m\u001b[0;34m(\u001b[0m\u001b[0mimg1\u001b[0m\u001b[0;34m,\u001b[0m \u001b[0mcv2\u001b[0m\u001b[0;34m.\u001b[0m\u001b[0mCOLOR_BGR2GRAY\u001b[0m\u001b[0;34m)\u001b[0m\u001b[0;34m\u001b[0m\u001b[0;34m\u001b[0m\u001b[0m\n\u001b[1;32m     16\u001b[0m       \u001b[0mimage2\u001b[0m \u001b[0;34m=\u001b[0m \u001b[0mcv2\u001b[0m\u001b[0;34m.\u001b[0m\u001b[0mcvtColor\u001b[0m\u001b[0;34m(\u001b[0m\u001b[0mimg2\u001b[0m\u001b[0;34m,\u001b[0m \u001b[0mcv2\u001b[0m\u001b[0;34m.\u001b[0m\u001b[0mCOLOR_BGR2GRAY\u001b[0m\u001b[0;34m)\u001b[0m          \u001b[0;31m# trainImage\u001b[0m\u001b[0;34m\u001b[0m\u001b[0;34m\u001b[0m\u001b[0m\n",
            "\u001b[0;31mIndexError\u001b[0m: list index out of range"
          ]
        }
      ]
    },
    {
      "cell_type": "code",
      "source": [
        "print(duplicates)"
      ],
      "metadata": {
        "colab": {
          "base_uri": "https://localhost:8080/"
        },
        "id": "eBPlslPOuBbD",
        "outputId": "e9527e79-119f-4da7-973d-96446da35d31"
      },
      "execution_count": 192,
      "outputs": [
        {
          "output_type": "stream",
          "name": "stdout",
          "text": [
            "['/content/data/frame64.jpg', '/content/data/frame104.jpg', '/content/data/frame94.jpg', '/content/data/frame33.jpg', '/content/data/frame114.jpg', '/content/data/frame78.jpg', '/content/data/frame71.jpg', '/content/data/frame51.jpg', '/content/data/frame47.jpg', '/content/data/frame102.jpg', '/content/data/frame65.jpg', '/content/data/frame95.jpg', '/content/data/frame103.jpg', '/content/data/frame96.jpg', '/content/data/frame13.jpg', '/content/data/frame50.jpg', '/content/data/frame107.jpg', '/content/data/frame128.jpg', '/content/data/frame112.jpg', '/content/data/frame63.jpg', '/content/data/frame34.jpg', '/content/data/frame68.jpg', '/content/data/frame70.jpg', '/content/data/frame81.jpg', '/content/data/frame108.jpg', '/content/data/frame66.jpg', '/content/data/frame79.jpg', '/content/data/frame82.jpg', '/content/data/frame99.jpg', '/content/data/frame52.jpg', '/content/data/frame67.jpg', '/content/data/frame72.jpg', '/content/data/frame101.jpg', '/content/data/frame32.jpg', '/content/data/frame83.jpg', '/content/data/frame98.jpg', '/content/data/frame48.jpg', '/content/data/frame111.jpg', '/content/data/frame97.jpg', '/content/data/frame12.jpg', '/content/data/frame69.jpg', '/content/data/frame127.jpg']\n"
          ]
        }
      ]
    },
    {
      "cell_type": "code",
      "source": [
        "print(j,timestamp_quota_int)"
      ],
      "metadata": {
        "colab": {
          "base_uri": "https://localhost:8080/"
        },
        "id": "PtsnOCt8smAi",
        "outputId": "605ff639-df94-40b9-c694-0cc9f699f90b"
      },
      "execution_count": 173,
      "outputs": [
        {
          "output_type": "stream",
          "name": "stdout",
          "text": [
            "20 25\n"
          ]
        }
      ]
    },
    {
      "cell_type": "code",
      "source": [
        "print(\"the duplicate frames with timestamp are\")\n",
        "for index in range(0,len(duplicates)):\n",
        "  for k in new_timeframe:\n",
        "    if(k==duplicates[index]):\n",
        "      print(k,\"with time stamp\",new_timeframe[k])"
      ],
      "metadata": {
        "colab": {
          "base_uri": "https://localhost:8080/"
        },
        "id": "nDcL9YBjH8xC",
        "outputId": "05f1ef83-4709-4065-9e1a-0abbbd071199"
      },
      "execution_count": 193,
      "outputs": [
        {
          "output_type": "stream",
          "name": "stdout",
          "text": [
            "the duplicate frames with timestamp are\n",
            "/content/data/frame64.jpg with time stamp 2.56\n",
            "/content/data/frame104.jpg with time stamp 4.16\n",
            "/content/data/frame94.jpg with time stamp 3.76\n",
            "/content/data/frame33.jpg with time stamp 1.32\n",
            "/content/data/frame114.jpg with time stamp 4.56\n",
            "/content/data/frame78.jpg with time stamp 3.12\n",
            "/content/data/frame71.jpg with time stamp 2.84\n",
            "/content/data/frame51.jpg with time stamp 2.04\n",
            "/content/data/frame47.jpg with time stamp 1.88\n",
            "/content/data/frame102.jpg with time stamp 4.08\n",
            "/content/data/frame65.jpg with time stamp 2.6\n",
            "/content/data/frame95.jpg with time stamp 3.8\n",
            "/content/data/frame103.jpg with time stamp 4.12\n",
            "/content/data/frame96.jpg with time stamp 3.84\n",
            "/content/data/frame13.jpg with time stamp 0.52\n",
            "/content/data/frame50.jpg with time stamp 2.0\n",
            "/content/data/frame107.jpg with time stamp 4.28\n",
            "/content/data/frame128.jpg with time stamp 5.12\n",
            "/content/data/frame112.jpg with time stamp 4.48\n",
            "/content/data/frame63.jpg with time stamp 2.52\n",
            "/content/data/frame34.jpg with time stamp 1.36\n",
            "/content/data/frame68.jpg with time stamp 2.72\n",
            "/content/data/frame70.jpg with time stamp 2.8\n",
            "/content/data/frame81.jpg with time stamp 3.24\n",
            "/content/data/frame108.jpg with time stamp 4.32\n",
            "/content/data/frame66.jpg with time stamp 2.64\n",
            "/content/data/frame79.jpg with time stamp 3.16\n",
            "/content/data/frame82.jpg with time stamp 3.28\n",
            "/content/data/frame99.jpg with time stamp 3.96\n",
            "/content/data/frame52.jpg with time stamp 2.08\n",
            "/content/data/frame67.jpg with time stamp 2.68\n",
            "/content/data/frame72.jpg with time stamp 2.88\n",
            "/content/data/frame101.jpg with time stamp 4.04\n",
            "/content/data/frame32.jpg with time stamp 1.28\n",
            "/content/data/frame83.jpg with time stamp 3.32\n",
            "/content/data/frame98.jpg with time stamp 3.92\n",
            "/content/data/frame48.jpg with time stamp 1.92\n",
            "/content/data/frame111.jpg with time stamp 4.44\n",
            "/content/data/frame97.jpg with time stamp 3.88\n",
            "/content/data/frame12.jpg with time stamp 0.48\n",
            "/content/data/frame69.jpg with time stamp 2.76\n",
            "/content/data/frame127.jpg with time stamp 5.08\n"
          ]
        }
      ]
    }
  ]
}