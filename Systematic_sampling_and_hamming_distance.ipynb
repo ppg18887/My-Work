{
  "nbformat": 4,
  "nbformat_minor": 0,
  "metadata": {
    "colab": {
      "provenance": []
    },
    "kernelspec": {
      "name": "python3",
      "display_name": "Python 3"
    },
    "language_info": {
      "name": "python"
    }
  },
  "cells": [
    {
      "cell_type": "markdown",
      "source": [
        "Reference https://blog.video.ibm.com/streaming-video-tips/keyframes-interframe-video-compression/"
      ],
      "metadata": {
        "id": "zRO6zmjjQGqq"
      }
    },
    {
      "cell_type": "markdown",
      "source": [
        "Code for perforing system sampling of video frames. As of now systematic interval has been set to 5, the interval has to be decided by calculating the mean of key frame interval values from some prominent videos in datasets"
      ],
      "metadata": {
        "id": "KuZw-VILXmtF"
      }
    },
    {
      "cell_type": "code",
      "source": [
        "!ffmpeg -i '/content/01_original.mp4' -vf showinfo '/content/output.txt'"
      ],
      "metadata": {
        "colab": {
          "base_uri": "https://localhost:8080/"
        },
        "id": "oLPsDUh0RD05",
        "outputId": "88030aa8-baa1-45c6-b8bf-fdb17f015d6d"
      },
      "execution_count": 4,
      "outputs": [
        {
          "output_type": "stream",
          "name": "stdout",
          "text": [
            "ffmpeg version 4.2.7-0ubuntu0.1 Copyright (c) 2000-2022 the FFmpeg developers\n",
            "  built with gcc 9 (Ubuntu 9.4.0-1ubuntu1~20.04.1)\n",
            "  configuration: --prefix=/usr --extra-version=0ubuntu0.1 --toolchain=hardened --libdir=/usr/lib/x86_64-linux-gnu --incdir=/usr/include/x86_64-linux-gnu --arch=amd64 --enable-gpl --disable-stripping --enable-avresample --disable-filter=resample --enable-avisynth --enable-gnutls --enable-ladspa --enable-libaom --enable-libass --enable-libbluray --enable-libbs2b --enable-libcaca --enable-libcdio --enable-libcodec2 --enable-libflite --enable-libfontconfig --enable-libfreetype --enable-libfribidi --enable-libgme --enable-libgsm --enable-libjack --enable-libmp3lame --enable-libmysofa --enable-libopenjpeg --enable-libopenmpt --enable-libopus --enable-libpulse --enable-librsvg --enable-librubberband --enable-libshine --enable-libsnappy --enable-libsoxr --enable-libspeex --enable-libssh --enable-libtheora --enable-libtwolame --enable-libvidstab --enable-libvorbis --enable-libvpx --enable-libwavpack --enable-libwebp --enable-libx265 --enable-libxml2 --enable-libxvid --enable-libzmq --enable-libzvbi --enable-lv2 --enable-omx --enable-openal --enable-opencl --enable-opengl --enable-sdl2 --enable-libdc1394 --enable-libdrm --enable-libiec61883 --enable-nvenc --enable-chromaprint --enable-frei0r --enable-libx264 --enable-shared\n",
            "  libavutil      56. 31.100 / 56. 31.100\n",
            "  libavcodec     58. 54.100 / 58. 54.100\n",
            "  libavformat    58. 29.100 / 58. 29.100\n",
            "  libavdevice    58.  8.100 / 58.  8.100\n",
            "  libavfilter     7. 57.100 /  7. 57.100\n",
            "  libavresample   4.  0.  0 /  4.  0.  0\n",
            "  libswscale      5.  5.100 /  5.  5.100\n",
            "  libswresample   3.  5.100 /  3.  5.100\n",
            "  libpostproc    55.  5.100 / 55.  5.100\n",
            "Input #0, mov,mp4,m4a,3gp,3g2,mj2, from '/content/01_original.mp4':\n",
            "  Metadata:\n",
            "    major_brand     : isom\n",
            "    minor_version   : 512\n",
            "    compatible_brands: isomiso2avc1mp41\n",
            "    encoder         : Lavf56.15.102\n",
            "  Duration: 00:00:08.40, start: 0.000000, bitrate: 8561 kb/s\n",
            "    Stream #0:0(und): Video: h264 (High 4:4:4 Predictive) (avc1 / 0x31637661), yuv420p, 320x240, 8560 kb/s, 25 fps, 25 tbr, 12800 tbn, 50 tbc (default)\n",
            "    Metadata:\n",
            "      handler_name    : VideoHandler\n",
            "\u001b[1;35m[NULL @ 0x55eaed88a7c0] \u001b[0m\u001b[1;31mUnable to find a suitable output format for '/content/output.txt'\n",
            "\u001b[0m\u001b[1;31m/content/output.txt: Invalid argument\n",
            "\u001b[0m"
          ]
        }
      ]
    },
    {
      "cell_type": "markdown",
      "source": [
        "Extracting keyfrme using ffmpeg"
      ],
      "metadata": {
        "id": "t31HOrfqVE-r"
      }
    },
    {
      "cell_type": "code",
      "source": [
        "!ffmpeg -skip_frame nokey -i '/content/01_original.mp4' -vsync 0 -r 30 -f image2 thumbnails-%02d.jpeg"
      ],
      "metadata": {
        "id": "bYz0Gt_CUHBa"
      },
      "execution_count": null,
      "outputs": []
    },
    {
      "cell_type": "markdown",
      "source": [
        "Reference https://stackoverflow.com/questions/18085458/checking-keyframe-interval"
      ],
      "metadata": {
        "id": "xqNQTr2eV0kg"
      }
    },
    {
      "cell_type": "code",
      "source": [
        "!ffprobe -loglevel error -select_streams v:0 -show_entries packet=pts_time,flags -of csv=print_section=0 '/content/alimi exercise1.mp4' | awk -F',' '/K/ {print $1}'"
      ],
      "metadata": {
        "colab": {
          "base_uri": "https://localhost:8080/"
        },
        "id": "zE05o_DHVJd8",
        "outputId": "9d91c702-c4a2-4f35-b737-e6ba542fe4be"
      },
      "execution_count": 14,
      "outputs": [
        {
          "output_type": "stream",
          "name": "stdout",
          "text": [
            "0.000000\n",
            "10.000000\n"
          ]
        }
      ]
    },
    {
      "cell_type": "markdown",
      "source": [
        "Reference https://stackoverflow.com/questions/18085458/checking-keyframe-interval"
      ],
      "metadata": {
        "id": "IBimuQy5WiWL"
      }
    },
    {
      "cell_type": "code",
      "source": [
        "!ffmpeg -i '/content/01_original.mp4' -f ffmetadata '/content/output.txt'"
      ],
      "metadata": {
        "id": "c7GG3WqbYz8K"
      },
      "execution_count": null,
      "outputs": []
    },
    {
      "cell_type": "code",
      "source": [
        "!probtime=10 && ffprobe -hide_banner -of compact=p=0:nk=1 -select_streams v:0 -count_frames -show_entries stream=nb_read_frames -skip_frame nokey -v 0 -read_intervals \"%+$probtime\" -i '/content/alas walk1.AVI' | awk -v probtime=\"$probtime\" '{print probtime/$1}'"
      ],
      "metadata": {
        "colab": {
          "base_uri": "https://localhost:8080/"
        },
        "id": "wUP85p4IV5VT",
        "outputId": "39e369c3-ce6c-43b0-b486-d0c4d6dac633"
      },
      "execution_count": 12,
      "outputs": [
        {
          "output_type": "stream",
          "name": "stdout",
          "text": [
            "0.042735\n"
          ]
        }
      ]
    },
    {
      "cell_type": "code",
      "source": [
        "!probtime=10 && ffprobe -hide_banner -of compact=p=0:nk=1 -select_streams v:0 -count_frames -show_entries stream=nb_read_frames -skip_frame nokey -v 0 -read_intervals \"%+$probtime\" -i '/content/alimi exercise1.mp4' | awk -v probtime=\"$probtime\" '{print probtime/$1}'"
      ],
      "metadata": {
        "colab": {
          "base_uri": "https://localhost:8080/"
        },
        "outputId": "f2a2e4d8-2277-4fd4-dac8-2121db5e34a0",
        "id": "VAhHiTPKXn6a"
      },
      "execution_count": 13,
      "outputs": [
        {
          "output_type": "stream",
          "name": "stdout",
          "text": [
            "10\n"
          ]
        }
      ]
    },
    {
      "cell_type": "markdown",
      "source": [
        "Systematic sampling Reference https://www.geeksforgeeks.org/systematic-sampling-in-pandas/"
      ],
      "metadata": {
        "id": "SIpEoPjqb1sP"
      }
    },
    {
      "cell_type": "code",
      "source": [
        "import cv2\n",
        "import os\n",
        "out_dir_path='/content/frames'\n",
        "if not os.path.exists(out_dir_path):\n",
        " os.mkdir('/content/frames')\n",
        "vidcap = cv2.VideoCapture('/content/alas walk1.AVI')\n",
        "def getFrame(sec):\n",
        "    vidcap.set(cv2.CAP_PROP_POS_MSEC,sec*1000)\n",
        "    hasFrames,image = vidcap.read()\n",
        "    video_length = round(vidcap.get(cv2.CAP_PROP_FRAME_COUNT)) - 1\n",
        "    video_fps = round(vidcap.get(cv2.CAP_PROP_FPS),2)\n",
        "    video_time = round((video_length /video_fps),2)\n",
        "    video_resolution = str(vidcap.get(cv2.CAP_PROP_FRAME_WIDTH)) + \"/\" + str(vidcap.get(cv2.CAP_PROP_FRAME_HEIGHT ))\n",
        "    if hasFrames:\n",
        "        cv2.imwrite(\"/content/frames/image\"+str(count)+\".jpg\", image)     # save frame as JPG file\n",
        "    return hasFrames\n",
        "sec = 0\n",
        "frameRate = 0.5 #//it will capture image in each 0.5 second\n",
        "count=1\n",
        "success = getFrame(sec)\n",
        "while success:\n",
        "    count = count + 1\n",
        "    sec = sec + frameRate\n",
        "    sec = round(sec, 2)\n",
        "    success = getFrame(sec)"
      ],
      "metadata": {
        "id": "41DnVp8ybzgi"
      },
      "execution_count": 1,
      "outputs": []
    },
    {
      "cell_type": "code",
      "source": [
        "from os import listdir\n",
        "from os.path import isfile, join\n",
        "import numpy\n",
        "import cv2\n",
        "import natsort\n",
        "from skimage.metrics import structural_similarity as ssim\n",
        "mypath='/content/frames'\n",
        "onlyfiles = [ f for f in listdir(mypath) if isfile(join(mypath,f)) ]\n",
        "onlyfiles=natsort.natsorted(onlyfiles)\n",
        "images = numpy.empty(len(onlyfiles), dtype=object)\n",
        "ssim_list=[]\n",
        "for n in range(0, len(onlyfiles)):\n",
        "  images[n] = cv2.imread( join(mypath,onlyfiles[n]) )\n",
        "print(len(images))\n",
        "print(images.shape)\n",
        "print(type(images))\n",
        "print(images[0])"
      ],
      "metadata": {
        "colab": {
          "base_uri": "https://localhost:8080/"
        },
        "id": "n_Wnletdd6Lr",
        "outputId": "993c26f0-0e49-453c-e427-13d002a705e4"
      },
      "execution_count": 56,
      "outputs": [
        {
          "output_type": "stream",
          "name": "stdout",
          "text": [
            "16\n",
            "(16,)\n",
            "<class 'numpy.ndarray'>\n",
            "[[[250 241 232]\n",
            "  [250 241 232]\n",
            "  [250 241 232]\n",
            "  ...\n",
            "  [253 242 238]\n",
            "  [253 242 238]\n",
            "  [252 241 237]]\n",
            "\n",
            " [[250 241 232]\n",
            "  [250 241 232]\n",
            "  [250 241 232]\n",
            "  ...\n",
            "  [254 243 239]\n",
            "  [254 243 239]\n",
            "  [253 242 238]]\n",
            "\n",
            " [[250 241 232]\n",
            "  [250 241 232]\n",
            "  [250 241 232]\n",
            "  ...\n",
            "  [254 245 241]\n",
            "  [253 244 240]\n",
            "  [253 244 240]]\n",
            "\n",
            " ...\n",
            "\n",
            " [[121 126 125]\n",
            "  [123 128 127]\n",
            "  [126 131 130]\n",
            "  ...\n",
            "  [142 140 139]\n",
            "  [143 141 140]\n",
            "  [139 137 136]]\n",
            "\n",
            " [[119 124 123]\n",
            "  [122 127 126]\n",
            "  [125 130 129]\n",
            "  ...\n",
            "  [143 141 140]\n",
            "  [148 146 145]\n",
            "  [149 147 146]]\n",
            "\n",
            " [[115 120 119]\n",
            "  [119 124 123]\n",
            "  [121 126 125]\n",
            "  ...\n",
            "  [139 137 136]\n",
            "  [141 139 138]\n",
            "  [142 140 139]]]\n"
          ]
        }
      ]
    },
    {
      "cell_type": "markdown",
      "source": [
        "Code to perform systematic sampling"
      ],
      "metadata": {
        "id": "hvf9RczpJZo8"
      }
    },
    {
      "cell_type": "code",
      "source": [
        "#sampling_array=images[0]\n",
        "#print(sampling_array,shape)\n",
        "sampling_interval=5\n",
        "sampling_array = numpy.empty(sampling_interval, dtype=object)\n",
        "i=0\n",
        "j=0\n",
        "while(i<=len(images)):\n",
        "  sampling_array[j]=images[i]\n",
        "  i=i+sampling_interval\n",
        "  j=j+1\n",
        "print(len(sampling_array))\n",
        "\n"
      ],
      "metadata": {
        "colab": {
          "base_uri": "https://localhost:8080/"
        },
        "id": "xxEQsGBpNO4j",
        "outputId": "686e7646-19bd-42db-cd83-14482b5d4271"
      },
      "execution_count": 60,
      "outputs": [
        {
          "output_type": "stream",
          "name": "stdout",
          "text": [
            "5\n"
          ]
        }
      ]
    },
    {
      "cell_type": "code",
      "source": [
        "from PIL import Image\n",
        "from numpy import *\n",
        "out_dir_path='/content/random sample'\n",
        "if not os.path.exists(out_dir_path):\n",
        " os.mkdir('/content/random_sample')\n",
        "for i in range(0,5):\n",
        "  im = array(random_list[i])\n",
        "  image=Image.fromarray(im)\n",
        "  image.save(\"/content/random_sample/rand_Image\"+str(i)+\".jpg\")"
      ],
      "metadata": {
        "id": "PVETp5WEEz7x"
      },
      "execution_count": null,
      "outputs": []
    },
    {
      "cell_type": "code",
      "source": [
        "from PIL import Image\n",
        "from numpy import *\n",
        "out_dir_path='/content/systematic_sample'\n",
        "if not os.path.exists(out_dir_path):\n",
        " os.mkdir('/content/systematic_sample')\n",
        "for i in range(0,sampling_interval):\n",
        "  im = array(sampling_array[i])\n",
        "  print(type(im))\n",
        "  image = Image.fromarray(im)\n",
        "  image.save(\"/content/systematic_sample/sys_Image\"+str(i)+\".jpg\")"
      ],
      "metadata": {
        "id": "5CiCsB8KtppV",
        "colab": {
          "base_uri": "https://localhost:8080/",
          "height": 537
        },
        "outputId": "c1765c3c-5736-4479-ee06-c39c595ca5cd"
      },
      "execution_count": 66,
      "outputs": [
        {
          "output_type": "stream",
          "name": "stdout",
          "text": [
            "<class 'numpy.ndarray'>\n",
            "<class 'numpy.ndarray'>\n",
            "<class 'numpy.ndarray'>\n",
            "<class 'numpy.ndarray'>\n",
            "<class 'numpy.ndarray'>\n"
          ]
        },
        {
          "output_type": "error",
          "ename": "TypeError",
          "evalue": "ignored",
          "traceback": [
            "\u001b[0;31m---------------------------------------------------------------------------\u001b[0m",
            "\u001b[0;31mKeyError\u001b[0m                                  Traceback (most recent call last)",
            "\u001b[0;32m/usr/local/lib/python3.9/dist-packages/PIL/Image.py\u001b[0m in \u001b[0;36mfromarray\u001b[0;34m(obj, mode)\u001b[0m\n\u001b[1;32m   2834\u001b[0m         \u001b[0;32mtry\u001b[0m\u001b[0;34m:\u001b[0m\u001b[0;34m\u001b[0m\u001b[0;34m\u001b[0m\u001b[0m\n\u001b[0;32m-> 2835\u001b[0;31m             \u001b[0mmode\u001b[0m\u001b[0;34m,\u001b[0m \u001b[0mrawmode\u001b[0m \u001b[0;34m=\u001b[0m \u001b[0m_fromarray_typemap\u001b[0m\u001b[0;34m[\u001b[0m\u001b[0mtypekey\u001b[0m\u001b[0;34m]\u001b[0m\u001b[0;34m\u001b[0m\u001b[0;34m\u001b[0m\u001b[0m\n\u001b[0m\u001b[1;32m   2836\u001b[0m         \u001b[0;32mexcept\u001b[0m \u001b[0mKeyError\u001b[0m \u001b[0;32mas\u001b[0m \u001b[0me\u001b[0m\u001b[0;34m:\u001b[0m\u001b[0;34m\u001b[0m\u001b[0;34m\u001b[0m\u001b[0m\n",
            "\u001b[0;31mKeyError\u001b[0m: ((1, 1), '|O')",
            "\nThe above exception was the direct cause of the following exception:\n",
            "\u001b[0;31mTypeError\u001b[0m                                 Traceback (most recent call last)",
            "\u001b[0;32m<ipython-input-66-8b27bc129c72>\u001b[0m in \u001b[0;36m<module>\u001b[0;34m\u001b[0m\n\u001b[1;32m      7\u001b[0m   \u001b[0mim\u001b[0m \u001b[0;34m=\u001b[0m \u001b[0marray\u001b[0m\u001b[0;34m(\u001b[0m\u001b[0msampling_array\u001b[0m\u001b[0;34m[\u001b[0m\u001b[0mi\u001b[0m\u001b[0;34m]\u001b[0m\u001b[0;34m)\u001b[0m\u001b[0;34m\u001b[0m\u001b[0;34m\u001b[0m\u001b[0m\n\u001b[1;32m      8\u001b[0m   \u001b[0mprint\u001b[0m\u001b[0;34m(\u001b[0m\u001b[0mtype\u001b[0m\u001b[0;34m(\u001b[0m\u001b[0mim\u001b[0m\u001b[0;34m)\u001b[0m\u001b[0;34m)\u001b[0m\u001b[0;34m\u001b[0m\u001b[0;34m\u001b[0m\u001b[0m\n\u001b[0;32m----> 9\u001b[0;31m   \u001b[0mimage\u001b[0m \u001b[0;34m=\u001b[0m \u001b[0mImage\u001b[0m\u001b[0;34m.\u001b[0m\u001b[0mfromarray\u001b[0m\u001b[0;34m(\u001b[0m\u001b[0mim\u001b[0m\u001b[0;34m)\u001b[0m\u001b[0;34m\u001b[0m\u001b[0;34m\u001b[0m\u001b[0m\n\u001b[0m\u001b[1;32m     10\u001b[0m   \u001b[0mimage\u001b[0m\u001b[0;34m.\u001b[0m\u001b[0msave\u001b[0m\u001b[0;34m(\u001b[0m\u001b[0;34m\"/content/systematic_sample/sys_Image\"\u001b[0m\u001b[0;34m+\u001b[0m\u001b[0mstr\u001b[0m\u001b[0;34m(\u001b[0m\u001b[0mi\u001b[0m\u001b[0;34m)\u001b[0m\u001b[0;34m+\u001b[0m\u001b[0;34m\".jpg\"\u001b[0m\u001b[0;34m)\u001b[0m\u001b[0;34m\u001b[0m\u001b[0;34m\u001b[0m\u001b[0m\n",
            "\u001b[0;32m/usr/local/lib/python3.9/dist-packages/PIL/Image.py\u001b[0m in \u001b[0;36mfromarray\u001b[0;34m(obj, mode)\u001b[0m\n\u001b[1;32m   2835\u001b[0m             \u001b[0mmode\u001b[0m\u001b[0;34m,\u001b[0m \u001b[0mrawmode\u001b[0m \u001b[0;34m=\u001b[0m \u001b[0m_fromarray_typemap\u001b[0m\u001b[0;34m[\u001b[0m\u001b[0mtypekey\u001b[0m\u001b[0;34m]\u001b[0m\u001b[0;34m\u001b[0m\u001b[0;34m\u001b[0m\u001b[0m\n\u001b[1;32m   2836\u001b[0m         \u001b[0;32mexcept\u001b[0m \u001b[0mKeyError\u001b[0m \u001b[0;32mas\u001b[0m \u001b[0me\u001b[0m\u001b[0;34m:\u001b[0m\u001b[0;34m\u001b[0m\u001b[0;34m\u001b[0m\u001b[0m\n\u001b[0;32m-> 2837\u001b[0;31m             \u001b[0;32mraise\u001b[0m \u001b[0mTypeError\u001b[0m\u001b[0;34m(\u001b[0m\u001b[0;34m\"Cannot handle this data type: %s, %s\"\u001b[0m \u001b[0;34m%\u001b[0m \u001b[0mtypekey\u001b[0m\u001b[0;34m)\u001b[0m \u001b[0;32mfrom\u001b[0m \u001b[0me\u001b[0m\u001b[0;34m\u001b[0m\u001b[0;34m\u001b[0m\u001b[0m\n\u001b[0m\u001b[1;32m   2838\u001b[0m     \u001b[0;32melse\u001b[0m\u001b[0;34m:\u001b[0m\u001b[0;34m\u001b[0m\u001b[0;34m\u001b[0m\u001b[0m\n\u001b[1;32m   2839\u001b[0m         \u001b[0mrawmode\u001b[0m \u001b[0;34m=\u001b[0m \u001b[0mmode\u001b[0m\u001b[0;34m\u001b[0m\u001b[0;34m\u001b[0m\u001b[0m\n",
            "\u001b[0;31mTypeError\u001b[0m: Cannot handle this data type: (1, 1), |O"
          ]
        }
      ]
    },
    {
      "cell_type": "code",
      "source": [
        "!pip install PhotoHash"
      ],
      "metadata": {
        "colab": {
          "base_uri": "https://localhost:8080/"
        },
        "id": "k0jcXmJpVrqs",
        "outputId": "ff17c60d-bc77-416b-bff8-0d92622c437d"
      },
      "execution_count": 67,
      "outputs": [
        {
          "output_type": "stream",
          "name": "stdout",
          "text": [
            "Looking in indexes: https://pypi.org/simple, https://us-python.pkg.dev/colab-wheels/public/simple/\n",
            "Collecting PhotoHash\n",
            "  Downloading Photohash-0.4.1.tar.gz (4.5 kB)\n",
            "  Preparing metadata (setup.py) ... \u001b[?25l\u001b[?25hdone\n",
            "Requirement already satisfied: Pillow>=2.1.0 in /usr/local/lib/python3.9/dist-packages (from PhotoHash) (8.4.0)\n",
            "Building wheels for collected packages: PhotoHash\n",
            "  Building wheel for PhotoHash (setup.py) ... \u001b[?25l\u001b[?25hdone\n",
            "  Created wheel for PhotoHash: filename=Photohash-0.4.1-py3-none-any.whl size=5008 sha256=1a232648699569b93419c45759d72879c1305ee28f0199474ff614ad714345e7\n",
            "  Stored in directory: /root/.cache/pip/wheels/9d/f5/06/2ae7abda95ec47b571ec47ecbf348fa24a375d6af17e6dbdd5\n",
            "Successfully built PhotoHash\n",
            "Installing collected packages: PhotoHash\n",
            "Successfully installed PhotoHash-0.4.1\n"
          ]
        }
      ]
    },
    {
      "cell_type": "code",
      "source": [
        "import photohash\n",
        "import glob\n",
        "for file in glob.glob('/content/systematic_sample/*.jpg'):\n",
        "  hash = photohash.average_hash(file)\n",
        "  print(hash)\n",
        "for i in range(0,4):\n",
        "  distance = photohash.distance('/content/systematic_sample/sys_Image'+str(i)+'.jpg', '/content/systematic_sample/sys_Image'+str(i+1)+'.jpg')\n",
        "  print(distance)"
      ],
      "metadata": {
        "id": "GXLFyodaClJt",
        "colab": {
          "base_uri": "https://localhost:8080/",
          "height": 555
        },
        "outputId": "f57d3a27-9ca4-44d7-98bb-3c3d9b377f58"
      },
      "execution_count": 70,
      "outputs": [
        {
          "output_type": "stream",
          "name": "stdout",
          "text": [
            "c7c7c600007eff7f\n",
            "c7c7c600007edf5f\n",
            "c7c7c600007efd7e\n",
            "c7c7c600007eff7f\n",
            "2\n",
            "4\n",
            "2\n"
          ]
        },
        {
          "output_type": "error",
          "ename": "FileNotFoundError",
          "evalue": "ignored",
          "traceback": [
            "\u001b[0;31m---------------------------------------------------------------------------\u001b[0m",
            "\u001b[0;31mFileNotFoundError\u001b[0m                         Traceback (most recent call last)",
            "\u001b[0;32m<ipython-input-70-23a9ef22f297>\u001b[0m in \u001b[0;36m<module>\u001b[0;34m\u001b[0m\n\u001b[1;32m      5\u001b[0m   \u001b[0mprint\u001b[0m\u001b[0;34m(\u001b[0m\u001b[0mhash\u001b[0m\u001b[0;34m)\u001b[0m\u001b[0;34m\u001b[0m\u001b[0;34m\u001b[0m\u001b[0m\n\u001b[1;32m      6\u001b[0m \u001b[0;32mfor\u001b[0m \u001b[0mi\u001b[0m \u001b[0;32min\u001b[0m \u001b[0mrange\u001b[0m\u001b[0;34m(\u001b[0m\u001b[0;36m0\u001b[0m\u001b[0;34m,\u001b[0m\u001b[0;36m4\u001b[0m\u001b[0;34m)\u001b[0m\u001b[0;34m:\u001b[0m\u001b[0;34m\u001b[0m\u001b[0;34m\u001b[0m\u001b[0m\n\u001b[0;32m----> 7\u001b[0;31m   \u001b[0mdistance\u001b[0m \u001b[0;34m=\u001b[0m \u001b[0mphotohash\u001b[0m\u001b[0;34m.\u001b[0m\u001b[0mdistance\u001b[0m\u001b[0;34m(\u001b[0m\u001b[0;34m'/content/systematic_sample/sys_Image'\u001b[0m\u001b[0;34m+\u001b[0m\u001b[0mstr\u001b[0m\u001b[0;34m(\u001b[0m\u001b[0mi\u001b[0m\u001b[0;34m)\u001b[0m\u001b[0;34m+\u001b[0m\u001b[0;34m'.jpg'\u001b[0m\u001b[0;34m,\u001b[0m \u001b[0;34m'/content/systematic_sample/sys_Image'\u001b[0m\u001b[0;34m+\u001b[0m\u001b[0mstr\u001b[0m\u001b[0;34m(\u001b[0m\u001b[0mi\u001b[0m\u001b[0;34m+\u001b[0m\u001b[0;36m1\u001b[0m\u001b[0;34m)\u001b[0m\u001b[0;34m+\u001b[0m\u001b[0;34m'.jpg'\u001b[0m\u001b[0;34m)\u001b[0m\u001b[0;34m\u001b[0m\u001b[0;34m\u001b[0m\u001b[0m\n\u001b[0m\u001b[1;32m      8\u001b[0m   \u001b[0mprint\u001b[0m\u001b[0;34m(\u001b[0m\u001b[0mdistance\u001b[0m\u001b[0;34m)\u001b[0m\u001b[0;34m\u001b[0m\u001b[0;34m\u001b[0m\u001b[0m\n",
            "\u001b[0;32m/usr/local/lib/python3.9/dist-packages/photohash/photohash.py\u001b[0m in \u001b[0;36mdistance\u001b[0;34m(image_path, other_image_path)\u001b[0m\n\u001b[1;32m     38\u001b[0m     \u001b[0;34m\"\"\" Compute the hamming distance between two images\"\"\"\u001b[0m\u001b[0;34m\u001b[0m\u001b[0;34m\u001b[0m\u001b[0m\n\u001b[1;32m     39\u001b[0m     \u001b[0mimage_hash\u001b[0m \u001b[0;34m=\u001b[0m \u001b[0maverage_hash\u001b[0m\u001b[0;34m(\u001b[0m\u001b[0mimage_path\u001b[0m\u001b[0;34m)\u001b[0m\u001b[0;34m\u001b[0m\u001b[0;34m\u001b[0m\u001b[0m\n\u001b[0;32m---> 40\u001b[0;31m     \u001b[0mother_image_hash\u001b[0m \u001b[0;34m=\u001b[0m \u001b[0maverage_hash\u001b[0m\u001b[0;34m(\u001b[0m\u001b[0mother_image_path\u001b[0m\u001b[0;34m)\u001b[0m\u001b[0;34m\u001b[0m\u001b[0;34m\u001b[0m\u001b[0m\n\u001b[0m\u001b[1;32m     41\u001b[0m \u001b[0;34m\u001b[0m\u001b[0m\n\u001b[1;32m     42\u001b[0m     \u001b[0;32mreturn\u001b[0m \u001b[0mhash_distance\u001b[0m\u001b[0;34m(\u001b[0m\u001b[0mimage_hash\u001b[0m\u001b[0;34m,\u001b[0m \u001b[0mother_image_hash\u001b[0m\u001b[0;34m)\u001b[0m\u001b[0;34m\u001b[0m\u001b[0;34m\u001b[0m\u001b[0m\n",
            "\u001b[0;32m/usr/local/lib/python3.9/dist-packages/photohash/photohash.py\u001b[0m in \u001b[0;36maverage_hash\u001b[0;34m(image_path, hash_size)\u001b[0m\n\u001b[1;32m     22\u001b[0m \u001b[0;32mdef\u001b[0m \u001b[0maverage_hash\u001b[0m\u001b[0;34m(\u001b[0m\u001b[0mimage_path\u001b[0m\u001b[0;34m,\u001b[0m \u001b[0mhash_size\u001b[0m\u001b[0;34m=\u001b[0m\u001b[0;36m8\u001b[0m\u001b[0;34m)\u001b[0m\u001b[0;34m:\u001b[0m\u001b[0;34m\u001b[0m\u001b[0;34m\u001b[0m\u001b[0m\n\u001b[1;32m     23\u001b[0m     \u001b[0;34m\"\"\" Compute the average hash of the given image. \"\"\"\u001b[0m\u001b[0;34m\u001b[0m\u001b[0;34m\u001b[0m\u001b[0m\n\u001b[0;32m---> 24\u001b[0;31m     \u001b[0;32mwith\u001b[0m \u001b[0mopen\u001b[0m\u001b[0;34m(\u001b[0m\u001b[0mimage_path\u001b[0m\u001b[0;34m,\u001b[0m \u001b[0;34m'rb'\u001b[0m\u001b[0;34m)\u001b[0m \u001b[0;32mas\u001b[0m \u001b[0mf\u001b[0m\u001b[0;34m:\u001b[0m\u001b[0;34m\u001b[0m\u001b[0;34m\u001b[0m\u001b[0m\n\u001b[0m\u001b[1;32m     25\u001b[0m         \u001b[0;31m# Open the image, resize it and convert it to black & white.\u001b[0m\u001b[0;34m\u001b[0m\u001b[0;34m\u001b[0m\u001b[0m\n\u001b[1;32m     26\u001b[0m         \u001b[0mimage\u001b[0m \u001b[0;34m=\u001b[0m \u001b[0mImage\u001b[0m\u001b[0;34m.\u001b[0m\u001b[0mopen\u001b[0m\u001b[0;34m(\u001b[0m\u001b[0mf\u001b[0m\u001b[0;34m)\u001b[0m\u001b[0;34m.\u001b[0m\u001b[0mresize\u001b[0m\u001b[0;34m(\u001b[0m\u001b[0;34m(\u001b[0m\u001b[0mhash_size\u001b[0m\u001b[0;34m,\u001b[0m \u001b[0mhash_size\u001b[0m\u001b[0;34m)\u001b[0m\u001b[0;34m,\u001b[0m \u001b[0mImage\u001b[0m\u001b[0;34m.\u001b[0m\u001b[0mANTIALIAS\u001b[0m\u001b[0;34m)\u001b[0m\u001b[0;34m.\u001b[0m\u001b[0mconvert\u001b[0m\u001b[0;34m(\u001b[0m\u001b[0;34m'L'\u001b[0m\u001b[0;34m)\u001b[0m\u001b[0;34m\u001b[0m\u001b[0;34m\u001b[0m\u001b[0m\n",
            "\u001b[0;31mFileNotFoundError\u001b[0m: [Errno 2] No such file or directory: '/content/systematic_sample/sys_Image4.jpg'"
          ]
        }
      ]
    },
    {
      "cell_type": "code",
      "source": [],
      "metadata": {
        "id": "JAsfCHINW16U"
      },
      "execution_count": null,
      "outputs": []
    },
    {
      "cell_type": "code",
      "source": [
        "import photohash\n",
        "similar = photohash.is_look_alike('/content/random_sample/rand_Image3.jpg', '/content/random_sample/rand_Image4.jpg', tolerance=0)\n",
        "print(similar)\t\n",
        "\t\t\n",
        "\t\t\n"
      ],
      "metadata": {
        "colab": {
          "base_uri": "https://localhost:8080/"
        },
        "id": "yvd2-h6oFh2z",
        "outputId": "8c8bea2b-fb24-4a9b-ba4f-7eed299c1d5a"
      },
      "execution_count": null,
      "outputs": [
        {
          "output_type": "stream",
          "name": "stdout",
          "text": [
            "False\n"
          ]
        }
      ]
    }
  ]
}