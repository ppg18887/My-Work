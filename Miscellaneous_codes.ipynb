{
  "nbformat": 4,
  "nbformat_minor": 0,
  "metadata": {
    "colab": {
      "provenance": []
    },
    "kernelspec": {
      "name": "python3",
      "display_name": "Python 3"
    },
    "language_info": {
      "name": "python"
    }
  },
  "cells": [
    {
      "cell_type": "markdown",
      "source": [
        "Code to find insertion and deletion of frames using temporal Locality sensitive hashing and VP trees"
      ],
      "metadata": {
        "id": "QXQzXsVCdWJZ"
      }
    },
    {
      "cell_type": "code",
      "execution_count": null,
      "metadata": {
        "id": "63cXFQUYLOz9",
        "colab": {
          "base_uri": "https://localhost:8080/"
        },
        "outputId": "d6894b30-5a38-439f-fbed-41ecf1278e4c"
      },
      "outputs": [
        {
          "output_type": "stream",
          "name": "stdout",
          "text": [
            "Creating..../data/frame0.jpg\n",
            "Creating..../data/frame1.jpg\n",
            "Creating..../data/frame2.jpg\n",
            "Creating..../data/frame3.jpg\n",
            "Creating..../data/frame4.jpg\n",
            "Creating..../data/frame5.jpg\n",
            "Creating..../data/frame6.jpg\n",
            "Creating..../data/frame7.jpg\n",
            "Creating..../data/frame8.jpg\n",
            "Creating..../data/frame9.jpg\n",
            "Creating..../data/frame10.jpg\n",
            "Creating..../data/frame11.jpg\n",
            "Creating..../data/frame12.jpg\n",
            "Creating..../data/frame13.jpg\n",
            "Creating..../data/frame14.jpg\n",
            "Creating..../data/frame15.jpg\n",
            "Creating..../data/frame16.jpg\n",
            "Creating..../data/frame17.jpg\n",
            "Creating..../data/frame18.jpg\n",
            "Creating..../data/frame19.jpg\n",
            "Creating..../data/frame20.jpg\n",
            "Creating..../data/frame21.jpg\n",
            "Creating..../data/frame22.jpg\n",
            "Creating..../data/frame23.jpg\n",
            "Creating..../data/frame24.jpg\n",
            "Creating..../data/frame25.jpg\n",
            "Creating..../data/frame26.jpg\n",
            "Creating..../data/frame27.jpg\n",
            "Creating..../data/frame28.jpg\n",
            "Creating..../data/frame29.jpg\n",
            "Creating..../data/frame30.jpg\n",
            "Creating..../data/frame31.jpg\n",
            "Creating..../data/frame32.jpg\n",
            "Creating..../data/frame33.jpg\n",
            "Creating..../data/frame34.jpg\n",
            "Creating..../data/frame35.jpg\n",
            "Creating..../data/frame36.jpg\n",
            "Creating..../data/frame37.jpg\n",
            "Creating..../data/frame38.jpg\n",
            "Creating..../data/frame39.jpg\n",
            "Creating..../data/frame40.jpg\n",
            "Creating..../data/frame41.jpg\n",
            "Creating..../data/frame42.jpg\n",
            "Creating..../data/frame43.jpg\n",
            "Creating..../data/frame44.jpg\n",
            "Creating..../data/frame45.jpg\n",
            "Creating..../data/frame46.jpg\n",
            "Creating..../data/frame47.jpg\n",
            "Creating..../data/frame48.jpg\n",
            "Creating..../data/frame49.jpg\n",
            "Creating..../data/frame50.jpg\n",
            "Creating..../data/frame51.jpg\n",
            "Creating..../data/frame52.jpg\n",
            "Creating..../data/frame53.jpg\n",
            "Creating..../data/frame54.jpg\n",
            "Creating..../data/frame55.jpg\n",
            "Creating..../data/frame56.jpg\n",
            "Creating..../data/frame57.jpg\n",
            "Creating..../data/frame58.jpg\n",
            "Creating..../data/frame59.jpg\n",
            "Creating..../data/frame60.jpg\n",
            "Creating..../data/frame61.jpg\n",
            "Creating..../data/frame62.jpg\n",
            "Creating..../data/frame63.jpg\n",
            "Creating..../data/frame64.jpg\n",
            "Creating..../data/frame65.jpg\n",
            "Creating..../data/frame66.jpg\n",
            "Creating..../data/frame67.jpg\n",
            "Creating..../data/frame68.jpg\n",
            "Creating..../data/frame69.jpg\n",
            "Creating..../data/frame70.jpg\n",
            "Creating..../data/frame71.jpg\n",
            "Creating..../data/frame72.jpg\n",
            "Creating..../data/frame73.jpg\n",
            "Creating..../data/frame74.jpg\n",
            "Creating..../data/frame75.jpg\n",
            "Creating..../data/frame76.jpg\n",
            "Creating..../data/frame77.jpg\n",
            "Creating..../data/frame78.jpg\n",
            "Creating..../data/frame79.jpg\n",
            "Creating..../data/frame80.jpg\n",
            "Creating..../data/frame81.jpg\n",
            "Creating..../data/frame82.jpg\n",
            "Creating..../data/frame83.jpg\n",
            "Creating..../data/frame84.jpg\n",
            "Creating..../data/frame85.jpg\n",
            "Creating..../data/frame86.jpg\n",
            "Creating..../data/frame87.jpg\n",
            "Creating..../data/frame88.jpg\n",
            "Creating..../data/frame89.jpg\n",
            "Creating..../data/frame90.jpg\n",
            "Creating..../data/frame91.jpg\n",
            "Creating..../data/frame92.jpg\n",
            "Creating..../data/frame93.jpg\n",
            "Creating..../data/frame94.jpg\n",
            "Creating..../data/frame95.jpg\n",
            "Creating..../data/frame96.jpg\n",
            "Creating..../data/frame97.jpg\n",
            "Creating..../data/frame98.jpg\n",
            "Creating..../data/frame99.jpg\n",
            "Creating..../data/frame100.jpg\n",
            "Creating..../data/frame101.jpg\n",
            "Creating..../data/frame102.jpg\n",
            "Creating..../data/frame103.jpg\n",
            "Creating..../data/frame104.jpg\n",
            "Creating..../data/frame105.jpg\n",
            "Creating..../data/frame106.jpg\n",
            "Creating..../data/frame107.jpg\n",
            "Creating..../data/frame108.jpg\n",
            "Creating..../data/frame109.jpg\n",
            "Creating..../data/frame110.jpg\n",
            "Creating..../data/frame111.jpg\n",
            "Creating..../data/frame112.jpg\n",
            "Creating..../data/frame113.jpg\n",
            "Creating..../data/frame114.jpg\n",
            "Creating..../data/frame115.jpg\n",
            "Creating..../data/frame116.jpg\n",
            "Creating..../data/frame117.jpg\n",
            "Creating..../data/frame118.jpg\n",
            "Creating..../data/frame119.jpg\n",
            "Creating..../data/frame120.jpg\n",
            "Creating..../data/frame121.jpg\n",
            "Creating..../data/frame122.jpg\n",
            "Creating..../data/frame123.jpg\n",
            "Creating..../data/frame124.jpg\n",
            "Creating..../data/frame125.jpg\n",
            "Creating..../data/frame126.jpg\n",
            "Creating..../data/frame127.jpg\n",
            "Creating..../data/frame128.jpg\n"
          ]
        }
      ],
      "source": [
        "# Importing all necessary libraries\n",
        "import cv2\n",
        "import os\n",
        "\n",
        "# Read the video from specified path\n",
        "cam = cv2.VideoCapture(\"/content/vid13.avi\")\n",
        "\n",
        "try:\n",
        "\t\n",
        "\t# creating a folder named data\n",
        "\tif not os.path.exists('data'):\n",
        "\t\tos.makedirs('data')\n",
        "\n",
        "# if not created then raise error\n",
        "except OSError:\n",
        "\tprint ('Error: Creating directory of data')\n",
        "\n",
        "# frame\n",
        "currentframe = 0\n",
        "\n",
        "while(True):\n",
        "\t\n",
        "\t# reading from frame\n",
        "\tret,frame = cam.read()\n",
        "\n",
        "\tif ret:\n",
        "\t\t# if video is still left continue creating images\n",
        "\t\tname = './data/frame' + str(currentframe) + '.jpg'\n",
        "\t\tprint ('Creating...' + name)\n",
        "\n",
        "\t\t# writing the extracted images\n",
        "\t\tcv2.imwrite(name, frame)\n",
        "\n",
        "\t\t# increasing counter so that it will\n",
        "\t\t# show how many frames are created\n",
        "\t\tcurrentframe += 1\n",
        "\telse:\n",
        "\t\tbreak\n",
        "\n",
        "# Release all space and windows once done\n",
        "cam.release()\n",
        "cv2.destroyAllWindows()\n"
      ]
    },
    {
      "cell_type": "code",
      "source": [
        "\n",
        "!pip install moviepy\n",
        "!pip install imageio==2.4.1"
      ],
      "metadata": {
        "colab": {
          "base_uri": "https://localhost:8080/"
        },
        "id": "3gLNogJs28Eo",
        "outputId": "4e5388a1-912f-4c9c-9098-1efa6d823801"
      },
      "execution_count": null,
      "outputs": [
        {
          "output_type": "stream",
          "name": "stdout",
          "text": [
            "Looking in indexes: https://pypi.org/simple, https://us-python.pkg.dev/colab-wheels/public/simple/\n",
            "Requirement already satisfied: moviepy in /usr/local/lib/python3.9/dist-packages (1.0.3)\n",
            "Requirement already satisfied: requests<3.0,>=2.8.1 in /usr/local/lib/python3.9/dist-packages (from moviepy) (2.27.1)\n",
            "Requirement already satisfied: tqdm<5.0,>=4.11.2 in /usr/local/lib/python3.9/dist-packages (from moviepy) (4.65.0)\n",
            "Requirement already satisfied: imageio<3.0,>=2.5 in /usr/local/lib/python3.9/dist-packages (from moviepy) (2.25.1)\n",
            "Requirement already satisfied: imageio-ffmpeg>=0.2.0 in /usr/local/lib/python3.9/dist-packages (from moviepy) (0.4.8)\n",
            "Requirement already satisfied: numpy in /usr/local/lib/python3.9/dist-packages (from moviepy) (1.22.4)\n",
            "Requirement already satisfied: decorator<5.0,>=4.0.2 in /usr/local/lib/python3.9/dist-packages (from moviepy) (4.4.2)\n",
            "Requirement already satisfied: proglog<=1.0.0 in /usr/local/lib/python3.9/dist-packages (from moviepy) (0.1.10)\n",
            "Requirement already satisfied: pillow>=8.3.2 in /usr/local/lib/python3.9/dist-packages (from imageio<3.0,>=2.5->moviepy) (8.4.0)\n",
            "Requirement already satisfied: idna<4,>=2.5 in /usr/local/lib/python3.9/dist-packages (from requests<3.0,>=2.8.1->moviepy) (3.4)\n",
            "Requirement already satisfied: charset-normalizer~=2.0.0 in /usr/local/lib/python3.9/dist-packages (from requests<3.0,>=2.8.1->moviepy) (2.0.12)\n",
            "Requirement already satisfied: urllib3<1.27,>=1.21.1 in /usr/local/lib/python3.9/dist-packages (from requests<3.0,>=2.8.1->moviepy) (1.26.15)\n",
            "Requirement already satisfied: certifi>=2017.4.17 in /usr/local/lib/python3.9/dist-packages (from requests<3.0,>=2.8.1->moviepy) (2022.12.7)\n",
            "Looking in indexes: https://pypi.org/simple, https://us-python.pkg.dev/colab-wheels/public/simple/\n",
            "Collecting imageio==2.4.1\n",
            "  Downloading imageio-2.4.1.tar.gz (3.3 MB)\n",
            "\u001b[2K     \u001b[90m━━━━━━━━━━━━━━━━━━━━━━━━━━━━━━━━━━━━━━━━\u001b[0m \u001b[32m3.3/3.3 MB\u001b[0m \u001b[31m35.1 MB/s\u001b[0m eta \u001b[36m0:00:00\u001b[0m\n",
            "\u001b[?25h  Preparing metadata (setup.py) ... \u001b[?25l\u001b[?25hdone\n",
            "Requirement already satisfied: numpy in /usr/local/lib/python3.9/dist-packages (from imageio==2.4.1) (1.22.4)\n",
            "Requirement already satisfied: pillow in /usr/local/lib/python3.9/dist-packages (from imageio==2.4.1) (8.4.0)\n",
            "Building wheels for collected packages: imageio\n",
            "  Building wheel for imageio (setup.py) ... \u001b[?25l\u001b[?25hdone\n",
            "  Created wheel for imageio: filename=imageio-2.4.1-py3-none-any.whl size=3303886 sha256=9bfd567f4d776ece18104fd4cfa0f237c7f1bd5a03cd0fbb2abbf200681f6dee\n",
            "  Stored in directory: /root/.cache/pip/wheels/b7/44/b7/2e7cc9c5fe4a893b9cc83a010d4410557bedf6cf3b5829f497\n",
            "Successfully built imageio\n",
            "Installing collected packages: imageio\n",
            "  Attempting uninstall: imageio\n",
            "    Found existing installation: imageio 2.25.1\n",
            "    Uninstalling imageio-2.25.1:\n",
            "      Successfully uninstalled imageio-2.25.1\n",
            "\u001b[31mERROR: pip's dependency resolver does not currently take into account all the packages that are installed. This behaviour is the source of the following dependency conflicts.\n",
            "moviepy 1.0.3 requires imageio<3.0,>=2.5; python_version >= \"3.4\", but you have imageio 2.4.1 which is incompatible.\u001b[0m\u001b[31m\n",
            "\u001b[0mSuccessfully installed imageio-2.4.1\n"
          ]
        }
      ]
    },
    {
      "cell_type": "code",
      "source": [
        "import sys\n",
        "import numpy as np\n",
        "import cv2\n",
        "import moviepy.editor as mpy\n",
        "from matplotlib import pyplot as plt\n",
        "vid = mpy.VideoFileClip('/content/vid13.avi')\n",
        "time_stamp=[]\n",
        "names=[]\n",
        "currentframe=0\n",
        "for i, (tstamp, frame) in enumerate(vid.iter_frames(with_times=True)):\n",
        "  #print(\"Frame no: \"+str(i)+\" with time stamp \"+str(round(tstamp%60,2)))\n",
        "  name='/content/data/frame' + str(i) + '.jpg'\n",
        "  names.append(name)\n",
        "  cv2.imwrite(name,frame)\n",
        "  time_stamp.insert(i,round(tstamp%60,2))\n",
        "#print(names)\n",
        "#print(\"Timestamp of videos is \",time_stamp)\n",
        "time_frames=dict(zip(names,time_stamp))# frames with time stamp values\n",
        "print(dict(zip(names,time_stamp)))\n",
        "print(\"Length\",len(time_stamp))\n",
        "#duration of a single frame\n",
        "duration=np.diff(time_stamp)\n",
        "print(\"Duration of each video frames\",duration)\n",
        "print(\"Mean of duration \",np.mean(duration))"
      ],
      "metadata": {
        "colab": {
          "base_uri": "https://localhost:8080/"
        },
        "id": "a9oqMoFU2_dk",
        "outputId": "bb53e876-c003-4999-b0a2-b9fc49cdca51"
      },
      "execution_count": null,
      "outputs": [
        {
          "output_type": "stream",
          "name": "stdout",
          "text": [
            "{'/content/data/frame0.jpg': 0.0, '/content/data/frame1.jpg': 0.04, '/content/data/frame2.jpg': 0.08, '/content/data/frame3.jpg': 0.12, '/content/data/frame4.jpg': 0.16, '/content/data/frame5.jpg': 0.2, '/content/data/frame6.jpg': 0.24, '/content/data/frame7.jpg': 0.28, '/content/data/frame8.jpg': 0.32, '/content/data/frame9.jpg': 0.36, '/content/data/frame10.jpg': 0.4, '/content/data/frame11.jpg': 0.44, '/content/data/frame12.jpg': 0.48, '/content/data/frame13.jpg': 0.52, '/content/data/frame14.jpg': 0.56, '/content/data/frame15.jpg': 0.6, '/content/data/frame16.jpg': 0.64, '/content/data/frame17.jpg': 0.68, '/content/data/frame18.jpg': 0.72, '/content/data/frame19.jpg': 0.76, '/content/data/frame20.jpg': 0.8, '/content/data/frame21.jpg': 0.84, '/content/data/frame22.jpg': 0.88, '/content/data/frame23.jpg': 0.92, '/content/data/frame24.jpg': 0.96, '/content/data/frame25.jpg': 1.0, '/content/data/frame26.jpg': 1.04, '/content/data/frame27.jpg': 1.08, '/content/data/frame28.jpg': 1.12, '/content/data/frame29.jpg': 1.16, '/content/data/frame30.jpg': 1.2, '/content/data/frame31.jpg': 1.24, '/content/data/frame32.jpg': 1.28, '/content/data/frame33.jpg': 1.32, '/content/data/frame34.jpg': 1.36, '/content/data/frame35.jpg': 1.4, '/content/data/frame36.jpg': 1.44, '/content/data/frame37.jpg': 1.48, '/content/data/frame38.jpg': 1.52, '/content/data/frame39.jpg': 1.56, '/content/data/frame40.jpg': 1.6, '/content/data/frame41.jpg': 1.64, '/content/data/frame42.jpg': 1.68, '/content/data/frame43.jpg': 1.72, '/content/data/frame44.jpg': 1.76, '/content/data/frame45.jpg': 1.8, '/content/data/frame46.jpg': 1.84, '/content/data/frame47.jpg': 1.88, '/content/data/frame48.jpg': 1.92, '/content/data/frame49.jpg': 1.96, '/content/data/frame50.jpg': 2.0, '/content/data/frame51.jpg': 2.04, '/content/data/frame52.jpg': 2.08, '/content/data/frame53.jpg': 2.12, '/content/data/frame54.jpg': 2.16, '/content/data/frame55.jpg': 2.2, '/content/data/frame56.jpg': 2.24, '/content/data/frame57.jpg': 2.28, '/content/data/frame58.jpg': 2.32, '/content/data/frame59.jpg': 2.36, '/content/data/frame60.jpg': 2.4, '/content/data/frame61.jpg': 2.44, '/content/data/frame62.jpg': 2.48, '/content/data/frame63.jpg': 2.52, '/content/data/frame64.jpg': 2.56, '/content/data/frame65.jpg': 2.6, '/content/data/frame66.jpg': 2.64, '/content/data/frame67.jpg': 2.68, '/content/data/frame68.jpg': 2.72, '/content/data/frame69.jpg': 2.76, '/content/data/frame70.jpg': 2.8, '/content/data/frame71.jpg': 2.84, '/content/data/frame72.jpg': 2.88, '/content/data/frame73.jpg': 2.92, '/content/data/frame74.jpg': 2.96, '/content/data/frame75.jpg': 3.0, '/content/data/frame76.jpg': 3.04, '/content/data/frame77.jpg': 3.08, '/content/data/frame78.jpg': 3.12, '/content/data/frame79.jpg': 3.16, '/content/data/frame80.jpg': 3.2, '/content/data/frame81.jpg': 3.24, '/content/data/frame82.jpg': 3.28, '/content/data/frame83.jpg': 3.32, '/content/data/frame84.jpg': 3.36, '/content/data/frame85.jpg': 3.4, '/content/data/frame86.jpg': 3.44, '/content/data/frame87.jpg': 3.48, '/content/data/frame88.jpg': 3.52, '/content/data/frame89.jpg': 3.56, '/content/data/frame90.jpg': 3.6, '/content/data/frame91.jpg': 3.64, '/content/data/frame92.jpg': 3.68, '/content/data/frame93.jpg': 3.72, '/content/data/frame94.jpg': 3.76, '/content/data/frame95.jpg': 3.8, '/content/data/frame96.jpg': 3.84, '/content/data/frame97.jpg': 3.88, '/content/data/frame98.jpg': 3.92, '/content/data/frame99.jpg': 3.96, '/content/data/frame100.jpg': 4.0, '/content/data/frame101.jpg': 4.04, '/content/data/frame102.jpg': 4.08, '/content/data/frame103.jpg': 4.12, '/content/data/frame104.jpg': 4.16, '/content/data/frame105.jpg': 4.2, '/content/data/frame106.jpg': 4.24, '/content/data/frame107.jpg': 4.28, '/content/data/frame108.jpg': 4.32, '/content/data/frame109.jpg': 4.36, '/content/data/frame110.jpg': 4.4, '/content/data/frame111.jpg': 4.44, '/content/data/frame112.jpg': 4.48, '/content/data/frame113.jpg': 4.52, '/content/data/frame114.jpg': 4.56, '/content/data/frame115.jpg': 4.6, '/content/data/frame116.jpg': 4.64, '/content/data/frame117.jpg': 4.68, '/content/data/frame118.jpg': 4.72, '/content/data/frame119.jpg': 4.76, '/content/data/frame120.jpg': 4.8, '/content/data/frame121.jpg': 4.84, '/content/data/frame122.jpg': 4.88, '/content/data/frame123.jpg': 4.92, '/content/data/frame124.jpg': 4.96, '/content/data/frame125.jpg': 5.0, '/content/data/frame126.jpg': 5.04, '/content/data/frame127.jpg': 5.08, '/content/data/frame128.jpg': 5.12}\n",
            "Length 129\n",
            "Duration of each video frames [0.04 0.04 0.04 0.04 0.04 0.04 0.04 0.04 0.04 0.04 0.04 0.04 0.04 0.04\n",
            " 0.04 0.04 0.04 0.04 0.04 0.04 0.04 0.04 0.04 0.04 0.04 0.04 0.04 0.04\n",
            " 0.04 0.04 0.04 0.04 0.04 0.04 0.04 0.04 0.04 0.04 0.04 0.04 0.04 0.04\n",
            " 0.04 0.04 0.04 0.04 0.04 0.04 0.04 0.04 0.04 0.04 0.04 0.04 0.04 0.04\n",
            " 0.04 0.04 0.04 0.04 0.04 0.04 0.04 0.04 0.04 0.04 0.04 0.04 0.04 0.04\n",
            " 0.04 0.04 0.04 0.04 0.04 0.04 0.04 0.04 0.04 0.04 0.04 0.04 0.04 0.04\n",
            " 0.04 0.04 0.04 0.04 0.04 0.04 0.04 0.04 0.04 0.04 0.04 0.04 0.04 0.04\n",
            " 0.04 0.04 0.04 0.04 0.04 0.04 0.04 0.04 0.04 0.04 0.04 0.04 0.04 0.04\n",
            " 0.04 0.04 0.04 0.04 0.04 0.04 0.04 0.04 0.04 0.04 0.04 0.04 0.04 0.04\n",
            " 0.04 0.04]\n",
            "Mean of duration  0.04\n"
          ]
        }
      ]
    },
    {
      "cell_type": "code",
      "source": [
        "timestamp_quota=round(len(time_stamp)*np.mean(duration),0)\n",
        "print(timestamp_quota)\n",
        "timestamp_quota_int=timestamp_quota.astype(int)\n",
        "print(timestamp_quota_int)"
      ],
      "metadata": {
        "colab": {
          "base_uri": "https://localhost:8080/"
        },
        "id": "ewaX0BUc3QXC",
        "outputId": "19cbb23f-8e28-478b-9c67-c22ca88da390"
      },
      "execution_count": null,
      "outputs": [
        {
          "output_type": "stream",
          "name": "stdout",
          "text": [
            "5.0\n",
            "5\n"
          ]
        }
      ]
    },
    {
      "cell_type": "code",
      "source": [
        "!pip install imagehash"
      ],
      "metadata": {
        "colab": {
          "base_uri": "https://localhost:8080/"
        },
        "id": "FOB501vm3Rx_",
        "outputId": "473d307d-7cf8-4fd8-fbcf-3c2b230b082f"
      },
      "execution_count": null,
      "outputs": [
        {
          "output_type": "stream",
          "name": "stdout",
          "text": [
            "Looking in indexes: https://pypi.org/simple, https://us-python.pkg.dev/colab-wheels/public/simple/\n",
            "Requirement already satisfied: imagehash in /usr/local/lib/python3.9/dist-packages (4.3.1)\n",
            "Requirement already satisfied: numpy in /usr/local/lib/python3.9/dist-packages (from imagehash) (1.22.4)\n",
            "Requirement already satisfied: pillow in /usr/local/lib/python3.9/dist-packages (from imagehash) (8.4.0)\n",
            "Requirement already satisfied: PyWavelets in /usr/local/lib/python3.9/dist-packages (from imagehash) (1.4.1)\n",
            "Requirement already satisfied: scipy in /usr/local/lib/python3.9/dist-packages (from imagehash) (1.10.1)\n"
          ]
        }
      ]
    },
    {
      "cell_type": "code",
      "source": [
        "import imagehash\n",
        "import numpy\n",
        "from PIL import Image\n",
        "p_hash_array=[]\n",
        "frame=[]\n",
        "#p_hash_array = numpy.empty(timestamp_quota_int, dtype=object)\n",
        "for i in range(0,timestamp_quota_int):\n",
        "  if i>128:# change value of 128\n",
        "    break\n",
        "  value=imagehash.phash(Image.open('/content/data/frame'+str(i)+'.jpg'))\n",
        "  frame.insert(i,'/content/data/frame'+str(i)+'.jpg')\n",
        "  p_hash_array.insert(i,str(value))\n",
        "  phash=dict(zip(frame,p_hash_array))\n",
        "print(phash)# frames with phash values\n"
      ],
      "metadata": {
        "colab": {
          "base_uri": "https://localhost:8080/"
        },
        "id": "kjbfKBOv3UvI",
        "outputId": "9f748b10-406e-476a-9ca2-916d69b0fbf9"
      },
      "execution_count": null,
      "outputs": [
        {
          "output_type": "stream",
          "name": "stdout",
          "text": [
            "{'/content/data/frame0.jpg': 'c8db3b1bc4c03d87', '/content/data/frame1.jpg': 'c8db3b1fc4c03d85', '/content/data/frame2.jpg': 'c8db3b1bc4c43d85', '/content/data/frame3.jpg': 'c8db3b13c4cc3d85', '/content/data/frame4.jpg': 'c8db7b1bc0c83d85'}\n"
          ]
        }
      ]
    },
    {
      "cell_type": "code",
      "source": [
        "print(phash)"
      ],
      "metadata": {
        "colab": {
          "base_uri": "https://localhost:8080/"
        },
        "id": "73AU-wAeXB5y",
        "outputId": "24b7a5db-0ba2-4137-b3e2-fd6ba3a474f6"
      },
      "execution_count": null,
      "outputs": [
        {
          "output_type": "stream",
          "name": "stdout",
          "text": [
            "{'/content/data/frame0.jpg': 'c8db3b1bc4c03d87', '/content/data/frame1.jpg': 'c8db3b1fc4c03d85', '/content/data/frame2.jpg': 'c8db3b1bc4c43d85', '/content/data/frame3.jpg': 'c8db3b13c4cc3d85', '/content/data/frame4.jpg': 'c8db7b1bc0c83d85'}\n"
          ]
        }
      ]
    },
    {
      "cell_type": "markdown",
      "source": [
        "Reference code https://stackoverflow.com/questions/7971618/return-first-n-keyvalue-pairs-from-dict"
      ],
      "metadata": {
        "id": "i0HHnzdXfVo_"
      }
    },
    {
      "cell_type": "code",
      "source": [
        "print(type(phash_window))"
      ],
      "metadata": {
        "colab": {
          "base_uri": "https://localhost:8080/"
        },
        "id": "B324EEDWghFV",
        "outputId": "7d79d148-2d8a-482c-b4f2-e37bd43662de"
      },
      "execution_count": null,
      "outputs": [
        {
          "output_type": "stream",
          "name": "stdout",
          "text": [
            "<class 'dict'>\n"
          ]
        }
      ]
    },
    {
      "cell_type": "markdown",
      "source": [
        "Code for finding the query value based on hash values in the sliding window"
      ],
      "metadata": {
        "id": "1LWGwlI8cZwV"
      }
    },
    {
      "cell_type": "code",
      "source": [
        "from collections import Counter\n",
        "timestamp_quota=round(len(time_stamp)*np.mean(duration),0)\n",
        "print(timestamp_quota)\n",
        "timestamp_quota_int=timestamp_quota.astype(int)\n",
        "print(timestamp_quota_int)\n",
        "#n = timestamp_quota_int#has to be made to time stamp quota\n",
        "quota=5 #constant value\n",
        "i=0\n",
        "for n in range (0,timestamp_quota_int):\n",
        " # counts = Counter(phash.values())\n",
        " # phash_window={key:value for key,value in list(phash.items())[0:n]}\n",
        "  phash_result = {k: v for k, v in phash.items() if counts[v] > 1}\n",
        "  query_in_list=list(phash.values())[0]\n",
        " # i=timestamp_quota_int\n",
        " # timestamp_quota_int=timestamp_quota_int+quota  \n",
        "\n",
        "print(query_in_list)"
      ],
      "metadata": {
        "colab": {
          "base_uri": "https://localhost:8080/"
        },
        "id": "6Fdj5S5mbIx4",
        "outputId": "640dbd09-b637-4782-b0a0-75fc324a53d1"
      },
      "execution_count": null,
      "outputs": [
        {
          "output_type": "stream",
          "name": "stdout",
          "text": [
            "5.0\n",
            "5\n",
            "c8db3b1bc4c03d87\n"
          ]
        }
      ]
    },
    {
      "cell_type": "code",
      "source": [
        "from collections import Counter\n",
        "timestamp_quota=round(len(time_stamp)*np.mean(duration),0)\n",
        "print(timestamp_quota)\n",
        "timestamp_quota_int=timestamp_quota.astype(int)\n",
        "print(timestamp_quota_int)\n",
        "#n = timestamp_quota_int#has to be made to time stamp quota\n",
        "quota=5 #constant value\n",
        "i=0\n",
        "while(True):\n",
        "  if(n>len(phash.items())):\n",
        "    break\n",
        "  for n in range (timestamp_quota_int):\n",
        "    counts = Counter(phash.values())\n",
        "    phash_window={key:value for key,value in list(phash.items())[i:n]}\n",
        "    phash_result = {k: v for k, v in phash_window.items() if counts[v] > 1}\n",
        "    i=timestamp_quota_int\n",
        "    timestamp_quota_int=timestamp_quota_int+quota  \n",
        "\n",
        "print(timestamp_quota_int)"
      ],
      "metadata": {
        "colab": {
          "base_uri": "https://localhost:8080/"
        },
        "id": "o8jhnEVbcX0G",
        "outputId": "3fb9cee0-fb79-42ad-9cc7-341043140748"
      },
      "execution_count": null,
      "outputs": [
        {
          "output_type": "stream",
          "name": "stdout",
          "text": [
            "5.0\n",
            "5\n",
            "5\n"
          ]
        }
      ]
    },
    {
      "cell_type": "code",
      "source": [
        "len(phash.items())"
      ],
      "metadata": {
        "colab": {
          "base_uri": "https://localhost:8080/"
        },
        "id": "k58w09RrTMO8",
        "outputId": "41d8bf9c-964d-4d3d-f75a-61f4c0c0108c"
      },
      "execution_count": null,
      "outputs": [
        {
          "output_type": "execute_result",
          "data": {
            "text/plain": [
              "5"
            ]
          },
          "metadata": {},
          "execution_count": 14
        }
      ]
    },
    {
      "cell_type": "code",
      "source": [
        "!pip install vptree"
      ],
      "metadata": {
        "colab": {
          "base_uri": "https://localhost:8080/"
        },
        "id": "pgn5RrLZAExa",
        "outputId": "908f9302-556f-4a45-9d8a-96dec182c97c"
      },
      "execution_count": null,
      "outputs": [
        {
          "output_type": "stream",
          "name": "stdout",
          "text": [
            "Looking in indexes: https://pypi.org/simple, https://us-python.pkg.dev/colab-wheels/public/simple/\n",
            "Collecting vptree\n",
            "  Downloading vptree-1.3.tar.gz (4.4 kB)\n",
            "  Preparing metadata (setup.py) ... \u001b[?25l\u001b[?25hdone\n",
            "Requirement already satisfied: numpy in /usr/local/lib/python3.9/dist-packages (from vptree) (1.22.4)\n",
            "Building wheels for collected packages: vptree\n",
            "  Building wheel for vptree (setup.py) ... \u001b[?25l\u001b[?25hdone\n",
            "  Created wheel for vptree: filename=vptree-1.3-py3-none-any.whl size=4564 sha256=a89cab27ac1af18bc8ce18adfaf82bb45f697bb26dc63f9a2c0f923525a406a4\n",
            "  Stored in directory: /root/.cache/pip/wheels/66/58/32/f9f8d807f6b303ce68a51938c9e69b0ab9f592f1efc066ae29\n",
            "Successfully built vptree\n",
            "Installing collected packages: vptree\n",
            "Successfully installed vptree-1.3\n"
          ]
        }
      ]
    },
    {
      "cell_type": "code",
      "source": [],
      "metadata": {
        "id": "4V22e8jTsvgD"
      },
      "execution_count": null,
      "outputs": []
    },
    {
      "cell_type": "code",
      "source": [
        "print(str(list(phash_result.values())))"
      ],
      "metadata": {
        "colab": {
          "base_uri": "https://localhost:8080/"
        },
        "id": "KI3dZkksiI2O",
        "outputId": "c3d146eb-6ebf-47cf-db80-1e393e961153"
      },
      "execution_count": null,
      "outputs": [
        {
          "output_type": "stream",
          "name": "stdout",
          "text": [
            "[]\n"
          ]
        }
      ]
    },
    {
      "cell_type": "markdown",
      "source": [
        "Reference code https://stackoverflow.com/questions/19449709/how-to-extract-string-inside-single-quotes-using-python-script"
      ],
      "metadata": {
        "id": "VEtyerzFocak"
      }
    },
    {
      "cell_type": "code",
      "source": [
        "import re\n",
        "quoted = re.compile(\"(?<=')[^']+(?=')\")\n",
        "for value in quoted.findall(str(list(phash_result.values()))):\n",
        "  print(value)"
      ],
      "metadata": {
        "id": "7HV7SqGUme6A"
      },
      "execution_count": null,
      "outputs": []
    },
    {
      "cell_type": "code",
      "source": [
        "from itertools import zip_longest\n",
        "\n",
        "list_1=['a', 'a', 'a', 'b']\n",
        "list_2=['a', 'b', 'b', 'b', 'c']\n",
        "x = sum(a != b for a,b in zip_longest(list_1,list_2))\n",
        "print(x)"
      ],
      "metadata": {
        "colab": {
          "base_uri": "https://localhost:8080/"
        },
        "id": "y9xKeKqiwiAR",
        "outputId": "4175cfe9-3181-40d8-dc4b-2d0762fa307e"
      },
      "execution_count": null,
      "outputs": [
        {
          "output_type": "stream",
          "name": "stdout",
          "text": [
            "3\n"
          ]
        }
      ]
    },
    {
      "cell_type": "code",
      "source": [
        "import numpy as np\n",
        "import vptree\n",
        "#query=phash_result.values()\n",
        "# Define distance function.\n",
        "{k: v for k, v in phash_result.items() }\n",
        "{key:value for key,value in phash_window.items()}\n",
        "query=query_in_list\n",
        "print(query)\n",
        "def hammingDist(str1, str2):\n",
        "    i = 0\n",
        "    count = 0\n",
        " \n",
        "    while(i < len(str1)):\n",
        "        if(str1[i] != str2[i]):\n",
        "            count += 1\n",
        "        i += 1\n",
        "    return count\n",
        "\n",
        "# Generate some random points.\n",
        "points=p_hash_array[0:5]\n",
        "#query = 'd4d53316c2de3983'\n",
        "\n",
        "# Build tree in O(n log n) time complexity.\n",
        "tree = vptree.VPTree(points, hammingDist)\n",
        "print(tree)\n",
        "# Query single point.\n",
        "tree.get_nearest_neighbor(query)\n",
        "\n",
        "# Query n-points.\n",
        "tree.get_n_nearest_neighbors(query, 10)\n",
        "\n",
        "# Get all points within certain distance.\n",
        "print(tree.get_all_in_range(query, 3.14))"
      ],
      "metadata": {
        "colab": {
          "base_uri": "https://localhost:8080/"
        },
        "id": "3qVblmoKUQnk",
        "outputId": "755d089b-d568-4956-e3c1-62b93ad219ce"
      },
      "execution_count": null,
      "outputs": [
        {
          "output_type": "stream",
          "name": "stdout",
          "text": [
            "c8db3b1bc4c03d87\n",
            "<vptree.VPTree object at 0x7fe2b50b3c40>\n",
            "[(0, 'c8db3b1bc4c03d87'), (2, 'c8db3b1fc4c03d85'), (2, 'c8db3b1bc4c43d85'), (3, 'c8db3b13c4cc3d85')]\n"
          ]
        }
      ]
    },
    {
      "cell_type": "code",
      "source": [
        "import imagehash\n",
        "import numpy\n",
        "from PIL import Image\n",
        "from collections import Counter\n",
        "import distance\n",
        "p_hash_array_buf=[]\n",
        "frame_buf=[]\n",
        "quota=5# a constant value to be modified\n",
        "timestamp_quota=round(len(time_stamp)*np.mean(duration),0)\n",
        "print(timestamp_quota)\n",
        "timestamp_quota_int=timestamp_quota.astype(int)\n",
        "print(timestamp_quota_int)\n",
        "i=0\n",
        "final={}\n",
        "while(True):\n",
        "  for i in range (0, timestamp_quota_int):\n",
        "    value=imagehash.phash(Image.open('/content/data/frame'+str(i)+'.jpg'))\n",
        "    frame_buf.insert(i,'/content/data/frame'+str(i)+'.jpg')\n",
        "    p_hash_array_buf.insert(i,str(value))\n",
        "    phash=dict(zip(frame_buf,p_hash_array_buf))\n",
        "  counts = Counter(phash.values())\n",
        "  # Create a new dictionary with only the keys whose value has a count greater than 1\n",
        "  result = {k: v for k, v in phash.items()}\n",
        " # print(phash)\n",
        " # print(len(result.keys()))\n",
        "  if(len(result.keys())<1):\n",
        "    print(\"Clearing buffer\")\n",
        "    result.clear()\n",
        "  else:\n",
        "    final=final|result\n",
        "    print(result.keys())\n",
        "  i=timestamp_quota_int\n",
        "  timestamp_quota_int=timestamp_quota_int+quota\n",
        "  if(i==129):#constant value to be changed\n",
        "    break\n"
      ],
      "metadata": {
        "colab": {
          "base_uri": "https://localhost:8080/",
          "height": 846
        },
        "id": "sFcyrjcR3c7K",
        "outputId": "37626358-abcf-4a96-cbe1-e201b476746e"
      },
      "execution_count": null,
      "outputs": [
        {
          "output_type": "stream",
          "name": "stdout",
          "text": [
            "5.0\n",
            "5\n",
            "dict_keys(['/content/data/frame0.jpg', '/content/data/frame1.jpg', '/content/data/frame2.jpg', '/content/data/frame3.jpg', '/content/data/frame4.jpg'])\n",
            "dict_keys(['/content/data/frame0.jpg', '/content/data/frame1.jpg', '/content/data/frame2.jpg', '/content/data/frame3.jpg', '/content/data/frame4.jpg', '/content/data/frame5.jpg', '/content/data/frame6.jpg', '/content/data/frame7.jpg', '/content/data/frame8.jpg', '/content/data/frame9.jpg'])\n",
            "dict_keys(['/content/data/frame0.jpg', '/content/data/frame1.jpg', '/content/data/frame2.jpg', '/content/data/frame3.jpg', '/content/data/frame4.jpg', '/content/data/frame5.jpg', '/content/data/frame6.jpg', '/content/data/frame7.jpg', '/content/data/frame8.jpg', '/content/data/frame9.jpg', '/content/data/frame10.jpg', '/content/data/frame11.jpg', '/content/data/frame12.jpg', '/content/data/frame13.jpg', '/content/data/frame14.jpg'])\n",
            "dict_keys(['/content/data/frame0.jpg', '/content/data/frame1.jpg', '/content/data/frame2.jpg', '/content/data/frame3.jpg', '/content/data/frame4.jpg', '/content/data/frame5.jpg', '/content/data/frame6.jpg', '/content/data/frame7.jpg', '/content/data/frame8.jpg', '/content/data/frame9.jpg', '/content/data/frame10.jpg', '/content/data/frame11.jpg', '/content/data/frame12.jpg', '/content/data/frame13.jpg', '/content/data/frame14.jpg', '/content/data/frame15.jpg', '/content/data/frame16.jpg', '/content/data/frame17.jpg', '/content/data/frame18.jpg', '/content/data/frame19.jpg'])\n",
            "dict_keys(['/content/data/frame0.jpg', '/content/data/frame1.jpg', '/content/data/frame2.jpg', '/content/data/frame3.jpg', '/content/data/frame4.jpg', '/content/data/frame5.jpg', '/content/data/frame6.jpg', '/content/data/frame7.jpg', '/content/data/frame8.jpg', '/content/data/frame9.jpg', '/content/data/frame10.jpg', '/content/data/frame11.jpg', '/content/data/frame12.jpg', '/content/data/frame13.jpg', '/content/data/frame14.jpg', '/content/data/frame15.jpg', '/content/data/frame16.jpg', '/content/data/frame17.jpg', '/content/data/frame18.jpg', '/content/data/frame19.jpg', '/content/data/frame20.jpg', '/content/data/frame21.jpg', '/content/data/frame22.jpg', '/content/data/frame23.jpg', '/content/data/frame24.jpg'])\n",
            "dict_keys(['/content/data/frame0.jpg', '/content/data/frame1.jpg', '/content/data/frame2.jpg', '/content/data/frame3.jpg', '/content/data/frame4.jpg', '/content/data/frame5.jpg', '/content/data/frame6.jpg', '/content/data/frame7.jpg', '/content/data/frame8.jpg', '/content/data/frame9.jpg', '/content/data/frame10.jpg', '/content/data/frame11.jpg', '/content/data/frame12.jpg', '/content/data/frame13.jpg', '/content/data/frame14.jpg', '/content/data/frame15.jpg', '/content/data/frame16.jpg', '/content/data/frame17.jpg', '/content/data/frame18.jpg', '/content/data/frame19.jpg', '/content/data/frame20.jpg', '/content/data/frame21.jpg', '/content/data/frame22.jpg', '/content/data/frame23.jpg', '/content/data/frame24.jpg', '/content/data/frame25.jpg', '/content/data/frame26.jpg', '/content/data/frame27.jpg', '/content/data/frame28.jpg', '/content/data/frame29.jpg'])\n",
            "dict_keys(['/content/data/frame0.jpg', '/content/data/frame1.jpg', '/content/data/frame2.jpg', '/content/data/frame3.jpg', '/content/data/frame4.jpg', '/content/data/frame5.jpg', '/content/data/frame6.jpg', '/content/data/frame7.jpg', '/content/data/frame8.jpg', '/content/data/frame9.jpg', '/content/data/frame10.jpg', '/content/data/frame11.jpg', '/content/data/frame12.jpg', '/content/data/frame13.jpg', '/content/data/frame14.jpg', '/content/data/frame15.jpg', '/content/data/frame16.jpg', '/content/data/frame17.jpg', '/content/data/frame18.jpg', '/content/data/frame19.jpg', '/content/data/frame20.jpg', '/content/data/frame21.jpg', '/content/data/frame22.jpg', '/content/data/frame23.jpg', '/content/data/frame24.jpg', '/content/data/frame25.jpg', '/content/data/frame26.jpg', '/content/data/frame27.jpg', '/content/data/frame28.jpg', '/content/data/frame29.jpg', '/content/data/frame30.jpg', '/content/data/frame31.jpg', '/content/data/frame32.jpg', '/content/data/frame33.jpg', '/content/data/frame34.jpg'])\n",
            "dict_keys(['/content/data/frame0.jpg', '/content/data/frame1.jpg', '/content/data/frame2.jpg', '/content/data/frame3.jpg', '/content/data/frame4.jpg', '/content/data/frame5.jpg', '/content/data/frame6.jpg', '/content/data/frame7.jpg', '/content/data/frame8.jpg', '/content/data/frame9.jpg', '/content/data/frame10.jpg', '/content/data/frame11.jpg', '/content/data/frame12.jpg', '/content/data/frame13.jpg', '/content/data/frame14.jpg', '/content/data/frame15.jpg', '/content/data/frame16.jpg', '/content/data/frame17.jpg', '/content/data/frame18.jpg', '/content/data/frame19.jpg', '/content/data/frame20.jpg', '/content/data/frame21.jpg', '/content/data/frame22.jpg', '/content/data/frame23.jpg', '/content/data/frame24.jpg', '/content/data/frame25.jpg', '/content/data/frame26.jpg', '/content/data/frame27.jpg', '/content/data/frame28.jpg', '/content/data/frame29.jpg', '/content/data/frame30.jpg', '/content/data/frame31.jpg', '/content/data/frame32.jpg', '/content/data/frame33.jpg', '/content/data/frame34.jpg', '/content/data/frame35.jpg', '/content/data/frame36.jpg', '/content/data/frame37.jpg', '/content/data/frame38.jpg', '/content/data/frame39.jpg'])\n",
            "dict_keys(['/content/data/frame0.jpg', '/content/data/frame1.jpg', '/content/data/frame2.jpg', '/content/data/frame3.jpg', '/content/data/frame4.jpg', '/content/data/frame5.jpg', '/content/data/frame6.jpg', '/content/data/frame7.jpg', '/content/data/frame8.jpg', '/content/data/frame9.jpg', '/content/data/frame10.jpg', '/content/data/frame11.jpg', '/content/data/frame12.jpg', '/content/data/frame13.jpg', '/content/data/frame14.jpg', '/content/data/frame15.jpg', '/content/data/frame16.jpg', '/content/data/frame17.jpg', '/content/data/frame18.jpg', '/content/data/frame19.jpg', '/content/data/frame20.jpg', '/content/data/frame21.jpg', '/content/data/frame22.jpg', '/content/data/frame23.jpg', '/content/data/frame24.jpg', '/content/data/frame25.jpg', '/content/data/frame26.jpg', '/content/data/frame27.jpg', '/content/data/frame28.jpg', '/content/data/frame29.jpg', '/content/data/frame30.jpg', '/content/data/frame31.jpg', '/content/data/frame32.jpg', '/content/data/frame33.jpg', '/content/data/frame34.jpg', '/content/data/frame35.jpg', '/content/data/frame36.jpg', '/content/data/frame37.jpg', '/content/data/frame38.jpg', '/content/data/frame39.jpg', '/content/data/frame40.jpg', '/content/data/frame41.jpg', '/content/data/frame42.jpg', '/content/data/frame43.jpg', '/content/data/frame44.jpg'])\n",
            "dict_keys(['/content/data/frame0.jpg', '/content/data/frame1.jpg', '/content/data/frame2.jpg', '/content/data/frame3.jpg', '/content/data/frame4.jpg', '/content/data/frame5.jpg', '/content/data/frame6.jpg', '/content/data/frame7.jpg', '/content/data/frame8.jpg', '/content/data/frame9.jpg', '/content/data/frame10.jpg', '/content/data/frame11.jpg', '/content/data/frame12.jpg', '/content/data/frame13.jpg', '/content/data/frame14.jpg', '/content/data/frame15.jpg', '/content/data/frame16.jpg', '/content/data/frame17.jpg', '/content/data/frame18.jpg', '/content/data/frame19.jpg', '/content/data/frame20.jpg', '/content/data/frame21.jpg', '/content/data/frame22.jpg', '/content/data/frame23.jpg', '/content/data/frame24.jpg', '/content/data/frame25.jpg', '/content/data/frame26.jpg', '/content/data/frame27.jpg', '/content/data/frame28.jpg', '/content/data/frame29.jpg', '/content/data/frame30.jpg', '/content/data/frame31.jpg', '/content/data/frame32.jpg', '/content/data/frame33.jpg', '/content/data/frame34.jpg', '/content/data/frame35.jpg', '/content/data/frame36.jpg', '/content/data/frame37.jpg', '/content/data/frame38.jpg', '/content/data/frame39.jpg', '/content/data/frame40.jpg', '/content/data/frame41.jpg', '/content/data/frame42.jpg', '/content/data/frame43.jpg', '/content/data/frame44.jpg', '/content/data/frame45.jpg', '/content/data/frame46.jpg', '/content/data/frame47.jpg', '/content/data/frame48.jpg', '/content/data/frame49.jpg'])\n",
            "dict_keys(['/content/data/frame0.jpg', '/content/data/frame1.jpg', '/content/data/frame2.jpg', '/content/data/frame3.jpg', '/content/data/frame4.jpg', '/content/data/frame5.jpg', '/content/data/frame6.jpg', '/content/data/frame7.jpg', '/content/data/frame8.jpg', '/content/data/frame9.jpg', '/content/data/frame10.jpg', '/content/data/frame11.jpg', '/content/data/frame12.jpg', '/content/data/frame13.jpg', '/content/data/frame14.jpg', '/content/data/frame15.jpg', '/content/data/frame16.jpg', '/content/data/frame17.jpg', '/content/data/frame18.jpg', '/content/data/frame19.jpg', '/content/data/frame20.jpg', '/content/data/frame21.jpg', '/content/data/frame22.jpg', '/content/data/frame23.jpg', '/content/data/frame24.jpg', '/content/data/frame25.jpg', '/content/data/frame26.jpg', '/content/data/frame27.jpg', '/content/data/frame28.jpg', '/content/data/frame29.jpg', '/content/data/frame30.jpg', '/content/data/frame31.jpg', '/content/data/frame32.jpg', '/content/data/frame33.jpg', '/content/data/frame34.jpg', '/content/data/frame35.jpg', '/content/data/frame36.jpg', '/content/data/frame37.jpg', '/content/data/frame38.jpg', '/content/data/frame39.jpg', '/content/data/frame40.jpg', '/content/data/frame41.jpg', '/content/data/frame42.jpg', '/content/data/frame43.jpg', '/content/data/frame44.jpg', '/content/data/frame45.jpg', '/content/data/frame46.jpg', '/content/data/frame47.jpg', '/content/data/frame48.jpg', '/content/data/frame49.jpg', '/content/data/frame50.jpg', '/content/data/frame51.jpg', '/content/data/frame52.jpg', '/content/data/frame53.jpg', '/content/data/frame54.jpg'])\n",
            "dict_keys(['/content/data/frame0.jpg', '/content/data/frame1.jpg', '/content/data/frame2.jpg', '/content/data/frame3.jpg', '/content/data/frame4.jpg', '/content/data/frame5.jpg', '/content/data/frame6.jpg', '/content/data/frame7.jpg', '/content/data/frame8.jpg', '/content/data/frame9.jpg', '/content/data/frame10.jpg', '/content/data/frame11.jpg', '/content/data/frame12.jpg', '/content/data/frame13.jpg', '/content/data/frame14.jpg', '/content/data/frame15.jpg', '/content/data/frame16.jpg', '/content/data/frame17.jpg', '/content/data/frame18.jpg', '/content/data/frame19.jpg', '/content/data/frame20.jpg', '/content/data/frame21.jpg', '/content/data/frame22.jpg', '/content/data/frame23.jpg', '/content/data/frame24.jpg', '/content/data/frame25.jpg', '/content/data/frame26.jpg', '/content/data/frame27.jpg', '/content/data/frame28.jpg', '/content/data/frame29.jpg', '/content/data/frame30.jpg', '/content/data/frame31.jpg', '/content/data/frame32.jpg', '/content/data/frame33.jpg', '/content/data/frame34.jpg', '/content/data/frame35.jpg', '/content/data/frame36.jpg', '/content/data/frame37.jpg', '/content/data/frame38.jpg', '/content/data/frame39.jpg', '/content/data/frame40.jpg', '/content/data/frame41.jpg', '/content/data/frame42.jpg', '/content/data/frame43.jpg', '/content/data/frame44.jpg', '/content/data/frame45.jpg', '/content/data/frame46.jpg', '/content/data/frame47.jpg', '/content/data/frame48.jpg', '/content/data/frame49.jpg', '/content/data/frame50.jpg', '/content/data/frame51.jpg', '/content/data/frame52.jpg', '/content/data/frame53.jpg', '/content/data/frame54.jpg', '/content/data/frame55.jpg', '/content/data/frame56.jpg', '/content/data/frame57.jpg', '/content/data/frame58.jpg', '/content/data/frame59.jpg'])\n",
            "dict_keys(['/content/data/frame0.jpg', '/content/data/frame1.jpg', '/content/data/frame2.jpg', '/content/data/frame3.jpg', '/content/data/frame4.jpg', '/content/data/frame5.jpg', '/content/data/frame6.jpg', '/content/data/frame7.jpg', '/content/data/frame8.jpg', '/content/data/frame9.jpg', '/content/data/frame10.jpg', '/content/data/frame11.jpg', '/content/data/frame12.jpg', '/content/data/frame13.jpg', '/content/data/frame14.jpg', '/content/data/frame15.jpg', '/content/data/frame16.jpg', '/content/data/frame17.jpg', '/content/data/frame18.jpg', '/content/data/frame19.jpg', '/content/data/frame20.jpg', '/content/data/frame21.jpg', '/content/data/frame22.jpg', '/content/data/frame23.jpg', '/content/data/frame24.jpg', '/content/data/frame25.jpg', '/content/data/frame26.jpg', '/content/data/frame27.jpg', '/content/data/frame28.jpg', '/content/data/frame29.jpg', '/content/data/frame30.jpg', '/content/data/frame31.jpg', '/content/data/frame32.jpg', '/content/data/frame33.jpg', '/content/data/frame34.jpg', '/content/data/frame35.jpg', '/content/data/frame36.jpg', '/content/data/frame37.jpg', '/content/data/frame38.jpg', '/content/data/frame39.jpg', '/content/data/frame40.jpg', '/content/data/frame41.jpg', '/content/data/frame42.jpg', '/content/data/frame43.jpg', '/content/data/frame44.jpg', '/content/data/frame45.jpg', '/content/data/frame46.jpg', '/content/data/frame47.jpg', '/content/data/frame48.jpg', '/content/data/frame49.jpg', '/content/data/frame50.jpg', '/content/data/frame51.jpg', '/content/data/frame52.jpg', '/content/data/frame53.jpg', '/content/data/frame54.jpg', '/content/data/frame55.jpg', '/content/data/frame56.jpg', '/content/data/frame57.jpg', '/content/data/frame58.jpg', '/content/data/frame59.jpg', '/content/data/frame60.jpg', '/content/data/frame61.jpg', '/content/data/frame62.jpg', '/content/data/frame63.jpg', '/content/data/frame64.jpg'])\n",
            "dict_keys(['/content/data/frame0.jpg', '/content/data/frame1.jpg', '/content/data/frame2.jpg', '/content/data/frame3.jpg', '/content/data/frame4.jpg', '/content/data/frame5.jpg', '/content/data/frame6.jpg', '/content/data/frame7.jpg', '/content/data/frame8.jpg', '/content/data/frame9.jpg', '/content/data/frame10.jpg', '/content/data/frame11.jpg', '/content/data/frame12.jpg', '/content/data/frame13.jpg', '/content/data/frame14.jpg', '/content/data/frame15.jpg', '/content/data/frame16.jpg', '/content/data/frame17.jpg', '/content/data/frame18.jpg', '/content/data/frame19.jpg', '/content/data/frame20.jpg', '/content/data/frame21.jpg', '/content/data/frame22.jpg', '/content/data/frame23.jpg', '/content/data/frame24.jpg', '/content/data/frame25.jpg', '/content/data/frame26.jpg', '/content/data/frame27.jpg', '/content/data/frame28.jpg', '/content/data/frame29.jpg', '/content/data/frame30.jpg', '/content/data/frame31.jpg', '/content/data/frame32.jpg', '/content/data/frame33.jpg', '/content/data/frame34.jpg', '/content/data/frame35.jpg', '/content/data/frame36.jpg', '/content/data/frame37.jpg', '/content/data/frame38.jpg', '/content/data/frame39.jpg', '/content/data/frame40.jpg', '/content/data/frame41.jpg', '/content/data/frame42.jpg', '/content/data/frame43.jpg', '/content/data/frame44.jpg', '/content/data/frame45.jpg', '/content/data/frame46.jpg', '/content/data/frame47.jpg', '/content/data/frame48.jpg', '/content/data/frame49.jpg', '/content/data/frame50.jpg', '/content/data/frame51.jpg', '/content/data/frame52.jpg', '/content/data/frame53.jpg', '/content/data/frame54.jpg', '/content/data/frame55.jpg', '/content/data/frame56.jpg', '/content/data/frame57.jpg', '/content/data/frame58.jpg', '/content/data/frame59.jpg', '/content/data/frame60.jpg', '/content/data/frame61.jpg', '/content/data/frame62.jpg', '/content/data/frame63.jpg', '/content/data/frame64.jpg', '/content/data/frame65.jpg', '/content/data/frame66.jpg', '/content/data/frame67.jpg', '/content/data/frame68.jpg', '/content/data/frame69.jpg'])\n",
            "dict_keys(['/content/data/frame0.jpg', '/content/data/frame1.jpg', '/content/data/frame2.jpg', '/content/data/frame3.jpg', '/content/data/frame4.jpg', '/content/data/frame5.jpg', '/content/data/frame6.jpg', '/content/data/frame7.jpg', '/content/data/frame8.jpg', '/content/data/frame9.jpg', '/content/data/frame10.jpg', '/content/data/frame11.jpg', '/content/data/frame12.jpg', '/content/data/frame13.jpg', '/content/data/frame14.jpg', '/content/data/frame15.jpg', '/content/data/frame16.jpg', '/content/data/frame17.jpg', '/content/data/frame18.jpg', '/content/data/frame19.jpg', '/content/data/frame20.jpg', '/content/data/frame21.jpg', '/content/data/frame22.jpg', '/content/data/frame23.jpg', '/content/data/frame24.jpg', '/content/data/frame25.jpg', '/content/data/frame26.jpg', '/content/data/frame27.jpg', '/content/data/frame28.jpg', '/content/data/frame29.jpg', '/content/data/frame30.jpg', '/content/data/frame31.jpg', '/content/data/frame32.jpg', '/content/data/frame33.jpg', '/content/data/frame34.jpg', '/content/data/frame35.jpg', '/content/data/frame36.jpg', '/content/data/frame37.jpg', '/content/data/frame38.jpg', '/content/data/frame39.jpg', '/content/data/frame40.jpg', '/content/data/frame41.jpg', '/content/data/frame42.jpg', '/content/data/frame43.jpg', '/content/data/frame44.jpg', '/content/data/frame45.jpg', '/content/data/frame46.jpg', '/content/data/frame47.jpg', '/content/data/frame48.jpg', '/content/data/frame49.jpg', '/content/data/frame50.jpg', '/content/data/frame51.jpg', '/content/data/frame52.jpg', '/content/data/frame53.jpg', '/content/data/frame54.jpg', '/content/data/frame55.jpg', '/content/data/frame56.jpg', '/content/data/frame57.jpg', '/content/data/frame58.jpg', '/content/data/frame59.jpg', '/content/data/frame60.jpg', '/content/data/frame61.jpg', '/content/data/frame62.jpg', '/content/data/frame63.jpg', '/content/data/frame64.jpg', '/content/data/frame65.jpg', '/content/data/frame66.jpg', '/content/data/frame67.jpg', '/content/data/frame68.jpg', '/content/data/frame69.jpg', '/content/data/frame70.jpg', '/content/data/frame71.jpg', '/content/data/frame72.jpg', '/content/data/frame73.jpg', '/content/data/frame74.jpg'])\n",
            "dict_keys(['/content/data/frame0.jpg', '/content/data/frame1.jpg', '/content/data/frame2.jpg', '/content/data/frame3.jpg', '/content/data/frame4.jpg', '/content/data/frame5.jpg', '/content/data/frame6.jpg', '/content/data/frame7.jpg', '/content/data/frame8.jpg', '/content/data/frame9.jpg', '/content/data/frame10.jpg', '/content/data/frame11.jpg', '/content/data/frame12.jpg', '/content/data/frame13.jpg', '/content/data/frame14.jpg', '/content/data/frame15.jpg', '/content/data/frame16.jpg', '/content/data/frame17.jpg', '/content/data/frame18.jpg', '/content/data/frame19.jpg', '/content/data/frame20.jpg', '/content/data/frame21.jpg', '/content/data/frame22.jpg', '/content/data/frame23.jpg', '/content/data/frame24.jpg', '/content/data/frame25.jpg', '/content/data/frame26.jpg', '/content/data/frame27.jpg', '/content/data/frame28.jpg', '/content/data/frame29.jpg', '/content/data/frame30.jpg', '/content/data/frame31.jpg', '/content/data/frame32.jpg', '/content/data/frame33.jpg', '/content/data/frame34.jpg', '/content/data/frame35.jpg', '/content/data/frame36.jpg', '/content/data/frame37.jpg', '/content/data/frame38.jpg', '/content/data/frame39.jpg', '/content/data/frame40.jpg', '/content/data/frame41.jpg', '/content/data/frame42.jpg', '/content/data/frame43.jpg', '/content/data/frame44.jpg', '/content/data/frame45.jpg', '/content/data/frame46.jpg', '/content/data/frame47.jpg', '/content/data/frame48.jpg', '/content/data/frame49.jpg', '/content/data/frame50.jpg', '/content/data/frame51.jpg', '/content/data/frame52.jpg', '/content/data/frame53.jpg', '/content/data/frame54.jpg', '/content/data/frame55.jpg', '/content/data/frame56.jpg', '/content/data/frame57.jpg', '/content/data/frame58.jpg', '/content/data/frame59.jpg', '/content/data/frame60.jpg', '/content/data/frame61.jpg', '/content/data/frame62.jpg', '/content/data/frame63.jpg', '/content/data/frame64.jpg', '/content/data/frame65.jpg', '/content/data/frame66.jpg', '/content/data/frame67.jpg', '/content/data/frame68.jpg', '/content/data/frame69.jpg', '/content/data/frame70.jpg', '/content/data/frame71.jpg', '/content/data/frame72.jpg', '/content/data/frame73.jpg', '/content/data/frame74.jpg', '/content/data/frame75.jpg', '/content/data/frame76.jpg', '/content/data/frame77.jpg', '/content/data/frame78.jpg', '/content/data/frame79.jpg'])\n",
            "dict_keys(['/content/data/frame0.jpg', '/content/data/frame1.jpg', '/content/data/frame2.jpg', '/content/data/frame3.jpg', '/content/data/frame4.jpg', '/content/data/frame5.jpg', '/content/data/frame6.jpg', '/content/data/frame7.jpg', '/content/data/frame8.jpg', '/content/data/frame9.jpg', '/content/data/frame10.jpg', '/content/data/frame11.jpg', '/content/data/frame12.jpg', '/content/data/frame13.jpg', '/content/data/frame14.jpg', '/content/data/frame15.jpg', '/content/data/frame16.jpg', '/content/data/frame17.jpg', '/content/data/frame18.jpg', '/content/data/frame19.jpg', '/content/data/frame20.jpg', '/content/data/frame21.jpg', '/content/data/frame22.jpg', '/content/data/frame23.jpg', '/content/data/frame24.jpg', '/content/data/frame25.jpg', '/content/data/frame26.jpg', '/content/data/frame27.jpg', '/content/data/frame28.jpg', '/content/data/frame29.jpg', '/content/data/frame30.jpg', '/content/data/frame31.jpg', '/content/data/frame32.jpg', '/content/data/frame33.jpg', '/content/data/frame34.jpg', '/content/data/frame35.jpg', '/content/data/frame36.jpg', '/content/data/frame37.jpg', '/content/data/frame38.jpg', '/content/data/frame39.jpg', '/content/data/frame40.jpg', '/content/data/frame41.jpg', '/content/data/frame42.jpg', '/content/data/frame43.jpg', '/content/data/frame44.jpg', '/content/data/frame45.jpg', '/content/data/frame46.jpg', '/content/data/frame47.jpg', '/content/data/frame48.jpg', '/content/data/frame49.jpg', '/content/data/frame50.jpg', '/content/data/frame51.jpg', '/content/data/frame52.jpg', '/content/data/frame53.jpg', '/content/data/frame54.jpg', '/content/data/frame55.jpg', '/content/data/frame56.jpg', '/content/data/frame57.jpg', '/content/data/frame58.jpg', '/content/data/frame59.jpg', '/content/data/frame60.jpg', '/content/data/frame61.jpg', '/content/data/frame62.jpg', '/content/data/frame63.jpg', '/content/data/frame64.jpg', '/content/data/frame65.jpg', '/content/data/frame66.jpg', '/content/data/frame67.jpg', '/content/data/frame68.jpg', '/content/data/frame69.jpg', '/content/data/frame70.jpg', '/content/data/frame71.jpg', '/content/data/frame72.jpg', '/content/data/frame73.jpg', '/content/data/frame74.jpg', '/content/data/frame75.jpg', '/content/data/frame76.jpg', '/content/data/frame77.jpg', '/content/data/frame78.jpg', '/content/data/frame79.jpg', '/content/data/frame80.jpg', '/content/data/frame81.jpg', '/content/data/frame82.jpg', '/content/data/frame83.jpg', '/content/data/frame84.jpg'])\n",
            "dict_keys(['/content/data/frame0.jpg', '/content/data/frame1.jpg', '/content/data/frame2.jpg', '/content/data/frame3.jpg', '/content/data/frame4.jpg', '/content/data/frame5.jpg', '/content/data/frame6.jpg', '/content/data/frame7.jpg', '/content/data/frame8.jpg', '/content/data/frame9.jpg', '/content/data/frame10.jpg', '/content/data/frame11.jpg', '/content/data/frame12.jpg', '/content/data/frame13.jpg', '/content/data/frame14.jpg', '/content/data/frame15.jpg', '/content/data/frame16.jpg', '/content/data/frame17.jpg', '/content/data/frame18.jpg', '/content/data/frame19.jpg', '/content/data/frame20.jpg', '/content/data/frame21.jpg', '/content/data/frame22.jpg', '/content/data/frame23.jpg', '/content/data/frame24.jpg', '/content/data/frame25.jpg', '/content/data/frame26.jpg', '/content/data/frame27.jpg', '/content/data/frame28.jpg', '/content/data/frame29.jpg', '/content/data/frame30.jpg', '/content/data/frame31.jpg', '/content/data/frame32.jpg', '/content/data/frame33.jpg', '/content/data/frame34.jpg', '/content/data/frame35.jpg', '/content/data/frame36.jpg', '/content/data/frame37.jpg', '/content/data/frame38.jpg', '/content/data/frame39.jpg', '/content/data/frame40.jpg', '/content/data/frame41.jpg', '/content/data/frame42.jpg', '/content/data/frame43.jpg', '/content/data/frame44.jpg', '/content/data/frame45.jpg', '/content/data/frame46.jpg', '/content/data/frame47.jpg', '/content/data/frame48.jpg', '/content/data/frame49.jpg', '/content/data/frame50.jpg', '/content/data/frame51.jpg', '/content/data/frame52.jpg', '/content/data/frame53.jpg', '/content/data/frame54.jpg', '/content/data/frame55.jpg', '/content/data/frame56.jpg', '/content/data/frame57.jpg', '/content/data/frame58.jpg', '/content/data/frame59.jpg', '/content/data/frame60.jpg', '/content/data/frame61.jpg', '/content/data/frame62.jpg', '/content/data/frame63.jpg', '/content/data/frame64.jpg', '/content/data/frame65.jpg', '/content/data/frame66.jpg', '/content/data/frame67.jpg', '/content/data/frame68.jpg', '/content/data/frame69.jpg', '/content/data/frame70.jpg', '/content/data/frame71.jpg', '/content/data/frame72.jpg', '/content/data/frame73.jpg', '/content/data/frame74.jpg', '/content/data/frame75.jpg', '/content/data/frame76.jpg', '/content/data/frame77.jpg', '/content/data/frame78.jpg', '/content/data/frame79.jpg', '/content/data/frame80.jpg', '/content/data/frame81.jpg', '/content/data/frame82.jpg', '/content/data/frame83.jpg', '/content/data/frame84.jpg', '/content/data/frame85.jpg', '/content/data/frame86.jpg', '/content/data/frame87.jpg', '/content/data/frame88.jpg', '/content/data/frame89.jpg'])\n",
            "dict_keys(['/content/data/frame0.jpg', '/content/data/frame1.jpg', '/content/data/frame2.jpg', '/content/data/frame3.jpg', '/content/data/frame4.jpg', '/content/data/frame5.jpg', '/content/data/frame6.jpg', '/content/data/frame7.jpg', '/content/data/frame8.jpg', '/content/data/frame9.jpg', '/content/data/frame10.jpg', '/content/data/frame11.jpg', '/content/data/frame12.jpg', '/content/data/frame13.jpg', '/content/data/frame14.jpg', '/content/data/frame15.jpg', '/content/data/frame16.jpg', '/content/data/frame17.jpg', '/content/data/frame18.jpg', '/content/data/frame19.jpg', '/content/data/frame20.jpg', '/content/data/frame21.jpg', '/content/data/frame22.jpg', '/content/data/frame23.jpg', '/content/data/frame24.jpg', '/content/data/frame25.jpg', '/content/data/frame26.jpg', '/content/data/frame27.jpg', '/content/data/frame28.jpg', '/content/data/frame29.jpg', '/content/data/frame30.jpg', '/content/data/frame31.jpg', '/content/data/frame32.jpg', '/content/data/frame33.jpg', '/content/data/frame34.jpg', '/content/data/frame35.jpg', '/content/data/frame36.jpg', '/content/data/frame37.jpg', '/content/data/frame38.jpg', '/content/data/frame39.jpg', '/content/data/frame40.jpg', '/content/data/frame41.jpg', '/content/data/frame42.jpg', '/content/data/frame43.jpg', '/content/data/frame44.jpg', '/content/data/frame45.jpg', '/content/data/frame46.jpg', '/content/data/frame47.jpg', '/content/data/frame48.jpg', '/content/data/frame49.jpg', '/content/data/frame50.jpg', '/content/data/frame51.jpg', '/content/data/frame52.jpg', '/content/data/frame53.jpg', '/content/data/frame54.jpg', '/content/data/frame55.jpg', '/content/data/frame56.jpg', '/content/data/frame57.jpg', '/content/data/frame58.jpg', '/content/data/frame59.jpg', '/content/data/frame60.jpg', '/content/data/frame61.jpg', '/content/data/frame62.jpg', '/content/data/frame63.jpg', '/content/data/frame64.jpg', '/content/data/frame65.jpg', '/content/data/frame66.jpg', '/content/data/frame67.jpg', '/content/data/frame68.jpg', '/content/data/frame69.jpg', '/content/data/frame70.jpg', '/content/data/frame71.jpg', '/content/data/frame72.jpg', '/content/data/frame73.jpg', '/content/data/frame74.jpg', '/content/data/frame75.jpg', '/content/data/frame76.jpg', '/content/data/frame77.jpg', '/content/data/frame78.jpg', '/content/data/frame79.jpg', '/content/data/frame80.jpg', '/content/data/frame81.jpg', '/content/data/frame82.jpg', '/content/data/frame83.jpg', '/content/data/frame84.jpg', '/content/data/frame85.jpg', '/content/data/frame86.jpg', '/content/data/frame87.jpg', '/content/data/frame88.jpg', '/content/data/frame89.jpg', '/content/data/frame90.jpg', '/content/data/frame91.jpg', '/content/data/frame92.jpg', '/content/data/frame93.jpg', '/content/data/frame94.jpg'])\n",
            "dict_keys(['/content/data/frame0.jpg', '/content/data/frame1.jpg', '/content/data/frame2.jpg', '/content/data/frame3.jpg', '/content/data/frame4.jpg', '/content/data/frame5.jpg', '/content/data/frame6.jpg', '/content/data/frame7.jpg', '/content/data/frame8.jpg', '/content/data/frame9.jpg', '/content/data/frame10.jpg', '/content/data/frame11.jpg', '/content/data/frame12.jpg', '/content/data/frame13.jpg', '/content/data/frame14.jpg', '/content/data/frame15.jpg', '/content/data/frame16.jpg', '/content/data/frame17.jpg', '/content/data/frame18.jpg', '/content/data/frame19.jpg', '/content/data/frame20.jpg', '/content/data/frame21.jpg', '/content/data/frame22.jpg', '/content/data/frame23.jpg', '/content/data/frame24.jpg', '/content/data/frame25.jpg', '/content/data/frame26.jpg', '/content/data/frame27.jpg', '/content/data/frame28.jpg', '/content/data/frame29.jpg', '/content/data/frame30.jpg', '/content/data/frame31.jpg', '/content/data/frame32.jpg', '/content/data/frame33.jpg', '/content/data/frame34.jpg', '/content/data/frame35.jpg', '/content/data/frame36.jpg', '/content/data/frame37.jpg', '/content/data/frame38.jpg', '/content/data/frame39.jpg', '/content/data/frame40.jpg', '/content/data/frame41.jpg', '/content/data/frame42.jpg', '/content/data/frame43.jpg', '/content/data/frame44.jpg', '/content/data/frame45.jpg', '/content/data/frame46.jpg', '/content/data/frame47.jpg', '/content/data/frame48.jpg', '/content/data/frame49.jpg', '/content/data/frame50.jpg', '/content/data/frame51.jpg', '/content/data/frame52.jpg', '/content/data/frame53.jpg', '/content/data/frame54.jpg', '/content/data/frame55.jpg', '/content/data/frame56.jpg', '/content/data/frame57.jpg', '/content/data/frame58.jpg', '/content/data/frame59.jpg', '/content/data/frame60.jpg', '/content/data/frame61.jpg', '/content/data/frame62.jpg', '/content/data/frame63.jpg', '/content/data/frame64.jpg', '/content/data/frame65.jpg', '/content/data/frame66.jpg', '/content/data/frame67.jpg', '/content/data/frame68.jpg', '/content/data/frame69.jpg', '/content/data/frame70.jpg', '/content/data/frame71.jpg', '/content/data/frame72.jpg', '/content/data/frame73.jpg', '/content/data/frame74.jpg', '/content/data/frame75.jpg', '/content/data/frame76.jpg', '/content/data/frame77.jpg', '/content/data/frame78.jpg', '/content/data/frame79.jpg', '/content/data/frame80.jpg', '/content/data/frame81.jpg', '/content/data/frame82.jpg', '/content/data/frame83.jpg', '/content/data/frame84.jpg', '/content/data/frame85.jpg', '/content/data/frame86.jpg', '/content/data/frame87.jpg', '/content/data/frame88.jpg', '/content/data/frame89.jpg', '/content/data/frame90.jpg', '/content/data/frame91.jpg', '/content/data/frame92.jpg', '/content/data/frame93.jpg', '/content/data/frame94.jpg', '/content/data/frame95.jpg', '/content/data/frame96.jpg', '/content/data/frame97.jpg', '/content/data/frame98.jpg', '/content/data/frame99.jpg'])\n",
            "dict_keys(['/content/data/frame0.jpg', '/content/data/frame1.jpg', '/content/data/frame2.jpg', '/content/data/frame3.jpg', '/content/data/frame4.jpg', '/content/data/frame5.jpg', '/content/data/frame6.jpg', '/content/data/frame7.jpg', '/content/data/frame8.jpg', '/content/data/frame9.jpg', '/content/data/frame10.jpg', '/content/data/frame11.jpg', '/content/data/frame12.jpg', '/content/data/frame13.jpg', '/content/data/frame14.jpg', '/content/data/frame15.jpg', '/content/data/frame16.jpg', '/content/data/frame17.jpg', '/content/data/frame18.jpg', '/content/data/frame19.jpg', '/content/data/frame20.jpg', '/content/data/frame21.jpg', '/content/data/frame22.jpg', '/content/data/frame23.jpg', '/content/data/frame24.jpg', '/content/data/frame25.jpg', '/content/data/frame26.jpg', '/content/data/frame27.jpg', '/content/data/frame28.jpg', '/content/data/frame29.jpg', '/content/data/frame30.jpg', '/content/data/frame31.jpg', '/content/data/frame32.jpg', '/content/data/frame33.jpg', '/content/data/frame34.jpg', '/content/data/frame35.jpg', '/content/data/frame36.jpg', '/content/data/frame37.jpg', '/content/data/frame38.jpg', '/content/data/frame39.jpg', '/content/data/frame40.jpg', '/content/data/frame41.jpg', '/content/data/frame42.jpg', '/content/data/frame43.jpg', '/content/data/frame44.jpg', '/content/data/frame45.jpg', '/content/data/frame46.jpg', '/content/data/frame47.jpg', '/content/data/frame48.jpg', '/content/data/frame49.jpg', '/content/data/frame50.jpg', '/content/data/frame51.jpg', '/content/data/frame52.jpg', '/content/data/frame53.jpg', '/content/data/frame54.jpg', '/content/data/frame55.jpg', '/content/data/frame56.jpg', '/content/data/frame57.jpg', '/content/data/frame58.jpg', '/content/data/frame59.jpg', '/content/data/frame60.jpg', '/content/data/frame61.jpg', '/content/data/frame62.jpg', '/content/data/frame63.jpg', '/content/data/frame64.jpg', '/content/data/frame65.jpg', '/content/data/frame66.jpg', '/content/data/frame67.jpg', '/content/data/frame68.jpg', '/content/data/frame69.jpg', '/content/data/frame70.jpg', '/content/data/frame71.jpg', '/content/data/frame72.jpg', '/content/data/frame73.jpg', '/content/data/frame74.jpg', '/content/data/frame75.jpg', '/content/data/frame76.jpg', '/content/data/frame77.jpg', '/content/data/frame78.jpg', '/content/data/frame79.jpg', '/content/data/frame80.jpg', '/content/data/frame81.jpg', '/content/data/frame82.jpg', '/content/data/frame83.jpg', '/content/data/frame84.jpg', '/content/data/frame85.jpg', '/content/data/frame86.jpg', '/content/data/frame87.jpg', '/content/data/frame88.jpg', '/content/data/frame89.jpg', '/content/data/frame90.jpg', '/content/data/frame91.jpg', '/content/data/frame92.jpg', '/content/data/frame93.jpg', '/content/data/frame94.jpg', '/content/data/frame95.jpg', '/content/data/frame96.jpg', '/content/data/frame97.jpg', '/content/data/frame98.jpg', '/content/data/frame99.jpg', '/content/data/frame100.jpg', '/content/data/frame101.jpg', '/content/data/frame102.jpg', '/content/data/frame103.jpg', '/content/data/frame104.jpg'])\n",
            "dict_keys(['/content/data/frame0.jpg', '/content/data/frame1.jpg', '/content/data/frame2.jpg', '/content/data/frame3.jpg', '/content/data/frame4.jpg', '/content/data/frame5.jpg', '/content/data/frame6.jpg', '/content/data/frame7.jpg', '/content/data/frame8.jpg', '/content/data/frame9.jpg', '/content/data/frame10.jpg', '/content/data/frame11.jpg', '/content/data/frame12.jpg', '/content/data/frame13.jpg', '/content/data/frame14.jpg', '/content/data/frame15.jpg', '/content/data/frame16.jpg', '/content/data/frame17.jpg', '/content/data/frame18.jpg', '/content/data/frame19.jpg', '/content/data/frame20.jpg', '/content/data/frame21.jpg', '/content/data/frame22.jpg', '/content/data/frame23.jpg', '/content/data/frame24.jpg', '/content/data/frame25.jpg', '/content/data/frame26.jpg', '/content/data/frame27.jpg', '/content/data/frame28.jpg', '/content/data/frame29.jpg', '/content/data/frame30.jpg', '/content/data/frame31.jpg', '/content/data/frame32.jpg', '/content/data/frame33.jpg', '/content/data/frame34.jpg', '/content/data/frame35.jpg', '/content/data/frame36.jpg', '/content/data/frame37.jpg', '/content/data/frame38.jpg', '/content/data/frame39.jpg', '/content/data/frame40.jpg', '/content/data/frame41.jpg', '/content/data/frame42.jpg', '/content/data/frame43.jpg', '/content/data/frame44.jpg', '/content/data/frame45.jpg', '/content/data/frame46.jpg', '/content/data/frame47.jpg', '/content/data/frame48.jpg', '/content/data/frame49.jpg', '/content/data/frame50.jpg', '/content/data/frame51.jpg', '/content/data/frame52.jpg', '/content/data/frame53.jpg', '/content/data/frame54.jpg', '/content/data/frame55.jpg', '/content/data/frame56.jpg', '/content/data/frame57.jpg', '/content/data/frame58.jpg', '/content/data/frame59.jpg', '/content/data/frame60.jpg', '/content/data/frame61.jpg', '/content/data/frame62.jpg', '/content/data/frame63.jpg', '/content/data/frame64.jpg', '/content/data/frame65.jpg', '/content/data/frame66.jpg', '/content/data/frame67.jpg', '/content/data/frame68.jpg', '/content/data/frame69.jpg', '/content/data/frame70.jpg', '/content/data/frame71.jpg', '/content/data/frame72.jpg', '/content/data/frame73.jpg', '/content/data/frame74.jpg', '/content/data/frame75.jpg', '/content/data/frame76.jpg', '/content/data/frame77.jpg', '/content/data/frame78.jpg', '/content/data/frame79.jpg', '/content/data/frame80.jpg', '/content/data/frame81.jpg', '/content/data/frame82.jpg', '/content/data/frame83.jpg', '/content/data/frame84.jpg', '/content/data/frame85.jpg', '/content/data/frame86.jpg', '/content/data/frame87.jpg', '/content/data/frame88.jpg', '/content/data/frame89.jpg', '/content/data/frame90.jpg', '/content/data/frame91.jpg', '/content/data/frame92.jpg', '/content/data/frame93.jpg', '/content/data/frame94.jpg', '/content/data/frame95.jpg', '/content/data/frame96.jpg', '/content/data/frame97.jpg', '/content/data/frame98.jpg', '/content/data/frame99.jpg', '/content/data/frame100.jpg', '/content/data/frame101.jpg', '/content/data/frame102.jpg', '/content/data/frame103.jpg', '/content/data/frame104.jpg', '/content/data/frame105.jpg', '/content/data/frame106.jpg', '/content/data/frame107.jpg', '/content/data/frame108.jpg', '/content/data/frame109.jpg'])\n",
            "dict_keys(['/content/data/frame0.jpg', '/content/data/frame1.jpg', '/content/data/frame2.jpg', '/content/data/frame3.jpg', '/content/data/frame4.jpg', '/content/data/frame5.jpg', '/content/data/frame6.jpg', '/content/data/frame7.jpg', '/content/data/frame8.jpg', '/content/data/frame9.jpg', '/content/data/frame10.jpg', '/content/data/frame11.jpg', '/content/data/frame12.jpg', '/content/data/frame13.jpg', '/content/data/frame14.jpg', '/content/data/frame15.jpg', '/content/data/frame16.jpg', '/content/data/frame17.jpg', '/content/data/frame18.jpg', '/content/data/frame19.jpg', '/content/data/frame20.jpg', '/content/data/frame21.jpg', '/content/data/frame22.jpg', '/content/data/frame23.jpg', '/content/data/frame24.jpg', '/content/data/frame25.jpg', '/content/data/frame26.jpg', '/content/data/frame27.jpg', '/content/data/frame28.jpg', '/content/data/frame29.jpg', '/content/data/frame30.jpg', '/content/data/frame31.jpg', '/content/data/frame32.jpg', '/content/data/frame33.jpg', '/content/data/frame34.jpg', '/content/data/frame35.jpg', '/content/data/frame36.jpg', '/content/data/frame37.jpg', '/content/data/frame38.jpg', '/content/data/frame39.jpg', '/content/data/frame40.jpg', '/content/data/frame41.jpg', '/content/data/frame42.jpg', '/content/data/frame43.jpg', '/content/data/frame44.jpg', '/content/data/frame45.jpg', '/content/data/frame46.jpg', '/content/data/frame47.jpg', '/content/data/frame48.jpg', '/content/data/frame49.jpg', '/content/data/frame50.jpg', '/content/data/frame51.jpg', '/content/data/frame52.jpg', '/content/data/frame53.jpg', '/content/data/frame54.jpg', '/content/data/frame55.jpg', '/content/data/frame56.jpg', '/content/data/frame57.jpg', '/content/data/frame58.jpg', '/content/data/frame59.jpg', '/content/data/frame60.jpg', '/content/data/frame61.jpg', '/content/data/frame62.jpg', '/content/data/frame63.jpg', '/content/data/frame64.jpg', '/content/data/frame65.jpg', '/content/data/frame66.jpg', '/content/data/frame67.jpg', '/content/data/frame68.jpg', '/content/data/frame69.jpg', '/content/data/frame70.jpg', '/content/data/frame71.jpg', '/content/data/frame72.jpg', '/content/data/frame73.jpg', '/content/data/frame74.jpg', '/content/data/frame75.jpg', '/content/data/frame76.jpg', '/content/data/frame77.jpg', '/content/data/frame78.jpg', '/content/data/frame79.jpg', '/content/data/frame80.jpg', '/content/data/frame81.jpg', '/content/data/frame82.jpg', '/content/data/frame83.jpg', '/content/data/frame84.jpg', '/content/data/frame85.jpg', '/content/data/frame86.jpg', '/content/data/frame87.jpg', '/content/data/frame88.jpg', '/content/data/frame89.jpg', '/content/data/frame90.jpg', '/content/data/frame91.jpg', '/content/data/frame92.jpg', '/content/data/frame93.jpg', '/content/data/frame94.jpg', '/content/data/frame95.jpg', '/content/data/frame96.jpg', '/content/data/frame97.jpg', '/content/data/frame98.jpg', '/content/data/frame99.jpg', '/content/data/frame100.jpg', '/content/data/frame101.jpg', '/content/data/frame102.jpg', '/content/data/frame103.jpg', '/content/data/frame104.jpg', '/content/data/frame105.jpg', '/content/data/frame106.jpg', '/content/data/frame107.jpg', '/content/data/frame108.jpg', '/content/data/frame109.jpg', '/content/data/frame110.jpg', '/content/data/frame111.jpg', '/content/data/frame112.jpg', '/content/data/frame113.jpg', '/content/data/frame114.jpg'])\n",
            "dict_keys(['/content/data/frame0.jpg', '/content/data/frame1.jpg', '/content/data/frame2.jpg', '/content/data/frame3.jpg', '/content/data/frame4.jpg', '/content/data/frame5.jpg', '/content/data/frame6.jpg', '/content/data/frame7.jpg', '/content/data/frame8.jpg', '/content/data/frame9.jpg', '/content/data/frame10.jpg', '/content/data/frame11.jpg', '/content/data/frame12.jpg', '/content/data/frame13.jpg', '/content/data/frame14.jpg', '/content/data/frame15.jpg', '/content/data/frame16.jpg', '/content/data/frame17.jpg', '/content/data/frame18.jpg', '/content/data/frame19.jpg', '/content/data/frame20.jpg', '/content/data/frame21.jpg', '/content/data/frame22.jpg', '/content/data/frame23.jpg', '/content/data/frame24.jpg', '/content/data/frame25.jpg', '/content/data/frame26.jpg', '/content/data/frame27.jpg', '/content/data/frame28.jpg', '/content/data/frame29.jpg', '/content/data/frame30.jpg', '/content/data/frame31.jpg', '/content/data/frame32.jpg', '/content/data/frame33.jpg', '/content/data/frame34.jpg', '/content/data/frame35.jpg', '/content/data/frame36.jpg', '/content/data/frame37.jpg', '/content/data/frame38.jpg', '/content/data/frame39.jpg', '/content/data/frame40.jpg', '/content/data/frame41.jpg', '/content/data/frame42.jpg', '/content/data/frame43.jpg', '/content/data/frame44.jpg', '/content/data/frame45.jpg', '/content/data/frame46.jpg', '/content/data/frame47.jpg', '/content/data/frame48.jpg', '/content/data/frame49.jpg', '/content/data/frame50.jpg', '/content/data/frame51.jpg', '/content/data/frame52.jpg', '/content/data/frame53.jpg', '/content/data/frame54.jpg', '/content/data/frame55.jpg', '/content/data/frame56.jpg', '/content/data/frame57.jpg', '/content/data/frame58.jpg', '/content/data/frame59.jpg', '/content/data/frame60.jpg', '/content/data/frame61.jpg', '/content/data/frame62.jpg', '/content/data/frame63.jpg', '/content/data/frame64.jpg', '/content/data/frame65.jpg', '/content/data/frame66.jpg', '/content/data/frame67.jpg', '/content/data/frame68.jpg', '/content/data/frame69.jpg', '/content/data/frame70.jpg', '/content/data/frame71.jpg', '/content/data/frame72.jpg', '/content/data/frame73.jpg', '/content/data/frame74.jpg', '/content/data/frame75.jpg', '/content/data/frame76.jpg', '/content/data/frame77.jpg', '/content/data/frame78.jpg', '/content/data/frame79.jpg', '/content/data/frame80.jpg', '/content/data/frame81.jpg', '/content/data/frame82.jpg', '/content/data/frame83.jpg', '/content/data/frame84.jpg', '/content/data/frame85.jpg', '/content/data/frame86.jpg', '/content/data/frame87.jpg', '/content/data/frame88.jpg', '/content/data/frame89.jpg', '/content/data/frame90.jpg', '/content/data/frame91.jpg', '/content/data/frame92.jpg', '/content/data/frame93.jpg', '/content/data/frame94.jpg', '/content/data/frame95.jpg', '/content/data/frame96.jpg', '/content/data/frame97.jpg', '/content/data/frame98.jpg', '/content/data/frame99.jpg', '/content/data/frame100.jpg', '/content/data/frame101.jpg', '/content/data/frame102.jpg', '/content/data/frame103.jpg', '/content/data/frame104.jpg', '/content/data/frame105.jpg', '/content/data/frame106.jpg', '/content/data/frame107.jpg', '/content/data/frame108.jpg', '/content/data/frame109.jpg', '/content/data/frame110.jpg', '/content/data/frame111.jpg', '/content/data/frame112.jpg', '/content/data/frame113.jpg', '/content/data/frame114.jpg', '/content/data/frame115.jpg', '/content/data/frame116.jpg', '/content/data/frame117.jpg', '/content/data/frame118.jpg', '/content/data/frame119.jpg'])\n",
            "dict_keys(['/content/data/frame0.jpg', '/content/data/frame1.jpg', '/content/data/frame2.jpg', '/content/data/frame3.jpg', '/content/data/frame4.jpg', '/content/data/frame5.jpg', '/content/data/frame6.jpg', '/content/data/frame7.jpg', '/content/data/frame8.jpg', '/content/data/frame9.jpg', '/content/data/frame10.jpg', '/content/data/frame11.jpg', '/content/data/frame12.jpg', '/content/data/frame13.jpg', '/content/data/frame14.jpg', '/content/data/frame15.jpg', '/content/data/frame16.jpg', '/content/data/frame17.jpg', '/content/data/frame18.jpg', '/content/data/frame19.jpg', '/content/data/frame20.jpg', '/content/data/frame21.jpg', '/content/data/frame22.jpg', '/content/data/frame23.jpg', '/content/data/frame24.jpg', '/content/data/frame25.jpg', '/content/data/frame26.jpg', '/content/data/frame27.jpg', '/content/data/frame28.jpg', '/content/data/frame29.jpg', '/content/data/frame30.jpg', '/content/data/frame31.jpg', '/content/data/frame32.jpg', '/content/data/frame33.jpg', '/content/data/frame34.jpg', '/content/data/frame35.jpg', '/content/data/frame36.jpg', '/content/data/frame37.jpg', '/content/data/frame38.jpg', '/content/data/frame39.jpg', '/content/data/frame40.jpg', '/content/data/frame41.jpg', '/content/data/frame42.jpg', '/content/data/frame43.jpg', '/content/data/frame44.jpg', '/content/data/frame45.jpg', '/content/data/frame46.jpg', '/content/data/frame47.jpg', '/content/data/frame48.jpg', '/content/data/frame49.jpg', '/content/data/frame50.jpg', '/content/data/frame51.jpg', '/content/data/frame52.jpg', '/content/data/frame53.jpg', '/content/data/frame54.jpg', '/content/data/frame55.jpg', '/content/data/frame56.jpg', '/content/data/frame57.jpg', '/content/data/frame58.jpg', '/content/data/frame59.jpg', '/content/data/frame60.jpg', '/content/data/frame61.jpg', '/content/data/frame62.jpg', '/content/data/frame63.jpg', '/content/data/frame64.jpg', '/content/data/frame65.jpg', '/content/data/frame66.jpg', '/content/data/frame67.jpg', '/content/data/frame68.jpg', '/content/data/frame69.jpg', '/content/data/frame70.jpg', '/content/data/frame71.jpg', '/content/data/frame72.jpg', '/content/data/frame73.jpg', '/content/data/frame74.jpg', '/content/data/frame75.jpg', '/content/data/frame76.jpg', '/content/data/frame77.jpg', '/content/data/frame78.jpg', '/content/data/frame79.jpg', '/content/data/frame80.jpg', '/content/data/frame81.jpg', '/content/data/frame82.jpg', '/content/data/frame83.jpg', '/content/data/frame84.jpg', '/content/data/frame85.jpg', '/content/data/frame86.jpg', '/content/data/frame87.jpg', '/content/data/frame88.jpg', '/content/data/frame89.jpg', '/content/data/frame90.jpg', '/content/data/frame91.jpg', '/content/data/frame92.jpg', '/content/data/frame93.jpg', '/content/data/frame94.jpg', '/content/data/frame95.jpg', '/content/data/frame96.jpg', '/content/data/frame97.jpg', '/content/data/frame98.jpg', '/content/data/frame99.jpg', '/content/data/frame100.jpg', '/content/data/frame101.jpg', '/content/data/frame102.jpg', '/content/data/frame103.jpg', '/content/data/frame104.jpg', '/content/data/frame105.jpg', '/content/data/frame106.jpg', '/content/data/frame107.jpg', '/content/data/frame108.jpg', '/content/data/frame109.jpg', '/content/data/frame110.jpg', '/content/data/frame111.jpg', '/content/data/frame112.jpg', '/content/data/frame113.jpg', '/content/data/frame114.jpg', '/content/data/frame115.jpg', '/content/data/frame116.jpg', '/content/data/frame117.jpg', '/content/data/frame118.jpg', '/content/data/frame119.jpg', '/content/data/frame120.jpg', '/content/data/frame121.jpg', '/content/data/frame122.jpg', '/content/data/frame123.jpg', '/content/data/frame124.jpg'])\n"
          ]
        },
        {
          "output_type": "error",
          "ename": "FileNotFoundError",
          "evalue": "ignored",
          "traceback": [
            "\u001b[0;31m---------------------------------------------------------------------------\u001b[0m",
            "\u001b[0;31mFileNotFoundError\u001b[0m                         Traceback (most recent call last)",
            "\u001b[0;32m<ipython-input-46-a3ea1c9cd6a4>\u001b[0m in \u001b[0;36m<module>\u001b[0;34m\u001b[0m\n\u001b[1;32m     15\u001b[0m \u001b[0;32mwhile\u001b[0m\u001b[0;34m(\u001b[0m\u001b[0;32mTrue\u001b[0m\u001b[0;34m)\u001b[0m\u001b[0;34m:\u001b[0m\u001b[0;34m\u001b[0m\u001b[0;34m\u001b[0m\u001b[0m\n\u001b[1;32m     16\u001b[0m   \u001b[0;32mfor\u001b[0m \u001b[0mi\u001b[0m \u001b[0;32min\u001b[0m \u001b[0mrange\u001b[0m \u001b[0;34m(\u001b[0m\u001b[0;36m0\u001b[0m\u001b[0;34m,\u001b[0m \u001b[0mtimestamp_quota_int\u001b[0m\u001b[0;34m)\u001b[0m\u001b[0;34m:\u001b[0m\u001b[0;34m\u001b[0m\u001b[0;34m\u001b[0m\u001b[0m\n\u001b[0;32m---> 17\u001b[0;31m     \u001b[0mvalue\u001b[0m\u001b[0;34m=\u001b[0m\u001b[0mimagehash\u001b[0m\u001b[0;34m.\u001b[0m\u001b[0mphash\u001b[0m\u001b[0;34m(\u001b[0m\u001b[0mImage\u001b[0m\u001b[0;34m.\u001b[0m\u001b[0mopen\u001b[0m\u001b[0;34m(\u001b[0m\u001b[0;34m'/content/data/frame'\u001b[0m\u001b[0;34m+\u001b[0m\u001b[0mstr\u001b[0m\u001b[0;34m(\u001b[0m\u001b[0mi\u001b[0m\u001b[0;34m)\u001b[0m\u001b[0;34m+\u001b[0m\u001b[0;34m'.jpg'\u001b[0m\u001b[0;34m)\u001b[0m\u001b[0;34m)\u001b[0m\u001b[0;34m\u001b[0m\u001b[0;34m\u001b[0m\u001b[0m\n\u001b[0m\u001b[1;32m     18\u001b[0m     \u001b[0mframe_buf\u001b[0m\u001b[0;34m.\u001b[0m\u001b[0minsert\u001b[0m\u001b[0;34m(\u001b[0m\u001b[0mi\u001b[0m\u001b[0;34m,\u001b[0m\u001b[0;34m'/content/data/frame'\u001b[0m\u001b[0;34m+\u001b[0m\u001b[0mstr\u001b[0m\u001b[0;34m(\u001b[0m\u001b[0mi\u001b[0m\u001b[0;34m)\u001b[0m\u001b[0;34m+\u001b[0m\u001b[0;34m'.jpg'\u001b[0m\u001b[0;34m)\u001b[0m\u001b[0;34m\u001b[0m\u001b[0;34m\u001b[0m\u001b[0m\n\u001b[1;32m     19\u001b[0m     \u001b[0mp_hash_array_buf\u001b[0m\u001b[0;34m.\u001b[0m\u001b[0minsert\u001b[0m\u001b[0;34m(\u001b[0m\u001b[0mi\u001b[0m\u001b[0;34m,\u001b[0m\u001b[0mstr\u001b[0m\u001b[0;34m(\u001b[0m\u001b[0mvalue\u001b[0m\u001b[0;34m)\u001b[0m\u001b[0;34m)\u001b[0m\u001b[0;34m\u001b[0m\u001b[0;34m\u001b[0m\u001b[0m\n",
            "\u001b[0;32m/usr/local/lib/python3.9/dist-packages/PIL/Image.py\u001b[0m in \u001b[0;36mopen\u001b[0;34m(fp, mode, formats)\u001b[0m\n\u001b[1;32m   2973\u001b[0m \u001b[0;34m\u001b[0m\u001b[0m\n\u001b[1;32m   2974\u001b[0m     \u001b[0;32mif\u001b[0m \u001b[0mfilename\u001b[0m\u001b[0;34m:\u001b[0m\u001b[0;34m\u001b[0m\u001b[0;34m\u001b[0m\u001b[0m\n\u001b[0;32m-> 2975\u001b[0;31m         \u001b[0mfp\u001b[0m \u001b[0;34m=\u001b[0m \u001b[0mbuiltins\u001b[0m\u001b[0;34m.\u001b[0m\u001b[0mopen\u001b[0m\u001b[0;34m(\u001b[0m\u001b[0mfilename\u001b[0m\u001b[0;34m,\u001b[0m \u001b[0;34m\"rb\"\u001b[0m\u001b[0;34m)\u001b[0m\u001b[0;34m\u001b[0m\u001b[0;34m\u001b[0m\u001b[0m\n\u001b[0m\u001b[1;32m   2976\u001b[0m         \u001b[0mexclusive_fp\u001b[0m \u001b[0;34m=\u001b[0m \u001b[0;32mTrue\u001b[0m\u001b[0;34m\u001b[0m\u001b[0;34m\u001b[0m\u001b[0m\n\u001b[1;32m   2977\u001b[0m \u001b[0;34m\u001b[0m\u001b[0m\n",
            "\u001b[0;31mFileNotFoundError\u001b[0m: [Errno 2] No such file or directory: '/content/data/frame129.jpg'"
          ]
        }
      ]
    },
    {
      "cell_type": "code",
      "source": [
        "print(final)\n",
        "print(len(final))"
      ],
      "metadata": {
        "colab": {
          "base_uri": "https://localhost:8080/"
        },
        "id": "KViFzUlA3plI",
        "outputId": "1a777c20-658e-4e4f-cc80-1f8fae83bbe7"
      },
      "execution_count": null,
      "outputs": [
        {
          "output_type": "stream",
          "name": "stdout",
          "text": [
            "{'/content/data/frame0.jpg': 'c8db3b1bc4c03d87', '/content/data/frame1.jpg': 'c8db3b1fc4c03d85', '/content/data/frame2.jpg': 'c8db3b1bc4c43d85', '/content/data/frame3.jpg': 'c8db3b13c4cc3d85', '/content/data/frame4.jpg': 'c8db7b1bc0c83d85', '/content/data/frame5.jpg': 'c8db3b1bc0cc3d85', '/content/data/frame6.jpg': 'c8db3b13c4cc3d85', '/content/data/frame7.jpg': 'c8db3b13c4cc3d85', '/content/data/frame8.jpg': 'c8db3b13c4cc3d85', '/content/data/frame9.jpg': 'c8db3b13c4cc3d85', '/content/data/frame10.jpg': 'c8db3b13c4cc3d85', '/content/data/frame11.jpg': 'c8da3b13cccc3d85', '/content/data/frame12.jpg': 'c8da3b13cc4c3d87', '/content/data/frame13.jpg': 'c8da3b1bc84c3d87', '/content/data/frame14.jpg': 'c8d23b1bcc4c3d87', '/content/data/frame15.jpg': 'c8d23b1bcc4c3d87', '/content/data/frame16.jpg': 'c8d23b13cccc3d87', '/content/data/frame17.jpg': 'c8d23b1bc8cc3d87', '/content/data/frame18.jpg': 'c8d23b1bc8cc3d87', '/content/data/frame19.jpg': '86b9ecc6d0c8b1b3', '/content/data/frame20.jpg': '86b9ecc6d0c8b1b3', '/content/data/frame21.jpg': '86b9ecc6d0c8b1b3', '/content/data/frame22.jpg': '86b9ecc6d0c8b1b3', '/content/data/frame23.jpg': '86b9ecc6d0c8b1b3', '/content/data/frame24.jpg': 'c8d23b13cccc3d87', '/content/data/frame25.jpg': 'c8d23b13cccc3d87', '/content/data/frame26.jpg': 'c8d23b1bc8cc3d87', '/content/data/frame27.jpg': 'c8d23b1bc8cc3d87', '/content/data/frame28.jpg': 'c8d23b1bc8cc3d87', '/content/data/frame29.jpg': 'c8d23b1bc8cc3d87', '/content/data/frame30.jpg': 'c8d23b1fc8c83d87', '/content/data/frame31.jpg': 'ccd23b1fc4c83d85', '/content/data/frame32.jpg': 'ccd23b1fc4c83d85', '/content/data/frame33.jpg': 'c8d23b17c8e83d87', '/content/data/frame34.jpg': 'c8d23b13c8ec3d87', '/content/data/frame35.jpg': 'cad23313c4ec398f', '/content/data/frame36.jpg': 'cad2331ac5e8398f', '/content/data/frame37.jpg': 'c8d2531bc4ed398b', '/content/data/frame38.jpg': 'c8d2521bc4ed398f', '/content/data/frame39.jpg': 'c8d2521bc4ed398f', '/content/data/frame40.jpg': 'ccd25217c4ed398b', '/content/data/frame41.jpg': 'ccd25b17c0ec398b', '/content/data/frame42.jpg': 'ccd25b16c0ed398b', '/content/data/frame43.jpg': 'c4d25a17c0ed39cb', '/content/data/frame44.jpg': 'c4d27a16c0ed39cb', '/content/data/frame45.jpg': 'd4d27b16c0ec39c3', '/content/data/frame46.jpg': 'd4d27b16c0ec39c3', '/content/data/frame47.jpg': 'd4d23b16c0ec39cb', '/content/data/frame48.jpg': 'd4d23b16c06c3dcb', '/content/data/frame49.jpg': 'd6d23b16c06c3d8b', '/content/data/frame50.jpg': 'd6d23b16c06c3d8b', '/content/data/frame51.jpg': 'b1ade8c92e26859e', '/content/data/frame52.jpg': 'b1ade8c92e26859e', '/content/data/frame53.jpg': 'b1ade8c92e26859e', '/content/data/frame54.jpg': 'b1ade8c92e26859e', '/content/data/frame55.jpg': 'b1ade8c92e26859e', '/content/data/frame56.jpg': 'd6d23b16c06c3d8b', '/content/data/frame57.jpg': 'd6d23b12ca6c398b', '/content/data/frame58.jpg': 'd6d23312ca6c3d8b', '/content/data/frame59.jpg': 'd6d03312caec3d8b', '/content/data/frame60.jpg': 'c6d23312caec3d8b', '/content/data/frame61.jpg': 'c6d23312caec3d8b', '/content/data/frame62.jpg': 'ccd23312caec3d8b', '/content/data/frame63.jpg': 'ccd23312cacc3d8f', '/content/data/frame64.jpg': 'ccd23312cacc3d8f', '/content/data/frame65.jpg': 'ccd23312cadc3d8b', '/content/data/frame66.jpg': 'ccd23312cadc3d8b', '/content/data/frame67.jpg': 'ccd23312cadc3d8d', '/content/data/frame68.jpg': 'ccd23312cadc3d8d', '/content/data/frame69.jpg': 'ccd23312c8de3d8d', '/content/data/frame70.jpg': 'ccd23312c8de3d8d', '/content/data/frame71.jpg': '84a8ef6cede1c1b0', '/content/data/frame72.jpg': '84a8ef6cede1c1b0', '/content/data/frame73.jpg': '84a8ef6cede1c1b0', '/content/data/frame74.jpg': '84a8ef6cede1c1b0', '/content/data/frame75.jpg': '84a8ef6cede1c1b0', '/content/data/frame76.jpg': 'ccd23212cade3d8d', '/content/data/frame77.jpg': 'ccd23212cade3d8d', '/content/data/frame78.jpg': 'ccd23212cade3d8d', '/content/data/frame79.jpg': 'ccd23212cade3d8d', '/content/data/frame80.jpg': 'ccd23312c8de3d8d', '/content/data/frame81.jpg': 'c4d23312cade3d8d', '/content/data/frame82.jpg': 'c4d23312cade3d8d', '/content/data/frame83.jpg': 'ccd03312cade3d8d', '/content/data/frame84.jpg': 'ccd03312cade3d8d', '/content/data/frame85.jpg': 'ccd03312cade3d8d', '/content/data/frame86.jpg': 'c4d03312cade3d8f', '/content/data/frame87.jpg': 'c4d03312c2de7d8f', '/content/data/frame88.jpg': 'c4d03312c2de7d8f', '/content/data/frame89.jpg': 'c4d03316c0de7d8f', '/content/data/frame90.jpg': 'd4d03312c2de3d8f', '/content/data/frame91.jpg': 'd4d03312cade3d8d', '/content/data/frame92.jpg': 'd4d03312cade3d8d', '/content/data/frame93.jpg': 'd4d03312cade3d8d', '/content/data/frame94.jpg': 'd4d03316c8de3d8d', '/content/data/frame95.jpg': '88d0947e3f0fc9b4', '/content/data/frame96.jpg': '88d0947e3f0fc9b4', '/content/data/frame97.jpg': '88d0947e3f0fc9b4', '/content/data/frame98.jpg': '88d0947e3f0fc9b4', '/content/data/frame99.jpg': '88d0947e3f0fc9b4', '/content/data/frame100.jpg': 'd4d03316c0de7d8d', '/content/data/frame101.jpg': 'c4d13316c0de7d8d', '/content/data/frame102.jpg': 'd4d13316c0de3d8d', '/content/data/frame103.jpg': 'd4d13316c2de3d89', '/content/data/frame104.jpg': 'd4d13316c2de3d89', '/content/data/frame105.jpg': 'd4681383edecd661', '/content/data/frame106.jpg': 'd4681383edecd661', '/content/data/frame107.jpg': 'd4281783edecd661', '/content/data/frame108.jpg': 'd4681383edecd661', '/content/data/frame109.jpg': 'd4681383edecd661', '/content/data/frame110.jpg': 'd4d13316c2de3d89', '/content/data/frame111.jpg': 'd4d13316c2de3d89', '/content/data/frame112.jpg': 'd4d13316c2de3d89', '/content/data/frame113.jpg': 'd4d13316c2de3d89', '/content/data/frame114.jpg': 'd4d13316c2de3d89', '/content/data/frame115.jpg': 'b0c98bf65b681e0e', '/content/data/frame116.jpg': 'b0c98bf65b681e0e', '/content/data/frame117.jpg': 'b0c98bf65b681e0e', '/content/data/frame118.jpg': 'b0c98bf65b681e0e', '/content/data/frame119.jpg': 'b0c98bf65b681e0e', '/content/data/frame120.jpg': 'd4d13312c2de3d8b', '/content/data/frame121.jpg': 'd4d13312c2de3d8b', '/content/data/frame122.jpg': 'd4d13316c2de398b', '/content/data/frame123.jpg': 'd4d13316c2de398b', '/content/data/frame124.jpg': 'd4d13316c2de398b'}\n",
            "125\n"
          ]
        }
      ]
    },
    {
      "cell_type": "code",
      "source": [
        "time_frame=list(time_frames)#time_frames is the dictionary with frames and timestamp values\n",
        "my_list = list(final)\n",
        "print(time_frame)"
      ],
      "metadata": {
        "colab": {
          "base_uri": "https://localhost:8080/",
          "height": 201
        },
        "id": "lfgnezPq412_",
        "outputId": "a60a6423-325c-4cb9-c607-02d057eac771"
      },
      "execution_count": null,
      "outputs": [
        {
          "output_type": "error",
          "ename": "NameError",
          "evalue": "ignored",
          "traceback": [
            "\u001b[0;31m---------------------------------------------------------------------------\u001b[0m",
            "\u001b[0;31mNameError\u001b[0m                                 Traceback (most recent call last)",
            "\u001b[0;32m<ipython-input-1-8b2871f56b78>\u001b[0m in \u001b[0;36m<cell line: 1>\u001b[0;34m()\u001b[0m\n\u001b[0;32m----> 1\u001b[0;31m \u001b[0mtime_frame\u001b[0m\u001b[0;34m=\u001b[0m\u001b[0mlist\u001b[0m\u001b[0;34m(\u001b[0m\u001b[0mtime_frames\u001b[0m\u001b[0;34m)\u001b[0m\u001b[0;31m#time_frames is the dictionary with frames and timestamp values\u001b[0m\u001b[0;34m\u001b[0m\u001b[0;34m\u001b[0m\u001b[0m\n\u001b[0m\u001b[1;32m      2\u001b[0m \u001b[0mmy_list\u001b[0m \u001b[0;34m=\u001b[0m \u001b[0mlist\u001b[0m\u001b[0;34m(\u001b[0m\u001b[0mfinal\u001b[0m\u001b[0;34m)\u001b[0m\u001b[0;34m\u001b[0m\u001b[0;34m\u001b[0m\u001b[0m\n\u001b[1;32m      3\u001b[0m \u001b[0mprint\u001b[0m\u001b[0;34m(\u001b[0m\u001b[0mtime_frame\u001b[0m\u001b[0;34m)\u001b[0m\u001b[0;34m\u001b[0m\u001b[0;34m\u001b[0m\u001b[0m\n",
            "\u001b[0;31mNameError\u001b[0m: name 'time_frames' is not defined"
          ]
        }
      ]
    },
    {
      "cell_type": "code",
      "source": [
        "frame_time=[]\n",
        "frame_name=[]\n",
        "new_timeframe={}\n",
        "result={}\n",
        "k=0\n",
        "for i in range(0,len(time_frame)):\n",
        "  for j in range(0,len(my_list)):\n",
        "    if(time_frame[i]==my_list[j]):\n",
        "      frame_name.append(my_list[j])\n",
        "print(frame_name)\n",
        "for k,v in time_frames.items():\n",
        "    for i in frame_name:\n",
        "        if i==k:\n",
        "            new_timeframe[k] = v\n",
        "print(new_timeframe)"
      ],
      "metadata": {
        "colab": {
          "base_uri": "https://localhost:8080/"
        },
        "id": "aoKWJx356fwJ",
        "outputId": "c70f8f5a-32f5-4e37-d4a2-d4fb0eb8141f"
      },
      "execution_count": null,
      "outputs": [
        {
          "output_type": "stream",
          "name": "stdout",
          "text": [
            "['/content/data/frame0.jpg', '/content/data/frame1.jpg', '/content/data/frame2.jpg', '/content/data/frame3.jpg', '/content/data/frame4.jpg', '/content/data/frame5.jpg', '/content/data/frame6.jpg', '/content/data/frame7.jpg', '/content/data/frame8.jpg', '/content/data/frame9.jpg', '/content/data/frame10.jpg', '/content/data/frame11.jpg', '/content/data/frame12.jpg', '/content/data/frame13.jpg', '/content/data/frame14.jpg', '/content/data/frame15.jpg', '/content/data/frame16.jpg', '/content/data/frame17.jpg', '/content/data/frame18.jpg', '/content/data/frame19.jpg', '/content/data/frame20.jpg', '/content/data/frame21.jpg', '/content/data/frame22.jpg', '/content/data/frame23.jpg', '/content/data/frame24.jpg', '/content/data/frame25.jpg', '/content/data/frame26.jpg', '/content/data/frame27.jpg', '/content/data/frame28.jpg', '/content/data/frame29.jpg', '/content/data/frame30.jpg', '/content/data/frame31.jpg', '/content/data/frame32.jpg', '/content/data/frame33.jpg', '/content/data/frame34.jpg', '/content/data/frame35.jpg', '/content/data/frame36.jpg', '/content/data/frame37.jpg', '/content/data/frame38.jpg', '/content/data/frame39.jpg', '/content/data/frame40.jpg', '/content/data/frame41.jpg', '/content/data/frame42.jpg', '/content/data/frame43.jpg', '/content/data/frame44.jpg', '/content/data/frame45.jpg', '/content/data/frame46.jpg', '/content/data/frame47.jpg', '/content/data/frame48.jpg', '/content/data/frame49.jpg', '/content/data/frame50.jpg', '/content/data/frame51.jpg', '/content/data/frame52.jpg', '/content/data/frame53.jpg', '/content/data/frame54.jpg', '/content/data/frame55.jpg', '/content/data/frame56.jpg', '/content/data/frame57.jpg', '/content/data/frame58.jpg', '/content/data/frame59.jpg', '/content/data/frame60.jpg', '/content/data/frame61.jpg', '/content/data/frame62.jpg', '/content/data/frame63.jpg', '/content/data/frame64.jpg', '/content/data/frame65.jpg', '/content/data/frame66.jpg', '/content/data/frame67.jpg', '/content/data/frame68.jpg', '/content/data/frame69.jpg', '/content/data/frame70.jpg', '/content/data/frame71.jpg', '/content/data/frame72.jpg', '/content/data/frame73.jpg', '/content/data/frame74.jpg', '/content/data/frame75.jpg', '/content/data/frame76.jpg', '/content/data/frame77.jpg', '/content/data/frame78.jpg', '/content/data/frame79.jpg', '/content/data/frame80.jpg', '/content/data/frame81.jpg', '/content/data/frame82.jpg', '/content/data/frame83.jpg', '/content/data/frame84.jpg', '/content/data/frame85.jpg', '/content/data/frame86.jpg', '/content/data/frame87.jpg', '/content/data/frame88.jpg', '/content/data/frame89.jpg', '/content/data/frame90.jpg', '/content/data/frame91.jpg', '/content/data/frame92.jpg', '/content/data/frame93.jpg', '/content/data/frame94.jpg', '/content/data/frame95.jpg', '/content/data/frame96.jpg', '/content/data/frame97.jpg', '/content/data/frame98.jpg', '/content/data/frame99.jpg', '/content/data/frame100.jpg', '/content/data/frame101.jpg', '/content/data/frame102.jpg', '/content/data/frame103.jpg', '/content/data/frame104.jpg', '/content/data/frame105.jpg', '/content/data/frame106.jpg', '/content/data/frame107.jpg', '/content/data/frame108.jpg', '/content/data/frame109.jpg', '/content/data/frame110.jpg', '/content/data/frame111.jpg', '/content/data/frame112.jpg', '/content/data/frame113.jpg', '/content/data/frame114.jpg', '/content/data/frame115.jpg', '/content/data/frame116.jpg', '/content/data/frame117.jpg', '/content/data/frame118.jpg', '/content/data/frame119.jpg', '/content/data/frame120.jpg', '/content/data/frame121.jpg', '/content/data/frame122.jpg', '/content/data/frame123.jpg', '/content/data/frame124.jpg']\n",
            "{'/content/data/frame0.jpg': 0.0, '/content/data/frame1.jpg': 0.04, '/content/data/frame2.jpg': 0.08, '/content/data/frame3.jpg': 0.12, '/content/data/frame4.jpg': 0.16, '/content/data/frame5.jpg': 0.2, '/content/data/frame6.jpg': 0.24, '/content/data/frame7.jpg': 0.28, '/content/data/frame8.jpg': 0.32, '/content/data/frame9.jpg': 0.36, '/content/data/frame10.jpg': 0.4, '/content/data/frame11.jpg': 0.44, '/content/data/frame12.jpg': 0.48, '/content/data/frame13.jpg': 0.52, '/content/data/frame14.jpg': 0.56, '/content/data/frame15.jpg': 0.6, '/content/data/frame16.jpg': 0.64, '/content/data/frame17.jpg': 0.68, '/content/data/frame18.jpg': 0.72, '/content/data/frame19.jpg': 0.76, '/content/data/frame20.jpg': 0.8, '/content/data/frame21.jpg': 0.84, '/content/data/frame22.jpg': 0.88, '/content/data/frame23.jpg': 0.92, '/content/data/frame24.jpg': 0.96, '/content/data/frame25.jpg': 1.0, '/content/data/frame26.jpg': 1.04, '/content/data/frame27.jpg': 1.08, '/content/data/frame28.jpg': 1.12, '/content/data/frame29.jpg': 1.16, '/content/data/frame30.jpg': 1.2, '/content/data/frame31.jpg': 1.24, '/content/data/frame32.jpg': 1.28, '/content/data/frame33.jpg': 1.32, '/content/data/frame34.jpg': 1.36, '/content/data/frame35.jpg': 1.4, '/content/data/frame36.jpg': 1.44, '/content/data/frame37.jpg': 1.48, '/content/data/frame38.jpg': 1.52, '/content/data/frame39.jpg': 1.56, '/content/data/frame40.jpg': 1.6, '/content/data/frame41.jpg': 1.64, '/content/data/frame42.jpg': 1.68, '/content/data/frame43.jpg': 1.72, '/content/data/frame44.jpg': 1.76, '/content/data/frame45.jpg': 1.8, '/content/data/frame46.jpg': 1.84, '/content/data/frame47.jpg': 1.88, '/content/data/frame48.jpg': 1.92, '/content/data/frame49.jpg': 1.96, '/content/data/frame50.jpg': 2.0, '/content/data/frame51.jpg': 2.04, '/content/data/frame52.jpg': 2.08, '/content/data/frame53.jpg': 2.12, '/content/data/frame54.jpg': 2.16, '/content/data/frame55.jpg': 2.2, '/content/data/frame56.jpg': 2.24, '/content/data/frame57.jpg': 2.28, '/content/data/frame58.jpg': 2.32, '/content/data/frame59.jpg': 2.36, '/content/data/frame60.jpg': 2.4, '/content/data/frame61.jpg': 2.44, '/content/data/frame62.jpg': 2.48, '/content/data/frame63.jpg': 2.52, '/content/data/frame64.jpg': 2.56, '/content/data/frame65.jpg': 2.6, '/content/data/frame66.jpg': 2.64, '/content/data/frame67.jpg': 2.68, '/content/data/frame68.jpg': 2.72, '/content/data/frame69.jpg': 2.76, '/content/data/frame70.jpg': 2.8, '/content/data/frame71.jpg': 2.84, '/content/data/frame72.jpg': 2.88, '/content/data/frame73.jpg': 2.92, '/content/data/frame74.jpg': 2.96, '/content/data/frame75.jpg': 3.0, '/content/data/frame76.jpg': 3.04, '/content/data/frame77.jpg': 3.08, '/content/data/frame78.jpg': 3.12, '/content/data/frame79.jpg': 3.16, '/content/data/frame80.jpg': 3.2, '/content/data/frame81.jpg': 3.24, '/content/data/frame82.jpg': 3.28, '/content/data/frame83.jpg': 3.32, '/content/data/frame84.jpg': 3.36, '/content/data/frame85.jpg': 3.4, '/content/data/frame86.jpg': 3.44, '/content/data/frame87.jpg': 3.48, '/content/data/frame88.jpg': 3.52, '/content/data/frame89.jpg': 3.56, '/content/data/frame90.jpg': 3.6, '/content/data/frame91.jpg': 3.64, '/content/data/frame92.jpg': 3.68, '/content/data/frame93.jpg': 3.72, '/content/data/frame94.jpg': 3.76, '/content/data/frame95.jpg': 3.8, '/content/data/frame96.jpg': 3.84, '/content/data/frame97.jpg': 3.88, '/content/data/frame98.jpg': 3.92, '/content/data/frame99.jpg': 3.96, '/content/data/frame100.jpg': 4.0, '/content/data/frame101.jpg': 4.04, '/content/data/frame102.jpg': 4.08, '/content/data/frame103.jpg': 4.12, '/content/data/frame104.jpg': 4.16, '/content/data/frame105.jpg': 4.2, '/content/data/frame106.jpg': 4.24, '/content/data/frame107.jpg': 4.28, '/content/data/frame108.jpg': 4.32, '/content/data/frame109.jpg': 4.36, '/content/data/frame110.jpg': 4.4, '/content/data/frame111.jpg': 4.44, '/content/data/frame112.jpg': 4.48, '/content/data/frame113.jpg': 4.52, '/content/data/frame114.jpg': 4.56, '/content/data/frame115.jpg': 4.6, '/content/data/frame116.jpg': 4.64, '/content/data/frame117.jpg': 4.68, '/content/data/frame118.jpg': 4.72, '/content/data/frame119.jpg': 4.76, '/content/data/frame120.jpg': 4.8, '/content/data/frame121.jpg': 4.84, '/content/data/frame122.jpg': 4.88, '/content/data/frame123.jpg': 4.92, '/content/data/frame124.jpg': 4.96}\n"
          ]
        }
      ]
    },
    {
      "cell_type": "code",
      "source": [
        "import imagehash\n",
        "import numpy\n",
        "from PIL import Image\n",
        "from collections import Counter\n",
        "from skimage.metrics import structural_similarity as ssim\n",
        "quota=5# a constant value to be modified\n",
        "timestamp_quota=round(len(time_stamp)*np.mean(duration),0)\n",
        "#images = numpy.empty(dtype=object)\n",
        "images=[]\n",
        "ssim_list=[]\n",
        "dup_frames={}\n",
        "time=[]\n",
        "j=0\n",
        "print(timestamp_quota)\n",
        "timestamp_quota_int=timestamp_quota.astype(int)\n",
        "print(timestamp_quota_int)\n",
        "#appending images with duplicate phash values\n",
        "for i in range(len(frame_name)):\n",
        "   images.append(cv2.imread(frame_name[i]))\n",
        "#appending timestamp of frames having duplicate phash values\n",
        "for key in new_timeframe:\n",
        "  time.append(new_timeframe[key])"
      ],
      "metadata": {
        "colab": {
          "base_uri": "https://localhost:8080/"
        },
        "id": "H3_dw_KV5CAk",
        "outputId": "2f0eb2f2-e99f-4524-f3de-3d154157f9e6"
      },
      "execution_count": null,
      "outputs": [
        {
          "output_type": "stream",
          "name": "stdout",
          "text": [
            "5.0\n",
            "5\n"
          ]
        }
      ]
    },
    {
      "cell_type": "code",
      "source": [
        "import math\n",
        "count =0\n",
        "dup_frames=[]\n",
        "dup_frames_time={}\n",
        "j=0\n",
        "index=0\n",
        "quota=5\n",
        "timestamp_quota_int=5\n",
        "no_of_loops=math.ceil(len(frame_name)/quota)\n",
        "while(True):\n",
        "  for n in range(j,timestamp_quota_int):\n",
        "    for i in range(j,timestamp_quota_int):\n",
        "      img1=images[n]\n",
        "      img2=images[i]\n",
        "      image1 = cv2.cvtColor(img1, cv2.COLOR_BGR2GRAY)\n",
        "      image2 = cv2.cvtColor(img2, cv2.COLOR_BGR2GRAY)          # trainImage\n",
        "      score, diff = ssim(image1, image2, full=True)\n",
        "      diff = (diff * 255).astype(\"uint8\")\n",
        "      if(score<0.7):\n",
        "        dup_frames.append(frame_name[i])\n",
        "        duplicates=list(set(dup_frames)) #getting only unique values from the list\n",
        "  j=timestamp_quota_int\n",
        "  timestamp_quota_int=timestamp_quota_int+quota\n",
        "  count=count+1 \n",
        "  print(count,j,timestamp_quota_int,i)\n",
        "  if(count>=no_of_loops):\n",
        "    break"
      ],
      "metadata": {
        "colab": {
          "base_uri": "https://localhost:8080/"
        },
        "id": "TMozK9dr6rft",
        "outputId": "f1193b74-6d3e-4a39-a089-05738a1884c5"
      },
      "execution_count": null,
      "outputs": [
        {
          "output_type": "stream",
          "name": "stdout",
          "text": [
            "1 5 10 4\n",
            "2 10 15 9\n",
            "3 15 20 14\n",
            "4 20 25 19\n",
            "5 25 30 24\n",
            "6 30 35 29\n",
            "7 35 40 34\n",
            "8 40 45 39\n",
            "9 45 50 44\n",
            "10 50 55 49\n",
            "11 55 60 54\n",
            "12 60 65 59\n",
            "13 65 70 64\n",
            "14 70 75 69\n",
            "15 75 80 74\n",
            "16 80 85 79\n",
            "17 85 90 84\n",
            "18 90 95 89\n",
            "19 95 100 94\n",
            "20 100 105 99\n",
            "21 105 110 104\n",
            "22 110 115 109\n",
            "23 115 120 114\n",
            "24 120 125 119\n",
            "25 125 130 124\n"
          ]
        }
      ]
    },
    {
      "cell_type": "code",
      "source": [
        "img1=cv2.imread('/content/data/frame1.jpg')\n",
        "img2=cv2.imread('/content/data/frame2.jpg')\n",
        "image1 = cv2.cvtColor(img1, cv2.COLOR_BGR2GRAY)\n",
        "image2 = cv2.cvtColor(img2, cv2.COLOR_BGR2GRAY)          # trainImage\n",
        "score, diff = ssim(image1, image2, full=True)\n",
        "print(score)"
      ],
      "metadata": {
        "colab": {
          "base_uri": "https://localhost:8080/"
        },
        "id": "LPCgJW4l7T6Y",
        "outputId": "7d55f416-6b0f-451d-fe47-a382a368f7a0"
      },
      "execution_count": null,
      "outputs": [
        {
          "output_type": "stream",
          "name": "stdout",
          "text": [
            "0.9338163526728751\n"
          ]
        }
      ]
    },
    {
      "cell_type": "code",
      "source": [
        "print(\"the possible inserted frames with timestamp are\")\n",
        "for index in range(0,len(duplicates)):\n",
        "  for k in new_timeframe:\n",
        "    if(k==duplicates[index]):\n",
        "      print(k,\"with time stamp\",new_timeframe[k])"
      ],
      "metadata": {
        "colab": {
          "base_uri": "https://localhost:8080/"
        },
        "id": "Kdh1CwuZ65KE",
        "outputId": "3ccb56ae-8bf3-44c3-fe11-e862990e1234"
      },
      "execution_count": null,
      "outputs": [
        {
          "output_type": "stream",
          "name": "stdout",
          "text": [
            "the possible inserted frames with timestamp are\n",
            "/content/data/frame55.jpg with time stamp 2.2\n",
            "/content/data/frame21.jpg with time stamp 0.84\n",
            "/content/data/frame87.jpg with time stamp 3.48\n",
            "/content/data/frame109.jpg with time stamp 4.36\n",
            "/content/data/frame50.jpg with time stamp 2.0\n",
            "/content/data/frame106.jpg with time stamp 4.24\n",
            "/content/data/frame81.jpg with time stamp 3.24\n",
            "/content/data/frame24.jpg with time stamp 0.96\n",
            "/content/data/frame85.jpg with time stamp 3.4\n",
            "/content/data/frame90.jpg with time stamp 3.6\n",
            "/content/data/frame98.jpg with time stamp 3.92\n",
            "/content/data/frame20.jpg with time stamp 0.8\n",
            "/content/data/frame52.jpg with time stamp 2.08\n",
            "/content/data/frame107.jpg with time stamp 4.28\n",
            "/content/data/frame89.jpg with time stamp 3.56\n",
            "/content/data/frame16.jpg with time stamp 0.64\n",
            "/content/data/frame17.jpg with time stamp 0.68\n",
            "/content/data/frame56.jpg with time stamp 2.24\n",
            "/content/data/frame80.jpg with time stamp 3.2\n",
            "/content/data/frame96.jpg with time stamp 3.84\n",
            "/content/data/frame88.jpg with time stamp 3.52\n",
            "/content/data/frame19.jpg with time stamp 0.76\n",
            "/content/data/frame15.jpg with time stamp 0.6\n",
            "/content/data/frame84.jpg with time stamp 3.36\n",
            "/content/data/frame91.jpg with time stamp 3.64\n",
            "/content/data/frame92.jpg with time stamp 3.68\n",
            "/content/data/frame93.jpg with time stamp 3.72\n",
            "/content/data/frame104.jpg with time stamp 4.16\n",
            "/content/data/frame105.jpg with time stamp 4.2\n",
            "/content/data/frame18.jpg with time stamp 0.72\n",
            "/content/data/frame102.jpg with time stamp 4.08\n",
            "/content/data/frame95.jpg with time stamp 3.8\n",
            "/content/data/frame86.jpg with time stamp 3.44\n",
            "/content/data/frame108.jpg with time stamp 4.32\n",
            "/content/data/frame82.jpg with time stamp 3.28\n",
            "/content/data/frame103.jpg with time stamp 4.12\n",
            "/content/data/frame100.jpg with time stamp 4.0\n",
            "/content/data/frame94.jpg with time stamp 3.76\n",
            "/content/data/frame97.jpg with time stamp 3.88\n",
            "/content/data/frame57.jpg with time stamp 2.28\n",
            "/content/data/frame83.jpg with time stamp 3.32\n",
            "/content/data/frame99.jpg with time stamp 3.96\n",
            "/content/data/frame58.jpg with time stamp 2.32\n",
            "/content/data/frame101.jpg with time stamp 4.04\n",
            "/content/data/frame53.jpg with time stamp 2.12\n",
            "/content/data/frame22.jpg with time stamp 0.88\n",
            "/content/data/frame51.jpg with time stamp 2.04\n",
            "/content/data/frame59.jpg with time stamp 2.36\n",
            "/content/data/frame54.jpg with time stamp 2.16\n",
            "/content/data/frame23.jpg with time stamp 0.92\n"
          ]
        }
      ]
    }
  ]
}