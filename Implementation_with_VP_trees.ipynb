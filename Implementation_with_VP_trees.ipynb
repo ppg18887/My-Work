{
  "nbformat": 4,
  "nbformat_minor": 0,
  "metadata": {
    "colab": {
      "provenance": []
    },
    "kernelspec": {
      "name": "python3",
      "display_name": "Python 3"
    },
    "language_info": {
      "name": "python"
    }
  },
  "cells": [
    {
      "cell_type": "code",
      "execution_count": 1,
      "metadata": {
        "colab": {
          "base_uri": "https://localhost:8080/"
        },
        "id": "V0O7-nUsV04Y",
        "outputId": "6392a9b2-d586-451b-9ce9-178724bbd3d3"
      },
      "outputs": [
        {
          "output_type": "stream",
          "name": "stdout",
          "text": [
            "Creating..../data/frame0.jpg\n",
            "Creating..../data/frame1.jpg\n",
            "Creating..../data/frame2.jpg\n",
            "Creating..../data/frame3.jpg\n",
            "Creating..../data/frame4.jpg\n",
            "Creating..../data/frame5.jpg\n",
            "Creating..../data/frame6.jpg\n",
            "Creating..../data/frame7.jpg\n",
            "Creating..../data/frame8.jpg\n",
            "Creating..../data/frame9.jpg\n",
            "Creating..../data/frame10.jpg\n",
            "Creating..../data/frame11.jpg\n",
            "Creating..../data/frame12.jpg\n",
            "Creating..../data/frame13.jpg\n",
            "Creating..../data/frame14.jpg\n",
            "Creating..../data/frame15.jpg\n",
            "Creating..../data/frame16.jpg\n",
            "Creating..../data/frame17.jpg\n",
            "Creating..../data/frame18.jpg\n",
            "Creating..../data/frame19.jpg\n",
            "Creating..../data/frame20.jpg\n",
            "Creating..../data/frame21.jpg\n",
            "Creating..../data/frame22.jpg\n",
            "Creating..../data/frame23.jpg\n",
            "Creating..../data/frame24.jpg\n",
            "Creating..../data/frame25.jpg\n",
            "Creating..../data/frame26.jpg\n",
            "Creating..../data/frame27.jpg\n",
            "Creating..../data/frame28.jpg\n",
            "Creating..../data/frame29.jpg\n",
            "Creating..../data/frame30.jpg\n",
            "Creating..../data/frame31.jpg\n",
            "Creating..../data/frame32.jpg\n",
            "Creating..../data/frame33.jpg\n",
            "Creating..../data/frame34.jpg\n",
            "Creating..../data/frame35.jpg\n",
            "Creating..../data/frame36.jpg\n",
            "Creating..../data/frame37.jpg\n",
            "Creating..../data/frame38.jpg\n",
            "Creating..../data/frame39.jpg\n",
            "Creating..../data/frame40.jpg\n",
            "Creating..../data/frame41.jpg\n",
            "Creating..../data/frame42.jpg\n",
            "Creating..../data/frame43.jpg\n",
            "Creating..../data/frame44.jpg\n",
            "Creating..../data/frame45.jpg\n",
            "Creating..../data/frame46.jpg\n",
            "Creating..../data/frame47.jpg\n",
            "Creating..../data/frame48.jpg\n",
            "Creating..../data/frame49.jpg\n",
            "Creating..../data/frame50.jpg\n",
            "Creating..../data/frame51.jpg\n",
            "Creating..../data/frame52.jpg\n",
            "Creating..../data/frame53.jpg\n",
            "Creating..../data/frame54.jpg\n",
            "Creating..../data/frame55.jpg\n",
            "Creating..../data/frame56.jpg\n",
            "Creating..../data/frame57.jpg\n",
            "Creating..../data/frame58.jpg\n",
            "Creating..../data/frame59.jpg\n",
            "Creating..../data/frame60.jpg\n",
            "Creating..../data/frame61.jpg\n",
            "Creating..../data/frame62.jpg\n",
            "Creating..../data/frame63.jpg\n",
            "Creating..../data/frame64.jpg\n",
            "Creating..../data/frame65.jpg\n",
            "Creating..../data/frame66.jpg\n",
            "Creating..../data/frame67.jpg\n",
            "Creating..../data/frame68.jpg\n",
            "Creating..../data/frame69.jpg\n",
            "Creating..../data/frame70.jpg\n",
            "Creating..../data/frame71.jpg\n",
            "Creating..../data/frame72.jpg\n",
            "Creating..../data/frame73.jpg\n",
            "Creating..../data/frame74.jpg\n",
            "Creating..../data/frame75.jpg\n",
            "Creating..../data/frame76.jpg\n",
            "Creating..../data/frame77.jpg\n",
            "Creating..../data/frame78.jpg\n",
            "Creating..../data/frame79.jpg\n",
            "Creating..../data/frame80.jpg\n",
            "Creating..../data/frame81.jpg\n",
            "Creating..../data/frame82.jpg\n",
            "Creating..../data/frame83.jpg\n",
            "Creating..../data/frame84.jpg\n",
            "Creating..../data/frame85.jpg\n",
            "Creating..../data/frame86.jpg\n",
            "Creating..../data/frame87.jpg\n",
            "Creating..../data/frame88.jpg\n",
            "Creating..../data/frame89.jpg\n",
            "Creating..../data/frame90.jpg\n",
            "Creating..../data/frame91.jpg\n",
            "Creating..../data/frame92.jpg\n",
            "Creating..../data/frame93.jpg\n",
            "Creating..../data/frame94.jpg\n",
            "Creating..../data/frame95.jpg\n",
            "Creating..../data/frame96.jpg\n",
            "Creating..../data/frame97.jpg\n",
            "Creating..../data/frame98.jpg\n",
            "Creating..../data/frame99.jpg\n",
            "Creating..../data/frame100.jpg\n",
            "Creating..../data/frame101.jpg\n",
            "Creating..../data/frame102.jpg\n",
            "Creating..../data/frame103.jpg\n",
            "Creating..../data/frame104.jpg\n",
            "Creating..../data/frame105.jpg\n",
            "Creating..../data/frame106.jpg\n",
            "Creating..../data/frame107.jpg\n",
            "Creating..../data/frame108.jpg\n",
            "Creating..../data/frame109.jpg\n",
            "Creating..../data/frame110.jpg\n",
            "Creating..../data/frame111.jpg\n",
            "Creating..../data/frame112.jpg\n",
            "Creating..../data/frame113.jpg\n",
            "Creating..../data/frame114.jpg\n",
            "Creating..../data/frame115.jpg\n",
            "Creating..../data/frame116.jpg\n",
            "Creating..../data/frame117.jpg\n",
            "Creating..../data/frame118.jpg\n",
            "Creating..../data/frame119.jpg\n",
            "Creating..../data/frame120.jpg\n",
            "Creating..../data/frame121.jpg\n",
            "Creating..../data/frame122.jpg\n",
            "Creating..../data/frame123.jpg\n",
            "Creating..../data/frame124.jpg\n",
            "Creating..../data/frame125.jpg\n",
            "Creating..../data/frame126.jpg\n",
            "Creating..../data/frame127.jpg\n",
            "Creating..../data/frame128.jpg\n"
          ]
        }
      ],
      "source": [
        "# Importing all necessary libraries\n",
        "import cv2\n",
        "import os\n",
        "\n",
        "# Read the video from specified path\n",
        "cam = cv2.VideoCapture(\"/content/vid13.avi\")\n",
        "\n",
        "try:\n",
        "\t\n",
        "\t# creating a folder named data\n",
        "\tif not os.path.exists('data'):\n",
        "\t\tos.makedirs('data')\n",
        "\n",
        "# if not created then raise error\n",
        "except OSError:\n",
        "\tprint ('Error: Creating directory of data')\n",
        "\n",
        "# frame\n",
        "currentframe = 0\n",
        "\n",
        "while(True):\n",
        "\t\n",
        "\t# reading from frame\n",
        "\tret,frame = cam.read()\n",
        "\n",
        "\tif ret:\n",
        "\t\t# if video is still left continue creating images\n",
        "\t\tname = './data/frame' + str(currentframe) + '.jpg'\n",
        "\t\tprint ('Creating...' + name)\n",
        "\n",
        "\t\t# writing the extracted images\n",
        "\t\tcv2.imwrite(name, frame)\n",
        "\n",
        "\t\t# increasing counter so that it will\n",
        "\t\t# show how many frames are created\n",
        "\t\tcurrentframe += 1\n",
        "\telse:\n",
        "\t\tbreak\n",
        "\n",
        "# Release all space and windows once done\n",
        "cam.release()\n",
        "cv2.destroyAllWindows()"
      ]
    },
    {
      "cell_type": "code",
      "source": [
        "!pip install moviepy\n",
        "!pip install imageio==2.4.1"
      ],
      "metadata": {
        "colab": {
          "base_uri": "https://localhost:8080/"
        },
        "id": "axSqLXGLiVEo",
        "outputId": "5727de21-034d-42e2-bd08-ee1b56c1a175"
      },
      "execution_count": 2,
      "outputs": [
        {
          "output_type": "stream",
          "name": "stdout",
          "text": [
            "Looking in indexes: https://pypi.org/simple, https://us-python.pkg.dev/colab-wheels/public/simple/\n",
            "Requirement already satisfied: moviepy in /usr/local/lib/python3.9/dist-packages (1.0.3)\n",
            "Requirement already satisfied: numpy in /usr/local/lib/python3.9/dist-packages (from moviepy) (1.22.4)\n",
            "Requirement already satisfied: tqdm<5.0,>=4.11.2 in /usr/local/lib/python3.9/dist-packages (from moviepy) (4.65.0)\n",
            "Requirement already satisfied: requests<3.0,>=2.8.1 in /usr/local/lib/python3.9/dist-packages (from moviepy) (2.27.1)\n",
            "Requirement already satisfied: imageio<3.0,>=2.5 in /usr/local/lib/python3.9/dist-packages (from moviepy) (2.25.1)\n",
            "Requirement already satisfied: decorator<5.0,>=4.0.2 in /usr/local/lib/python3.9/dist-packages (from moviepy) (4.4.2)\n",
            "Requirement already satisfied: proglog<=1.0.0 in /usr/local/lib/python3.9/dist-packages (from moviepy) (0.1.10)\n",
            "Requirement already satisfied: imageio-ffmpeg>=0.2.0 in /usr/local/lib/python3.9/dist-packages (from moviepy) (0.4.8)\n",
            "Requirement already satisfied: pillow>=8.3.2 in /usr/local/lib/python3.9/dist-packages (from imageio<3.0,>=2.5->moviepy) (8.4.0)\n",
            "Requirement already satisfied: urllib3<1.27,>=1.21.1 in /usr/local/lib/python3.9/dist-packages (from requests<3.0,>=2.8.1->moviepy) (1.26.15)\n",
            "Requirement already satisfied: idna<4,>=2.5 in /usr/local/lib/python3.9/dist-packages (from requests<3.0,>=2.8.1->moviepy) (3.4)\n",
            "Requirement already satisfied: certifi>=2017.4.17 in /usr/local/lib/python3.9/dist-packages (from requests<3.0,>=2.8.1->moviepy) (2022.12.7)\n",
            "Requirement already satisfied: charset-normalizer~=2.0.0 in /usr/local/lib/python3.9/dist-packages (from requests<3.0,>=2.8.1->moviepy) (2.0.12)\n",
            "Looking in indexes: https://pypi.org/simple, https://us-python.pkg.dev/colab-wheels/public/simple/\n",
            "Collecting imageio==2.4.1\n",
            "  Downloading imageio-2.4.1.tar.gz (3.3 MB)\n",
            "\u001b[2K     \u001b[90m━━━━━━━━━━━━━━━━━━━━━━━━━━━━━━━━━━━━━━━━\u001b[0m \u001b[32m3.3/3.3 MB\u001b[0m \u001b[31m34.2 MB/s\u001b[0m eta \u001b[36m0:00:00\u001b[0m\n",
            "\u001b[?25h  Preparing metadata (setup.py) ... \u001b[?25l\u001b[?25hdone\n",
            "Requirement already satisfied: numpy in /usr/local/lib/python3.9/dist-packages (from imageio==2.4.1) (1.22.4)\n",
            "Requirement already satisfied: pillow in /usr/local/lib/python3.9/dist-packages (from imageio==2.4.1) (8.4.0)\n",
            "Building wheels for collected packages: imageio\n",
            "  Building wheel for imageio (setup.py) ... \u001b[?25l\u001b[?25hdone\n",
            "  Created wheel for imageio: filename=imageio-2.4.1-py3-none-any.whl size=3303886 sha256=587d18a991d33a3320a2330e813f144746faba62ac93294466e6d7917ccf8dfb\n",
            "  Stored in directory: /root/.cache/pip/wheels/b7/44/b7/2e7cc9c5fe4a893b9cc83a010d4410557bedf6cf3b5829f497\n",
            "Successfully built imageio\n",
            "Installing collected packages: imageio\n",
            "  Attempting uninstall: imageio\n",
            "    Found existing installation: imageio 2.25.1\n",
            "    Uninstalling imageio-2.25.1:\n",
            "      Successfully uninstalled imageio-2.25.1\n",
            "\u001b[31mERROR: pip's dependency resolver does not currently take into account all the packages that are installed. This behaviour is the source of the following dependency conflicts.\n",
            "moviepy 1.0.3 requires imageio<3.0,>=2.5; python_version >= \"3.4\", but you have imageio 2.4.1 which is incompatible.\u001b[0m\u001b[31m\n",
            "\u001b[0mSuccessfully installed imageio-2.4.1\n"
          ]
        }
      ]
    },
    {
      "cell_type": "code",
      "source": [
        "import sys\n",
        "import numpy as np\n",
        "import cv2\n",
        "import moviepy.editor as mpy\n",
        "from matplotlib import pyplot as plt\n",
        "vid = mpy.VideoFileClip('/content/vid13.avi')\n",
        "time_stamp=[]\n",
        "names=[]\n",
        "currentframe=0\n",
        "for i, (tstamp, frame) in enumerate(vid.iter_frames(with_times=True)):\n",
        "  #print(\"Frame no: \"+str(i)+\" with time stamp \"+str(round(tstamp%60,2)))\n",
        "  name='/content/data/frame' + str(i) + '.jpg'\n",
        "  names.append(name)\n",
        "  cv2.imwrite(name,frame)\n",
        "  time_stamp.insert(i,round(tstamp%60,2))\n",
        "#print(names)\n",
        "#print(\"Timestamp of videos is \",time_stamp)\n",
        "time_frames=dict(zip(names,time_stamp))# frames with time stamp values\n",
        "print(dict(zip(names,time_stamp)))\n",
        "print(\"Length\",len(time_stamp))\n",
        "#duration of a single frame\n",
        "duration=np.diff(time_stamp)\n",
        "print(\"Duration of each video frames\",duration)\n",
        "print(\"Mean of duration \",np.mean(duration))"
      ],
      "metadata": {
        "colab": {
          "base_uri": "https://localhost:8080/"
        },
        "id": "Jaw3Ihxxic3-",
        "outputId": "90cb9f95-0dbb-41d0-937f-fbce6f3a938f"
      },
      "execution_count": 3,
      "outputs": [
        {
          "output_type": "stream",
          "name": "stdout",
          "text": [
            "{'/content/data/frame0.jpg': 0.0, '/content/data/frame1.jpg': 0.04, '/content/data/frame2.jpg': 0.08, '/content/data/frame3.jpg': 0.12, '/content/data/frame4.jpg': 0.16, '/content/data/frame5.jpg': 0.2, '/content/data/frame6.jpg': 0.24, '/content/data/frame7.jpg': 0.28, '/content/data/frame8.jpg': 0.32, '/content/data/frame9.jpg': 0.36, '/content/data/frame10.jpg': 0.4, '/content/data/frame11.jpg': 0.44, '/content/data/frame12.jpg': 0.48, '/content/data/frame13.jpg': 0.52, '/content/data/frame14.jpg': 0.56, '/content/data/frame15.jpg': 0.6, '/content/data/frame16.jpg': 0.64, '/content/data/frame17.jpg': 0.68, '/content/data/frame18.jpg': 0.72, '/content/data/frame19.jpg': 0.76, '/content/data/frame20.jpg': 0.8, '/content/data/frame21.jpg': 0.84, '/content/data/frame22.jpg': 0.88, '/content/data/frame23.jpg': 0.92, '/content/data/frame24.jpg': 0.96, '/content/data/frame25.jpg': 1.0, '/content/data/frame26.jpg': 1.04, '/content/data/frame27.jpg': 1.08, '/content/data/frame28.jpg': 1.12, '/content/data/frame29.jpg': 1.16, '/content/data/frame30.jpg': 1.2, '/content/data/frame31.jpg': 1.24, '/content/data/frame32.jpg': 1.28, '/content/data/frame33.jpg': 1.32, '/content/data/frame34.jpg': 1.36, '/content/data/frame35.jpg': 1.4, '/content/data/frame36.jpg': 1.44, '/content/data/frame37.jpg': 1.48, '/content/data/frame38.jpg': 1.52, '/content/data/frame39.jpg': 1.56, '/content/data/frame40.jpg': 1.6, '/content/data/frame41.jpg': 1.64, '/content/data/frame42.jpg': 1.68, '/content/data/frame43.jpg': 1.72, '/content/data/frame44.jpg': 1.76, '/content/data/frame45.jpg': 1.8, '/content/data/frame46.jpg': 1.84, '/content/data/frame47.jpg': 1.88, '/content/data/frame48.jpg': 1.92, '/content/data/frame49.jpg': 1.96, '/content/data/frame50.jpg': 2.0, '/content/data/frame51.jpg': 2.04, '/content/data/frame52.jpg': 2.08, '/content/data/frame53.jpg': 2.12, '/content/data/frame54.jpg': 2.16, '/content/data/frame55.jpg': 2.2, '/content/data/frame56.jpg': 2.24, '/content/data/frame57.jpg': 2.28, '/content/data/frame58.jpg': 2.32, '/content/data/frame59.jpg': 2.36, '/content/data/frame60.jpg': 2.4, '/content/data/frame61.jpg': 2.44, '/content/data/frame62.jpg': 2.48, '/content/data/frame63.jpg': 2.52, '/content/data/frame64.jpg': 2.56, '/content/data/frame65.jpg': 2.6, '/content/data/frame66.jpg': 2.64, '/content/data/frame67.jpg': 2.68, '/content/data/frame68.jpg': 2.72, '/content/data/frame69.jpg': 2.76, '/content/data/frame70.jpg': 2.8, '/content/data/frame71.jpg': 2.84, '/content/data/frame72.jpg': 2.88, '/content/data/frame73.jpg': 2.92, '/content/data/frame74.jpg': 2.96, '/content/data/frame75.jpg': 3.0, '/content/data/frame76.jpg': 3.04, '/content/data/frame77.jpg': 3.08, '/content/data/frame78.jpg': 3.12, '/content/data/frame79.jpg': 3.16, '/content/data/frame80.jpg': 3.2, '/content/data/frame81.jpg': 3.24, '/content/data/frame82.jpg': 3.28, '/content/data/frame83.jpg': 3.32, '/content/data/frame84.jpg': 3.36, '/content/data/frame85.jpg': 3.4, '/content/data/frame86.jpg': 3.44, '/content/data/frame87.jpg': 3.48, '/content/data/frame88.jpg': 3.52, '/content/data/frame89.jpg': 3.56, '/content/data/frame90.jpg': 3.6, '/content/data/frame91.jpg': 3.64, '/content/data/frame92.jpg': 3.68, '/content/data/frame93.jpg': 3.72, '/content/data/frame94.jpg': 3.76, '/content/data/frame95.jpg': 3.8, '/content/data/frame96.jpg': 3.84, '/content/data/frame97.jpg': 3.88, '/content/data/frame98.jpg': 3.92, '/content/data/frame99.jpg': 3.96, '/content/data/frame100.jpg': 4.0, '/content/data/frame101.jpg': 4.04, '/content/data/frame102.jpg': 4.08, '/content/data/frame103.jpg': 4.12, '/content/data/frame104.jpg': 4.16, '/content/data/frame105.jpg': 4.2, '/content/data/frame106.jpg': 4.24, '/content/data/frame107.jpg': 4.28, '/content/data/frame108.jpg': 4.32, '/content/data/frame109.jpg': 4.36, '/content/data/frame110.jpg': 4.4, '/content/data/frame111.jpg': 4.44, '/content/data/frame112.jpg': 4.48, '/content/data/frame113.jpg': 4.52, '/content/data/frame114.jpg': 4.56, '/content/data/frame115.jpg': 4.6, '/content/data/frame116.jpg': 4.64, '/content/data/frame117.jpg': 4.68, '/content/data/frame118.jpg': 4.72, '/content/data/frame119.jpg': 4.76, '/content/data/frame120.jpg': 4.8, '/content/data/frame121.jpg': 4.84, '/content/data/frame122.jpg': 4.88, '/content/data/frame123.jpg': 4.92, '/content/data/frame124.jpg': 4.96, '/content/data/frame125.jpg': 5.0, '/content/data/frame126.jpg': 5.04, '/content/data/frame127.jpg': 5.08, '/content/data/frame128.jpg': 5.12}\n",
            "Length 129\n",
            "Duration of each video frames [0.04 0.04 0.04 0.04 0.04 0.04 0.04 0.04 0.04 0.04 0.04 0.04 0.04 0.04\n",
            " 0.04 0.04 0.04 0.04 0.04 0.04 0.04 0.04 0.04 0.04 0.04 0.04 0.04 0.04\n",
            " 0.04 0.04 0.04 0.04 0.04 0.04 0.04 0.04 0.04 0.04 0.04 0.04 0.04 0.04\n",
            " 0.04 0.04 0.04 0.04 0.04 0.04 0.04 0.04 0.04 0.04 0.04 0.04 0.04 0.04\n",
            " 0.04 0.04 0.04 0.04 0.04 0.04 0.04 0.04 0.04 0.04 0.04 0.04 0.04 0.04\n",
            " 0.04 0.04 0.04 0.04 0.04 0.04 0.04 0.04 0.04 0.04 0.04 0.04 0.04 0.04\n",
            " 0.04 0.04 0.04 0.04 0.04 0.04 0.04 0.04 0.04 0.04 0.04 0.04 0.04 0.04\n",
            " 0.04 0.04 0.04 0.04 0.04 0.04 0.04 0.04 0.04 0.04 0.04 0.04 0.04 0.04\n",
            " 0.04 0.04 0.04 0.04 0.04 0.04 0.04 0.04 0.04 0.04 0.04 0.04 0.04 0.04\n",
            " 0.04 0.04]\n",
            "Mean of duration  0.04\n"
          ]
        }
      ]
    },
    {
      "cell_type": "code",
      "source": [
        "!pip install imagehash"
      ],
      "metadata": {
        "colab": {
          "base_uri": "https://localhost:8080/"
        },
        "id": "ByuGohczijac",
        "outputId": "1b36d77b-6629-4461-8757-ea2d3788352b"
      },
      "execution_count": 4,
      "outputs": [
        {
          "output_type": "stream",
          "name": "stdout",
          "text": [
            "Looking in indexes: https://pypi.org/simple, https://us-python.pkg.dev/colab-wheels/public/simple/\n",
            "Requirement already satisfied: imagehash in /usr/local/lib/python3.9/dist-packages (4.3.1)\n",
            "Requirement already satisfied: PyWavelets in /usr/local/lib/python3.9/dist-packages (from imagehash) (1.4.1)\n",
            "Requirement already satisfied: numpy in /usr/local/lib/python3.9/dist-packages (from imagehash) (1.22.4)\n",
            "Requirement already satisfied: scipy in /usr/local/lib/python3.9/dist-packages (from imagehash) (1.10.1)\n",
            "Requirement already satisfied: pillow in /usr/local/lib/python3.9/dist-packages (from imagehash) (8.4.0)\n"
          ]
        }
      ]
    },
    {
      "cell_type": "code",
      "source": [
        "!pip install vptree"
      ],
      "metadata": {
        "colab": {
          "base_uri": "https://localhost:8080/"
        },
        "id": "1tw83u8sinZH",
        "outputId": "c1f9fac8-d24f-4e15-9fa6-74c1594c2a8b"
      },
      "execution_count": 5,
      "outputs": [
        {
          "output_type": "stream",
          "name": "stdout",
          "text": [
            "Looking in indexes: https://pypi.org/simple, https://us-python.pkg.dev/colab-wheels/public/simple/\n",
            "Collecting vptree\n",
            "  Downloading vptree-1.3.tar.gz (4.4 kB)\n",
            "  Preparing metadata (setup.py) ... \u001b[?25l\u001b[?25hdone\n",
            "Requirement already satisfied: numpy in /usr/local/lib/python3.9/dist-packages (from vptree) (1.22.4)\n",
            "Building wheels for collected packages: vptree\n",
            "  Building wheel for vptree (setup.py) ... \u001b[?25l\u001b[?25hdone\n",
            "  Created wheel for vptree: filename=vptree-1.3-py3-none-any.whl size=4564 sha256=1459a2c6dd963dda1331280f912d9ed76daa6748f6d263858d94808ac645a946\n",
            "  Stored in directory: /root/.cache/pip/wheels/66/58/32/f9f8d807f6b303ce68a51938c9e69b0ab9f592f1efc066ae29\n",
            "Successfully built vptree\n",
            "Installing collected packages: vptree\n",
            "Successfully installed vptree-1.3\n"
          ]
        }
      ]
    },
    {
      "cell_type": "code",
      "source": [
        "t=5\n",
        "while(True):\n",
        "  pos=0\n",
        "  for increment in range(increment,t):\n",
        "    print(pos,increment)\n",
        "    pos=pos+1 \n",
        "  pos=None\n",
        "  increment=t\n",
        "  t=t+5\n",
        "  print(increment,t)\n",
        "  if(t==20):\n",
        "    break "
      ],
      "metadata": {
        "colab": {
          "base_uri": "https://localhost:8080/"
        },
        "id": "Hpqnf_nrxYt2",
        "outputId": "980830d4-3fef-4dea-92f3-b14d982a8ffb"
      },
      "execution_count": 98,
      "outputs": [
        {
          "output_type": "stream",
          "name": "stdout",
          "text": [
            "5 10\n",
            "0 5\n",
            "1 6\n",
            "2 7\n",
            "3 8\n",
            "4 9\n",
            "10 15\n",
            "0 10\n",
            "1 11\n",
            "2 12\n",
            "3 13\n",
            "4 14\n",
            "15 20\n"
          ]
        }
      ]
    },
    {
      "cell_type": "code",
      "source": [
        "print(phash)"
      ],
      "metadata": {
        "colab": {
          "base_uri": "https://localhost:8080/"
        },
        "id": "i_3a-9pjPOK-",
        "outputId": "3e7dc240-dc8a-46e8-d814-7ed0fa40aa96"
      },
      "execution_count": 21,
      "outputs": [
        {
          "output_type": "stream",
          "name": "stdout",
          "text": [
            "{}\n"
          ]
        }
      ]
    },
    {
      "cell_type": "code",
      "source": [
        "import imagehash\n",
        "import numpy\n",
        "import vptree\n",
        "from PIL import Image\n",
        "timestamp_quota=round(len(time_stamp)*np.mean(duration),0)\n",
        "print(timestamp_quota)\n",
        "timestamp_quota_int=timestamp_quota.astype(int)\n",
        "print(timestamp_quota_int)\n",
        "p_hash_array=[]\n",
        "frame=[]\n",
        "near_ones=[]\n",
        "final_hash=[]\n",
        "frame_near_ones=[]\n",
        "final_result={}\n",
        "quota=5\n",
        "pos=0\n",
        "increment=0\n",
        "#p_hash_array = numpy.empty(timestamp_quota_int, dtype=object)\n",
        "while(True):\n",
        "  pos=0\n",
        "  for increment in range(increment,timestamp_quota_int):\n",
        "    value=imagehash.phash(Image.open('/content/data/frame'+str(increment)+'.jpg'))\n",
        "    frame.insert(pos,'/content/data/frame'+str(increment)+'.jpg')\n",
        "    p_hash_array.insert(pos,str(value))\n",
        "    pos=pos+1\n",
        "  pos=None\n",
        "  phash=dict(zip(frame,p_hash_array))\n",
        "  query_in_list=list(phash.values())[0] \n",
        " # print(frame)\n",
        "  query=query_in_list\n",
        "  def hammingDist(str1, str2):\n",
        "      i = 0\n",
        "      count = 0\n",
        "      while(i < len(str1)):\n",
        "          if(str1[i] != str2[i]):\n",
        "              count += 1\n",
        "          i += 1\n",
        "      return count\n",
        "  # Generate some random points.\n",
        "  points=p_hash_array\n",
        "  #query = 'd4d53316c2de3983'\n",
        "  # Build tree in O(n log n) time complexity.\n",
        "  tree = vptree.VPTree(points, hammingDist)\n",
        "  # Query single point.\n",
        "  sing_point=tree.get_n_nearest_neighbors(query,10)\n",
        "  # Query n-points.\n",
        "  #for c in range (0,len(phash)):\n",
        "#  near_ones.append(tree.get_n_nearest_neighbors(query, 10))\n",
        "#  for index in range(0,len(points)):\n",
        "#    if(points[index] not in near_ones):\n",
        "#      pass\n",
        "#    else:\n",
        "#      print(index,\"khallasss\")\n",
        "      #final_hash.append(near_ones[index][index][1])\n",
        "      #frame_near_ones.append( frame[index])\n",
        "    #  frame_near_ones.insert(c,frames_names[c])\n",
        "  #final_dict=dict(zip(near_ones,frame_near_ones))\n",
        "#  final_result=dict(zip(final_hash,frame_near_ones))\n",
        "  #print(points,frame,sing_point)\n",
        "  for p in points:\n",
        "    if any(h==p for (dist, h) in sing_point):\n",
        "        final_hash.append(p) \n",
        "  dict_keys_list = list(phash.values())\n",
        "  dict_keys_list.sort()\n",
        "  for values in dict_keys_list:\n",
        "    if values in final_hash:\n",
        "      frame_near_ones.append({i for i in phash if phash[i]==values}) \n",
        "  final_result={}\n",
        "  increment=timestamp_quota_int\n",
        "  timestamp_quota_int=timestamp_quota_int+5# 5 is a constant\n",
        "  frame.clear()\n",
        "  p_hash_array.clear()\n",
        "  phash.clear()\n",
        "  final_hash.clear()\n",
        "  if increment>len(time_frames):# change value of 26\n",
        "   break\n",
        "  "
      ],
      "metadata": {
        "colab": {
          "base_uri": "https://localhost:8080/",
          "height": 392
        },
        "id": "xtLr5Z9miwm0",
        "outputId": "5290ec85-e7de-403b-c46a-3297a85e5036"
      },
      "execution_count": 176,
      "outputs": [
        {
          "output_type": "stream",
          "name": "stdout",
          "text": [
            "5.0\n",
            "5\n"
          ]
        },
        {
          "output_type": "error",
          "ename": "FileNotFoundError",
          "evalue": "ignored",
          "traceback": [
            "\u001b[0;31m---------------------------------------------------------------------------\u001b[0m",
            "\u001b[0;31mFileNotFoundError\u001b[0m                         Traceback (most recent call last)",
            "\u001b[0;32m<ipython-input-176-865621d21cee>\u001b[0m in \u001b[0;36m<cell line: 20>\u001b[0;34m()\u001b[0m\n\u001b[1;32m     20\u001b[0m   \u001b[0mpos\u001b[0m\u001b[0;34m=\u001b[0m\u001b[0;36m0\u001b[0m\u001b[0;34m\u001b[0m\u001b[0;34m\u001b[0m\u001b[0m\n\u001b[1;32m     21\u001b[0m   \u001b[0;32mfor\u001b[0m \u001b[0mincrement\u001b[0m \u001b[0;32min\u001b[0m \u001b[0mrange\u001b[0m\u001b[0;34m(\u001b[0m\u001b[0mincrement\u001b[0m\u001b[0;34m,\u001b[0m\u001b[0mtimestamp_quota_int\u001b[0m\u001b[0;34m)\u001b[0m\u001b[0;34m:\u001b[0m\u001b[0;34m\u001b[0m\u001b[0;34m\u001b[0m\u001b[0m\n\u001b[0;32m---> 22\u001b[0;31m     \u001b[0mvalue\u001b[0m\u001b[0;34m=\u001b[0m\u001b[0mimagehash\u001b[0m\u001b[0;34m.\u001b[0m\u001b[0mphash\u001b[0m\u001b[0;34m(\u001b[0m\u001b[0mImage\u001b[0m\u001b[0;34m.\u001b[0m\u001b[0mopen\u001b[0m\u001b[0;34m(\u001b[0m\u001b[0;34m'/content/data/frame'\u001b[0m\u001b[0;34m+\u001b[0m\u001b[0mstr\u001b[0m\u001b[0;34m(\u001b[0m\u001b[0mincrement\u001b[0m\u001b[0;34m)\u001b[0m\u001b[0;34m+\u001b[0m\u001b[0;34m'.jpg'\u001b[0m\u001b[0;34m)\u001b[0m\u001b[0;34m)\u001b[0m\u001b[0;34m\u001b[0m\u001b[0;34m\u001b[0m\u001b[0m\n\u001b[0m\u001b[1;32m     23\u001b[0m     \u001b[0mframe\u001b[0m\u001b[0;34m.\u001b[0m\u001b[0minsert\u001b[0m\u001b[0;34m(\u001b[0m\u001b[0mpos\u001b[0m\u001b[0;34m,\u001b[0m\u001b[0;34m'/content/data/frame'\u001b[0m\u001b[0;34m+\u001b[0m\u001b[0mstr\u001b[0m\u001b[0;34m(\u001b[0m\u001b[0mincrement\u001b[0m\u001b[0;34m)\u001b[0m\u001b[0;34m+\u001b[0m\u001b[0;34m'.jpg'\u001b[0m\u001b[0;34m)\u001b[0m\u001b[0;34m\u001b[0m\u001b[0;34m\u001b[0m\u001b[0m\n\u001b[1;32m     24\u001b[0m     \u001b[0mp_hash_array\u001b[0m\u001b[0;34m.\u001b[0m\u001b[0minsert\u001b[0m\u001b[0;34m(\u001b[0m\u001b[0mpos\u001b[0m\u001b[0;34m,\u001b[0m\u001b[0mstr\u001b[0m\u001b[0;34m(\u001b[0m\u001b[0mvalue\u001b[0m\u001b[0;34m)\u001b[0m\u001b[0;34m)\u001b[0m\u001b[0;34m\u001b[0m\u001b[0;34m\u001b[0m\u001b[0m\n",
            "\u001b[0;32m/usr/local/lib/python3.9/dist-packages/PIL/Image.py\u001b[0m in \u001b[0;36mopen\u001b[0;34m(fp, mode, formats)\u001b[0m\n\u001b[1;32m   2973\u001b[0m \u001b[0;34m\u001b[0m\u001b[0m\n\u001b[1;32m   2974\u001b[0m     \u001b[0;32mif\u001b[0m \u001b[0mfilename\u001b[0m\u001b[0;34m:\u001b[0m\u001b[0;34m\u001b[0m\u001b[0;34m\u001b[0m\u001b[0m\n\u001b[0;32m-> 2975\u001b[0;31m         \u001b[0mfp\u001b[0m \u001b[0;34m=\u001b[0m \u001b[0mbuiltins\u001b[0m\u001b[0;34m.\u001b[0m\u001b[0mopen\u001b[0m\u001b[0;34m(\u001b[0m\u001b[0mfilename\u001b[0m\u001b[0;34m,\u001b[0m \u001b[0;34m\"rb\"\u001b[0m\u001b[0;34m)\u001b[0m\u001b[0;34m\u001b[0m\u001b[0;34m\u001b[0m\u001b[0m\n\u001b[0m\u001b[1;32m   2976\u001b[0m         \u001b[0mexclusive_fp\u001b[0m \u001b[0;34m=\u001b[0m \u001b[0;32mTrue\u001b[0m\u001b[0;34m\u001b[0m\u001b[0;34m\u001b[0m\u001b[0m\n\u001b[1;32m   2977\u001b[0m \u001b[0;34m\u001b[0m\u001b[0m\n",
            "\u001b[0;31mFileNotFoundError\u001b[0m: [Errno 2] No such file or directory: '/content/data/frame129.jpg'"
          ]
        }
      ]
    },
    {
      "cell_type": "code",
      "source": [
        "time_frame=list(time_frames)#time_frames is the dictionary with frames and timestamp values\n",
        "print(len(time_frame))\n",
        "print(frame_near_ones)"
      ],
      "metadata": {
        "colab": {
          "base_uri": "https://localhost:8080/"
        },
        "id": "QsxtQme79IHH",
        "outputId": "e9b0b40b-b5dc-433e-c21e-333832560842"
      },
      "execution_count": 205,
      "outputs": [
        {
          "output_type": "stream",
          "name": "stdout",
          "text": [
            "129\n",
            "[{'/content/data/frame0.jpg'}, {'/content/data/frame2.jpg'}, {'/content/data/frame1.jpg'}, {'/content/data/frame5.jpg'}, {'/content/data/frame12.jpg'}, {'/content/data/frame11.jpg'}, {'/content/data/frame10.jpg'}, {'/content/data/frame15.jpg'}, {'/content/data/frame20.jpg', '/content/data/frame23.jpg', '/content/data/frame21.jpg', '/content/data/frame22.jpg'}, {'/content/data/frame20.jpg', '/content/data/frame23.jpg', '/content/data/frame21.jpg', '/content/data/frame22.jpg'}, {'/content/data/frame20.jpg', '/content/data/frame23.jpg', '/content/data/frame21.jpg', '/content/data/frame22.jpg'}, {'/content/data/frame20.jpg', '/content/data/frame23.jpg', '/content/data/frame21.jpg', '/content/data/frame22.jpg'}, {'/content/data/frame24.jpg'}, {'/content/data/frame25.jpg'}, {'/content/data/frame33.jpg'}, {'/content/data/frame30.jpg'}, {'/content/data/frame35.jpg'}, {'/content/data/frame36.jpg'}, {'/content/data/frame40.jpg'}, {'/content/data/frame42.jpg'}, {'/content/data/frame41.jpg'}, {'/content/data/frame47.jpg'}, {'/content/data/frame46.jpg', '/content/data/frame45.jpg'}, {'/content/data/frame46.jpg', '/content/data/frame45.jpg'}, {'/content/data/frame50.jpg'}, {'/content/data/frame55.jpg'}, {'/content/data/frame60.jpg', '/content/data/frame61.jpg'}, {'/content/data/frame60.jpg', '/content/data/frame61.jpg'}, {'/content/data/frame62.jpg'}, {'/content/data/frame66.jpg', '/content/data/frame65.jpg'}, {'/content/data/frame66.jpg', '/content/data/frame65.jpg'}, {'/content/data/frame70.jpg'}, {'/content/data/frame75.jpg'}, {'/content/data/frame80.jpg'}, {'/content/data/frame86.jpg'}, {'/content/data/frame85.jpg'}, {'/content/data/frame90.jpg'}, {'/content/data/frame95.jpg', '/content/data/frame99.jpg', '/content/data/frame96.jpg', '/content/data/frame97.jpg', '/content/data/frame98.jpg'}, {'/content/data/frame95.jpg', '/content/data/frame99.jpg', '/content/data/frame96.jpg', '/content/data/frame97.jpg', '/content/data/frame98.jpg'}, {'/content/data/frame95.jpg', '/content/data/frame99.jpg', '/content/data/frame96.jpg', '/content/data/frame97.jpg', '/content/data/frame98.jpg'}, {'/content/data/frame95.jpg', '/content/data/frame99.jpg', '/content/data/frame96.jpg', '/content/data/frame97.jpg', '/content/data/frame98.jpg'}, {'/content/data/frame95.jpg', '/content/data/frame99.jpg', '/content/data/frame96.jpg', '/content/data/frame97.jpg', '/content/data/frame98.jpg'}, {'/content/data/frame101.jpg'}, {'/content/data/frame100.jpg'}, {'/content/data/frame102.jpg'}, {'/content/data/frame107.jpg'}, {'/content/data/frame109.jpg', '/content/data/frame108.jpg', '/content/data/frame106.jpg', '/content/data/frame105.jpg'}, {'/content/data/frame109.jpg', '/content/data/frame108.jpg', '/content/data/frame106.jpg', '/content/data/frame105.jpg'}, {'/content/data/frame109.jpg', '/content/data/frame108.jpg', '/content/data/frame106.jpg', '/content/data/frame105.jpg'}, {'/content/data/frame109.jpg', '/content/data/frame108.jpg', '/content/data/frame106.jpg', '/content/data/frame105.jpg'}, {'/content/data/frame113.jpg', '/content/data/frame111.jpg', '/content/data/frame114.jpg', '/content/data/frame112.jpg', '/content/data/frame110.jpg'}, {'/content/data/frame113.jpg', '/content/data/frame111.jpg', '/content/data/frame114.jpg', '/content/data/frame112.jpg', '/content/data/frame110.jpg'}, {'/content/data/frame113.jpg', '/content/data/frame111.jpg', '/content/data/frame114.jpg', '/content/data/frame112.jpg', '/content/data/frame110.jpg'}, {'/content/data/frame113.jpg', '/content/data/frame111.jpg', '/content/data/frame114.jpg', '/content/data/frame112.jpg', '/content/data/frame110.jpg'}, {'/content/data/frame113.jpg', '/content/data/frame111.jpg', '/content/data/frame114.jpg', '/content/data/frame112.jpg', '/content/data/frame110.jpg'}, {'/content/data/frame117.jpg', '/content/data/frame119.jpg', '/content/data/frame118.jpg', '/content/data/frame116.jpg', '/content/data/frame115.jpg'}, {'/content/data/frame117.jpg', '/content/data/frame119.jpg', '/content/data/frame118.jpg', '/content/data/frame116.jpg', '/content/data/frame115.jpg'}, {'/content/data/frame117.jpg', '/content/data/frame119.jpg', '/content/data/frame118.jpg', '/content/data/frame116.jpg', '/content/data/frame115.jpg'}, {'/content/data/frame117.jpg', '/content/data/frame119.jpg', '/content/data/frame118.jpg', '/content/data/frame116.jpg', '/content/data/frame115.jpg'}, {'/content/data/frame117.jpg', '/content/data/frame119.jpg', '/content/data/frame118.jpg', '/content/data/frame116.jpg', '/content/data/frame115.jpg'}, {'/content/data/frame120.jpg', '/content/data/frame121.jpg'}, {'/content/data/frame120.jpg', '/content/data/frame121.jpg'}]\n"
          ]
        }
      ]
    },
    {
      "cell_type": "code",
      "source": [
        "import re\n",
        "unique_frames=[]\n",
        "quoted = re.compile('\\{(.*?)\\}')\n",
        "for value in quoted.findall(str(frame_near_ones)):\n",
        "  if value not in unique_frames:\n",
        "    unique_frames.append(value)\n"
      ],
      "metadata": {
        "id": "dE2eOznMOwag"
      },
      "execution_count": 232,
      "outputs": []
    },
    {
      "cell_type": "code",
      "source": [
        "print(unique_frames)"
      ],
      "metadata": {
        "colab": {
          "base_uri": "https://localhost:8080/"
        },
        "id": "L_qRYabNeUtk",
        "outputId": "92a1f254-dbde-4079-b4d8-32c90f47da7d"
      },
      "execution_count": 236,
      "outputs": [
        {
          "output_type": "stream",
          "name": "stdout",
          "text": [
            "[\"'/content/data/frame0.jpg'\", \"'/content/data/frame2.jpg'\", \"'/content/data/frame1.jpg'\", \"'/content/data/frame5.jpg'\", \"'/content/data/frame12.jpg'\", \"'/content/data/frame11.jpg'\", \"'/content/data/frame10.jpg'\", \"'/content/data/frame15.jpg'\", \"'/content/data/frame20.jpg', '/content/data/frame23.jpg', '/content/data/frame21.jpg', '/content/data/frame22.jpg'\", \"'/content/data/frame24.jpg'\", \"'/content/data/frame25.jpg'\", \"'/content/data/frame33.jpg'\", \"'/content/data/frame30.jpg'\", \"'/content/data/frame35.jpg'\", \"'/content/data/frame36.jpg'\", \"'/content/data/frame40.jpg'\", \"'/content/data/frame42.jpg'\", \"'/content/data/frame41.jpg'\", \"'/content/data/frame47.jpg'\", \"'/content/data/frame46.jpg', '/content/data/frame45.jpg'\", \"'/content/data/frame50.jpg'\", \"'/content/data/frame55.jpg'\", \"'/content/data/frame60.jpg', '/content/data/frame61.jpg'\", \"'/content/data/frame62.jpg'\", \"'/content/data/frame66.jpg', '/content/data/frame65.jpg'\", \"'/content/data/frame70.jpg'\", \"'/content/data/frame75.jpg'\", \"'/content/data/frame80.jpg'\", \"'/content/data/frame86.jpg'\", \"'/content/data/frame85.jpg'\", \"'/content/data/frame90.jpg'\", \"'/content/data/frame95.jpg', '/content/data/frame99.jpg', '/content/data/frame96.jpg', '/content/data/frame97.jpg', '/content/data/frame98.jpg'\", \"'/content/data/frame101.jpg'\", \"'/content/data/frame100.jpg'\", \"'/content/data/frame102.jpg'\", \"'/content/data/frame107.jpg'\", \"'/content/data/frame109.jpg', '/content/data/frame108.jpg', '/content/data/frame106.jpg', '/content/data/frame105.jpg'\", \"'/content/data/frame113.jpg', '/content/data/frame111.jpg', '/content/data/frame114.jpg', '/content/data/frame112.jpg', '/content/data/frame110.jpg'\", \"'/content/data/frame117.jpg', '/content/data/frame119.jpg', '/content/data/frame118.jpg', '/content/data/frame116.jpg', '/content/data/frame115.jpg'\", \"'/content/data/frame120.jpg', '/content/data/frame121.jpg'\"]\n"
          ]
        }
      ]
    },
    {
      "cell_type": "code",
      "source": [
        "import ast\n",
        "dd = [ast.literal_eval(i) for i in unique_frames]\n",
        "print(dd[0])"
      ],
      "metadata": {
        "colab": {
          "base_uri": "https://localhost:8080/"
        },
        "id": "v_lGZpb1gJ5u",
        "outputId": "2cb29606-c618-4d5f-e158-a03cf78931c2"
      },
      "execution_count": 252,
      "outputs": [
        {
          "output_type": "stream",
          "name": "stdout",
          "text": [
            "/content/data/frame0.jpg\n"
          ]
        }
      ]
    },
    {
      "cell_type": "code",
      "source": [
        "\n",
        "frame_time=list(time_frames.values())\n",
        "frame_name=list(time_frames.keys())\n",
        "new_time=[]\n",
        "new_frame=[]\n",
        "for i in range(len(frame_name)):\n",
        "   if(frame_name[i]not in dd):\n",
        "     pass\n",
        "   else :\n",
        "        new_time.append(frame_time[i])\n",
        "        new_frame.append(frame_name[i])\n",
        "        "
      ],
      "metadata": {
        "id": "3f974nCz7gpb"
      },
      "execution_count": 259,
      "outputs": []
    },
    {
      "cell_type": "code",
      "source": [
        "dict(zip(new_frame,new_time))"
      ],
      "metadata": {
        "colab": {
          "base_uri": "https://localhost:8080/"
        },
        "id": "NE3mmfFXak1F",
        "outputId": "a0520356-e7e1-400d-f5a3-6f41924ab4ff"
      },
      "execution_count": 260,
      "outputs": [
        {
          "output_type": "execute_result",
          "data": {
            "text/plain": [
              "{'/content/data/frame0.jpg': 0.0,\n",
              " '/content/data/frame1.jpg': 0.04,\n",
              " '/content/data/frame2.jpg': 0.08,\n",
              " '/content/data/frame5.jpg': 0.2,\n",
              " '/content/data/frame10.jpg': 0.4,\n",
              " '/content/data/frame11.jpg': 0.44,\n",
              " '/content/data/frame12.jpg': 0.48,\n",
              " '/content/data/frame15.jpg': 0.6,\n",
              " '/content/data/frame24.jpg': 0.96,\n",
              " '/content/data/frame25.jpg': 1.0,\n",
              " '/content/data/frame30.jpg': 1.2,\n",
              " '/content/data/frame33.jpg': 1.32,\n",
              " '/content/data/frame35.jpg': 1.4,\n",
              " '/content/data/frame36.jpg': 1.44,\n",
              " '/content/data/frame40.jpg': 1.6,\n",
              " '/content/data/frame41.jpg': 1.64,\n",
              " '/content/data/frame42.jpg': 1.68,\n",
              " '/content/data/frame47.jpg': 1.88,\n",
              " '/content/data/frame50.jpg': 2.0,\n",
              " '/content/data/frame55.jpg': 2.2,\n",
              " '/content/data/frame62.jpg': 2.48,\n",
              " '/content/data/frame70.jpg': 2.8,\n",
              " '/content/data/frame75.jpg': 3.0,\n",
              " '/content/data/frame80.jpg': 3.2,\n",
              " '/content/data/frame85.jpg': 3.4,\n",
              " '/content/data/frame86.jpg': 3.44,\n",
              " '/content/data/frame90.jpg': 3.6,\n",
              " '/content/data/frame100.jpg': 4.0,\n",
              " '/content/data/frame101.jpg': 4.04,\n",
              " '/content/data/frame102.jpg': 4.08,\n",
              " '/content/data/frame107.jpg': 4.28}"
            ]
          },
          "metadata": {},
          "execution_count": 260
        }
      ]
    }
  ]
}