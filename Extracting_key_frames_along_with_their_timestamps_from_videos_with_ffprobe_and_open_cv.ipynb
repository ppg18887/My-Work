{
  "nbformat": 4,
  "nbformat_minor": 0,
  "metadata": {
    "colab": {
      "provenance": []
    },
    "kernelspec": {
      "name": "python3",
      "display_name": "Python 3"
    },
    "language_info": {
      "name": "python"
    }
  },
  "cells": [
    {
      "cell_type": "markdown",
      "source": [
        "Extracting key frames along with their timestamps from videos with ffprobe and open cv\n",
        "Reference https://stackoverflow.com/questions/42798634/extracting-keyframes-python-opencv"
      ],
      "metadata": {
        "id": "B_Hw0CsEhWXz"
      }
    },
    {
      "cell_type": "code",
      "execution_count": 13,
      "metadata": {
        "colab": {
          "base_uri": "https://localhost:8080/"
        },
        "id": "fdXFXYmGco9H",
        "outputId": "044585e5-7817-4b49-dea0-70aa703279de"
      },
      "outputs": [
        {
          "output_type": "stream",
          "name": "stdout",
          "text": [
            "Keyframe and Timestamp : alimi exercise1_i_frame_0.jpg  0.04\n",
            "Keyframe and Timestamp : alimi exercise1_i_frame_250.jpg  0.08\n",
            "No I-frames in /content/alimi exercise1.mp4\n"
          ]
        }
      ],
      "source": [
        "import os\n",
        "import cv2\n",
        "import subprocess\n",
        "\n",
        "filename = '/content/alimi exercise1.mp4'\n",
        "out_dir_path='/content/frames_alimi'\n",
        "#count=0\n",
        "if not os.path.exists(out_dir_path):\n",
        " os.mkdir('/content/frames_alimi')\n",
        "def get_frame_types(video_fn):\n",
        "    command = 'ffprobe -v error -show_entries frame=pict_type -of default=noprint_wrappers=1'.split()\n",
        "    out = subprocess.check_output(command + [video_fn]).decode()\n",
        "    frame_types = out.replace('pict_type=','').split()\n",
        "    return zip(range(len(frame_types)), frame_types)\n",
        "\n",
        "def save_i_keyframes(video_fn):\n",
        "    count=0\n",
        "    frame_types = get_frame_types(video_fn)\n",
        "    i_frames = [x[0] for x in frame_types if x[1]=='I']\n",
        "    if i_frames:\n",
        "        basename = os.path.splitext(os.path.basename(video_fn))[0]\n",
        "        cap = cv2.VideoCapture(video_fn)\n",
        "        fps = cap.get(cv2.CAP_PROP_FPS)\n",
        "        for frame_no in i_frames:\n",
        "            cap.set(cv2.CAP_PROP_POS_FRAMES, frame_no)\n",
        "            ret, frame = cap.read()\n",
        "            outname = basename+'_i_frame_'+str(frame_no)+'.jpg'\n",
        "            cv2.imwrite('/content/frames_alimi/'+outname, frame)\n",
        "            count=count+1\n",
        "            print ('Keyframe and Timestamp : '+outname,'',count/fps)\n",
        "        cap.release()\n",
        "    #else:\n",
        "        print ('No I-frames in '+video_fn)\n",
        "\n",
        "if __name__ == '__main__':\n",
        "    save_i_keyframes(filename)"
      ]
    }
  ]
}